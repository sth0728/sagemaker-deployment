{
 "cells": [
  {
   "cell_type": "markdown",
   "metadata": {},
   "source": [
    "# Sentiment Analysis\n",
    "\n",
    "## Using XGBoost in SageMaker\n",
    "\n",
    "_Deep Learning Nanodegree Program | Deployment_\n",
    "\n",
    "---\n",
    "\n",
    "In this example of using Amazon's SageMaker service we will construct a random tree model to predict the sentiment of a movie review. You may have seen a version of this example in a pervious lesson although it would have been done using the sklearn package. Instead, we will be using the XGBoost package as it is provided to us by Amazon.\n",
    "\n",
    "## Instructions\n",
    "\n",
    "Some template code has already been provided for you, and you will need to implement additional functionality to successfully complete this notebook. You will not need to modify the included code beyond what is requested. Sections that begin with '**TODO**' in the header indicate that you need to complete or implement some portion within them. Instructions will be provided for each section and the specifics of the implementation are marked in the code block with a `# TODO: ...` comment. Please be sure to read the instructions carefully!\n",
    "\n",
    "In addition to implementing code, there will be questions for you to answer which relate to the task and your implementation. Each section where you will answer a question is preceded by a '**Question:**' header. Carefully read each question and provide your answer below the '**Answer:**' header by editing the Markdown cell.\n",
    "\n",
    "> **Note**: Code and Markdown cells can be executed using the **Shift+Enter** keyboard shortcut. In addition, a cell can be edited by typically clicking it (double-click for Markdown cells) or by pressing **Enter** while it is highlighted."
   ]
  },
  {
   "cell_type": "markdown",
   "metadata": {},
   "source": [
    "## Step 1: Downloading the data\n",
    "\n",
    "The dataset we are going to use is very popular among researchers in Natural Language Processing, usually referred to as the [IMDb dataset](http://ai.stanford.edu/~amaas/data/sentiment/). It consists of movie reviews from the website [imdb.com](http://www.imdb.com/), each labeled as either '**pos**itive', if the reviewer enjoyed the film, or '**neg**ative' otherwise.\n",
    "\n",
    "> Maas, Andrew L., et al. [Learning Word Vectors for Sentiment Analysis](http://ai.stanford.edu/~amaas/data/sentiment/). In _Proceedings of the 49th Annual Meeting of the Association for Computational Linguistics: Human Language Technologies_. Association for Computational Linguistics, 2011.\n",
    "\n",
    "We begin by using some Jupyter Notebook magic to download and extract the dataset."
   ]
  },
  {
   "cell_type": "code",
   "execution_count": 1,
   "metadata": {},
   "outputs": [
    {
     "name": "stdout",
     "output_type": "stream",
     "text": [
      "mkdir: cannot create directory ‘../data’: File exists\n",
      "--2020-02-08 03:06:36--  http://ai.stanford.edu/~amaas/data/sentiment/aclImdb_v1.tar.gz\n",
      "Resolving ai.stanford.edu (ai.stanford.edu)... 171.64.68.10\n",
      "Connecting to ai.stanford.edu (ai.stanford.edu)|171.64.68.10|:80... connected.\n",
      "HTTP request sent, awaiting response... 200 OK\n",
      "Length: 84125825 (80M) [application/x-gzip]\n",
      "Saving to: ‘../data/aclImdb_v1.tar.gz’\n",
      "\n",
      "../data/aclImdb_v1. 100%[===================>]  80.23M  10.6MB/s    in 9.3s    \n",
      "\n",
      "2020-02-08 03:06:46 (8.62 MB/s) - ‘../data/aclImdb_v1.tar.gz’ saved [84125825/84125825]\n",
      "\n"
     ]
    }
   ],
   "source": [
    "%mkdir ../data\n",
    "!wget -O ../data/aclImdb_v1.tar.gz http://ai.stanford.edu/~amaas/data/sentiment/aclImdb_v1.tar.gz\n",
    "!tar -zxf ../data/aclImdb_v1.tar.gz -C ../data"
   ]
  },
  {
   "cell_type": "markdown",
   "metadata": {},
   "source": [
    "## Step 2: Preparing the data\n",
    "\n",
    "The data we have downloaded is split into various files, each of which contains a single review. It will be much easier going forward if we combine these individual files into two large files, one for training and one for testing."
   ]
  },
  {
   "cell_type": "code",
   "execution_count": 31,
   "metadata": {},
   "outputs": [],
   "source": [
    "import os\n",
    "import glob\n",
    "\n",
    "def read_imdb_data(data_dir='../data/aclImdb'):\n",
    "    data = {}\n",
    "    labels = {}\n",
    "    \n",
    "    for data_type in ['train', 'test']:\n",
    "        data[data_type] = {}\n",
    "        labels[data_type] = {}\n",
    "        \n",
    "        for sentiment in ['pos', 'neg']:\n",
    "            data[data_type][sentiment] = []\n",
    "            labels[data_type][sentiment] = []\n",
    "            \n",
    "            path = os.path.join(data_dir, data_type, sentiment, '*.txt')\n",
    "            files = glob.glob(path)\n",
    "            \n",
    "            for f in files:\n",
    "                with open(f) as review:\n",
    "                    data[data_type][sentiment].append(review.read())\n",
    "                    # Here we represent a positive review by '1' and a negative review by '0'\n",
    "                    labels[data_type][sentiment].append(1 if sentiment == 'pos' else 0)\n",
    "                    \n",
    "            assert len(data[data_type][sentiment]) == len(labels[data_type][sentiment]), \\\n",
    "                    \"{}/{} data size does not match labels size\".format(data_type, sentiment)\n",
    "                \n",
    "    return data, labels"
   ]
  },
  {
   "cell_type": "code",
   "execution_count": 32,
   "metadata": {},
   "outputs": [
    {
     "name": "stdout",
     "output_type": "stream",
     "text": [
      "IMDB reviews: train = 12500 pos / 12500 neg, test = 12500 pos / 12500 neg\n"
     ]
    }
   ],
   "source": [
    "data, labels = read_imdb_data()\n",
    "print(\"IMDB reviews: train = {} pos / {} neg, test = {} pos / {} neg\".format(\n",
    "            len(data['train']['pos']), len(data['train']['neg']),\n",
    "            len(data['test']['pos']), len(data['test']['neg'])))"
   ]
  },
  {
   "cell_type": "code",
   "execution_count": 33,
   "metadata": {},
   "outputs": [],
   "source": [
    "from sklearn.utils import shuffle\n",
    "\n",
    "def prepare_imdb_data(data, labels):\n",
    "    \"\"\"Prepare training and test sets from IMDb movie reviews.\"\"\"\n",
    "    \n",
    "    #Combine positive and negative reviews and labels\n",
    "    data_train = data['train']['pos'] + data['train']['neg']\n",
    "    data_test = data['test']['pos'] + data['test']['neg']\n",
    "    labels_train = labels['train']['pos'] + labels['train']['neg']\n",
    "    labels_test = labels['test']['pos'] + labels['test']['neg']\n",
    "    \n",
    "    #Shuffle reviews and corresponding labels within training and test sets\n",
    "    data_train, labels_train = shuffle(data_train, labels_train)\n",
    "    data_test, labels_test = shuffle(data_test, labels_test)\n",
    "    \n",
    "    # Return a unified training data, test data, training labels, test labets\n",
    "    return data_train, data_test, labels_train, labels_test"
   ]
  },
  {
   "cell_type": "code",
   "execution_count": 34,
   "metadata": {},
   "outputs": [
    {
     "name": "stdout",
     "output_type": "stream",
     "text": [
      "IMDb reviews (combined): train = 25000, test = 25000\n"
     ]
    }
   ],
   "source": [
    "train_X, test_X, train_y, test_y = prepare_imdb_data(data, labels)\n",
    "print(\"IMDb reviews (combined): train = {}, test = {}\".format(len(train_X), len(test_X)))"
   ]
  },
  {
   "cell_type": "code",
   "execution_count": 35,
   "metadata": {},
   "outputs": [
    {
     "data": {
      "text/plain": [
       "\"Fatal Error is a really cool movie! Robert Wagner, Antonio Sabato Jr., Janine Turner, Jason Schombing, Malcolm Stewart, and David Lewis are in the film. The movie's cast all acted really well. Robert Wagner played his role good. The relationship between Saboto Jr. and Turner was a nice one. There maybe a big age difference there but they are a unique couple. The two actors really worked together rather well. The music in the film is really good by Ron Ramin and fits the flick very well. There is a bunch of stuff that happens in the movie which you don't know what is going on and what is going to happen next and this movie keeps you going from beginning to end. If you like Robert Wagner, Antonio Sabato Jr., and Janine Turner then watch this excellent movie!\""
      ]
     },
     "execution_count": 35,
     "metadata": {},
     "output_type": "execute_result"
    }
   ],
   "source": [
    "train_X[100]"
   ]
  },
  {
   "cell_type": "markdown",
   "metadata": {},
   "source": [
    "## Step 3: Processing the data\n",
    "\n",
    "Now that we have our training and testing datasets merged and ready to use, we need to start processing the raw data into something that will be useable by our machine learning algorithm. To begin with, we remove any html formatting that may appear in the reviews and perform some standard natural language processing in order to homogenize the data."
   ]
  },
  {
   "cell_type": "code",
   "execution_count": 36,
   "metadata": {},
   "outputs": [
    {
     "name": "stdout",
     "output_type": "stream",
     "text": [
      "[nltk_data] Downloading package stopwords to\n",
      "[nltk_data]     /home/ec2-user/nltk_data...\n",
      "[nltk_data]   Package stopwords is already up-to-date!\n"
     ]
    }
   ],
   "source": [
    "import nltk\n",
    "nltk.download(\"stopwords\")\n",
    "from nltk.corpus import stopwords\n",
    "from nltk.stem.porter import *\n",
    "stemmer = PorterStemmer()"
   ]
  },
  {
   "cell_type": "code",
   "execution_count": 37,
   "metadata": {},
   "outputs": [],
   "source": [
    "import re\n",
    "from bs4 import BeautifulSoup\n",
    "\n",
    "def review_to_words(review):\n",
    "    text = BeautifulSoup(review, \"html.parser\").get_text() # Remove HTML tags\n",
    "    text = re.sub(r\"[^a-zA-Z0-9]\", \" \", text.lower()) # Convert to lower case\n",
    "    words = text.split() # Split string into words\n",
    "    words = [w for w in words if w not in stopwords.words(\"english\")] # Remove stopwords\n",
    "    words = [PorterStemmer().stem(w) for w in words] # stem\n",
    "    \n",
    "    return words"
   ]
  },
  {
   "cell_type": "code",
   "execution_count": 38,
   "metadata": {},
   "outputs": [],
   "source": [
    "import pickle\n",
    "\n",
    "cache_dir = os.path.join(\"../cache\", \"sentiment_analysis\")  # where to store cache files\n",
    "os.makedirs(cache_dir, exist_ok=True)  # ensure cache directory exists\n",
    "\n",
    "def preprocess_data(data_train, data_test, labels_train, labels_test,\n",
    "                    cache_dir=cache_dir, cache_file=\"preprocessed_data.pkl\"):\n",
    "    \"\"\"Convert each review to words; read from cache if available.\"\"\"\n",
    "\n",
    "    # If cache_file is not None, try to read from it first\n",
    "    cache_data = None\n",
    "    if cache_file is not None:\n",
    "        try:\n",
    "            with open(os.path.join(cache_dir, cache_file), \"rb\") as f:\n",
    "                cache_data = pickle.load(f)\n",
    "            print(\"Read preprocessed data from cache file:\", cache_file)\n",
    "        except:\n",
    "            pass  # unable to read from cache, but that's okay\n",
    "    \n",
    "    # If cache is missing, then do the heavy lifting\n",
    "    if cache_data is None:\n",
    "        # Preprocess training and test data to obtain words for each review\n",
    "        #words_train = list(map(review_to_words, data_train))\n",
    "        #words_test = list(map(review_to_words, data_test))\n",
    "        words_train = [review_to_words(review) for review in data_train]\n",
    "        words_test = [review_to_words(review) for review in data_test]\n",
    "        \n",
    "        # Write to cache file for future runs\n",
    "        if cache_file is not None:\n",
    "            cache_data = dict(words_train=words_train, words_test=words_test,\n",
    "                              labels_train=labels_train, labels_test=labels_test)\n",
    "            with open(os.path.join(cache_dir, cache_file), \"wb\") as f:\n",
    "                pickle.dump(cache_data, f)\n",
    "            print(\"Wrote preprocessed data to cache file:\", cache_file)\n",
    "    else:\n",
    "        # Unpack data loaded from cache file\n",
    "        words_train, words_test, labels_train, labels_test = (cache_data['words_train'],\n",
    "                cache_data['words_test'], cache_data['labels_train'], cache_data['labels_test'])\n",
    "    \n",
    "    return words_train, words_test, labels_train, labels_test"
   ]
  },
  {
   "cell_type": "code",
   "execution_count": 39,
   "metadata": {},
   "outputs": [
    {
     "name": "stdout",
     "output_type": "stream",
     "text": [
      "Read preprocessed data from cache file: preprocessed_data.pkl\n"
     ]
    }
   ],
   "source": [
    "# Preprocess data\n",
    "train_X, test_X, train_y, test_y = preprocess_data(train_X, test_X, train_y, test_y)"
   ]
  },
  {
   "cell_type": "markdown",
   "metadata": {},
   "source": [
    "### Extract Bag-of-Words features\n",
    "\n",
    "For the model we will be implementing, rather than using the reviews directly, we are going to transform each review into a Bag-of-Words feature representation. Keep in mind that 'in the wild' we will only have access to the training set so our transformer can only use the training set to construct a representation."
   ]
  },
  {
   "cell_type": "code",
   "execution_count": 40,
   "metadata": {},
   "outputs": [],
   "source": [
    "import numpy as np\n",
    "from sklearn.feature_extraction.text import CountVectorizer\n",
    "from sklearn.externals import joblib\n",
    "# joblib is an enhanced version of pickle that is more efficient for storing NumPy arrays\n",
    "\n",
    "def extract_BoW_features(words_train, words_test, vocabulary_size=5000,\n",
    "                         cache_dir=cache_dir, cache_file=\"bow_features.pkl\"):\n",
    "    \"\"\"Extract Bag-of-Words for a given set of documents, already preprocessed into words.\"\"\"\n",
    "    \n",
    "    # If cache_file is not None, try to read from it first\n",
    "    cache_data = None\n",
    "    if cache_file is not None:\n",
    "        try:\n",
    "            with open(os.path.join(cache_dir, cache_file), \"rb\") as f:\n",
    "                cache_data = joblib.load(f)\n",
    "            print(\"Read features from cache file:\", cache_file)\n",
    "        except:\n",
    "            pass  # unable to read from cache, but that's okay\n",
    "    \n",
    "    # If cache is missing, then do the heavy lifting\n",
    "    if cache_data is None:\n",
    "        # Fit a vectorizer to training documents and use it to transform them\n",
    "        # NOTE: Training documents have already been preprocessed and tokenized into words;\n",
    "        #       pass in dummy functions to skip those steps, e.g. preprocessor=lambda x: x\n",
    "        vectorizer = CountVectorizer(max_features=vocabulary_size,\n",
    "                preprocessor=lambda x: x, tokenizer=lambda x: x)  # already preprocessed\n",
    "        features_train = vectorizer.fit_transform(words_train).toarray()\n",
    "\n",
    "        # Apply the same vectorizer to transform the test documents (ignore unknown words)\n",
    "        features_test = vectorizer.transform(words_test).toarray()\n",
    "        \n",
    "        # NOTE: Remember to convert the features using .toarray() for a compact representation\n",
    "        \n",
    "        # Write to cache file for future runs (store vocabulary as well)\n",
    "        if cache_file is not None:\n",
    "            vocabulary = vectorizer.vocabulary_\n",
    "            cache_data = dict(features_train=features_train, features_test=features_test,\n",
    "                             vocabulary=vocabulary)\n",
    "            with open(os.path.join(cache_dir, cache_file), \"wb\") as f:\n",
    "                joblib.dump(cache_data, f)\n",
    "            print(\"Wrote features to cache file:\", cache_file)\n",
    "    else:\n",
    "        # Unpack data loaded from cache file\n",
    "        features_train, features_test, vocabulary = (cache_data['features_train'],\n",
    "                cache_data['features_test'], cache_data['vocabulary'])\n",
    "    \n",
    "    # Return both the extracted features as well as the vocabulary\n",
    "    return features_train, features_test, vocabulary"
   ]
  },
  {
   "cell_type": "code",
   "execution_count": 41,
   "metadata": {},
   "outputs": [
    {
     "name": "stdout",
     "output_type": "stream",
     "text": [
      "Read features from cache file: bow_features.pkl\n"
     ]
    }
   ],
   "source": [
    "# Extract Bag of Words features for both training and test datasets\n",
    "train_X, test_X, vocabulary = extract_BoW_features(train_X, test_X)"
   ]
  },
  {
   "cell_type": "markdown",
   "metadata": {},
   "source": [
    "## Step 4: Classification using XGBoost\n",
    "\n",
    "Now that we have created the feature representation of our training (and testing) data, it is time to start setting up and using the XGBoost classifier provided by SageMaker.\n",
    "\n",
    "### Writing the dataset\n",
    "\n",
    "The XGBoost classifier that we will be using requires the dataset to be written to a file and stored using Amazon S3. To do this, we will start by splitting the training dataset into two parts, the data we will train the model with and a validation set. Then, we will write those datasets to a file and upload the files to S3. In addition, we will write the test set input to a file and upload the file to S3. This is so that we can use SageMakers Batch Transform functionality to test our model once we've fit it."
   ]
  },
  {
   "cell_type": "code",
   "execution_count": 42,
   "metadata": {},
   "outputs": [],
   "source": [
    "import pandas as pd\n",
    "\n",
    "val_X = pd.DataFrame(train_X[:10000])\n",
    "train_X = pd.DataFrame(train_X[10000:])\n",
    "\n",
    "val_y = pd.DataFrame(train_y[:10000])\n",
    "train_y = pd.DataFrame(train_y[10000:])\n",
    "\n",
    "test_y = pd.DataFrame(test_y)\n",
    "test_X = pd.DataFrame(test_X)"
   ]
  },
  {
   "cell_type": "markdown",
   "metadata": {},
   "source": [
    "The documentation for the XGBoost algorithm in SageMaker requires that the saved datasets should contain no headers or index and that for the training and validation data, the label should occur first for each sample.\n",
    "\n",
    "For more information about this and other algorithms, the SageMaker developer documentation can be found on __[Amazon's website.](https://docs.aws.amazon.com/sagemaker/latest/dg/)__"
   ]
  },
  {
   "cell_type": "code",
   "execution_count": 43,
   "metadata": {},
   "outputs": [],
   "source": [
    "# First we make sure that the local directory in which we'd like to store the training and validation csv files exists.\n",
    "data_dir = '../data/xgboost'\n",
    "if not os.path.exists(data_dir):\n",
    "    os.makedirs(data_dir)"
   ]
  },
  {
   "cell_type": "code",
   "execution_count": 44,
   "metadata": {},
   "outputs": [],
   "source": [
    "# First, save the test data to test.csv in the data_dir directory. Note that we do not save the associated ground truth\n",
    "# labels, instead we will use them later to compare with our model output.\n",
    "\n",
    "#pd.concat([test_y, test_X], axis=1).to_csv(os.path.join(data_dir, 'test.csv'), header=False, index=False)\n",
    "pd.DataFrame(test_X).to_csv(os.path.join(data_dir, 'test.csv'), header=False, index=False)\n",
    "pd.concat([val_y, val_X], axis=1).to_csv(os.path.join(data_dir, 'validation.csv'), header=False, index=False)\n",
    "pd.concat([train_y, train_X], axis=1).to_csv(os.path.join(data_dir, 'train.csv'), header=False, index=False)"
   ]
  },
  {
   "cell_type": "code",
   "execution_count": 45,
   "metadata": {},
   "outputs": [],
   "source": [
    "# To save a bit of memory we can set text_X, train_X, val_X, train_y and val_y to None.\n",
    "\n",
    "train_X = val_X = train_y = val_y = None"
   ]
  },
  {
   "cell_type": "markdown",
   "metadata": {},
   "source": [
    "### Uploading Training / Validation files to S3\n",
    "\n",
    "Amazon's S3 service allows us to store files that can be access by both the built-in training models such as the XGBoost model we will be using as well as custom models such as the one we will see a little later.\n",
    "\n",
    "For this, and most other tasks we will be doing using SageMaker, there are two methods we could use. The first is to use the low level functionality of SageMaker which requires knowing each of the objects involved in the SageMaker environment. The second is to use the high level functionality in which certain choices have been made on the user's behalf. The low level approach benefits from allowing the user a great deal of flexibility while the high level approach makes development much quicker. For our purposes we will opt to use the high level approach although using the low-level approach is certainly an option.\n",
    "\n",
    "Recall the method `upload_data()` which is a member of object representing our current SageMaker session. What this method does is upload the data to the default bucket (which is created if it does not exist) into the path described by the key_prefix variable. To see this for yourself, once you have uploaded the data files, go to the S3 console and look to see where the files have been uploaded.\n",
    "\n",
    "For additional resources, see the __[SageMaker API documentation](http://sagemaker.readthedocs.io/en/latest/)__ and in addition the __[SageMaker Developer Guide.](https://docs.aws.amazon.com/sagemaker/latest/dg/)__"
   ]
  },
  {
   "cell_type": "code",
   "execution_count": 46,
   "metadata": {},
   "outputs": [],
   "source": [
    "import sagemaker\n",
    "\n",
    "session = sagemaker.Session() # Store the current SageMaker session\n",
    "\n",
    "# S3 prefix (which folder will we use)\n",
    "prefix = 'sentiment-xgboost'\n",
    "\n",
    "test_location = session.upload_data(os.path.join(data_dir, 'test.csv'), key_prefix=prefix)\n",
    "val_location = session.upload_data(os.path.join(data_dir, 'validation.csv'), key_prefix=prefix)\n",
    "train_location = session.upload_data(os.path.join(data_dir, 'train.csv'), key_prefix=prefix)"
   ]
  },
  {
   "cell_type": "markdown",
   "metadata": {},
   "source": [
    "### (TODO) Creating a hypertuned XGBoost model\n",
    "\n",
    "Now that the data has been uploaded it is time to create the XGBoost model. As in the Boston Housing notebook, the first step is to create an estimator object which will be used as the *base* of your hyperparameter tuning job."
   ]
  },
  {
   "cell_type": "code",
   "execution_count": 18,
   "metadata": {},
   "outputs": [],
   "source": [
    "from sagemaker import get_execution_role\n",
    "\n",
    "# Our current execution role is require when creating the model as the training\n",
    "# and inference code will need to access the model artifacts.\n",
    "role = get_execution_role()"
   ]
  },
  {
   "cell_type": "code",
   "execution_count": 19,
   "metadata": {},
   "outputs": [
    {
     "name": "stderr",
     "output_type": "stream",
     "text": [
      "WARNING:root:There is a more up to date SageMaker XGBoost image. To use the newer image, please set 'repo_version'='0.90-1'. For example:\n",
      "\tget_image_uri(region, 'xgboost', '0.90-1').\n"
     ]
    }
   ],
   "source": [
    "# We need to retrieve the location of the container which is provided by Amazon for using XGBoost.\n",
    "# As a matter of convenience, the training and inference code both use the same container.\n",
    "from sagemaker.amazon.amazon_estimator import get_image_uri\n",
    "\n",
    "container = get_image_uri(session.boto_region_name, 'xgboost')"
   ]
  },
  {
   "cell_type": "code",
   "execution_count": 20,
   "metadata": {},
   "outputs": [],
   "source": [
    "# TODO: Create a SageMaker estimator using the container location determined in the previous cell.\n",
    "#       It is recommended that you use a single training instance of type ml.m4.xlarge. It is also\n",
    "#       recommended that you use 's3://{}/{}/output'.format(session.default_bucket(), prefix) as the\n",
    "#       output path.\n",
    "\n",
    "xgb = sagemaker.estimator.Estimator(container, # The name of the training container\n",
    "                                    role,      # The IAM role to use (our current role in this case)\n",
    "                                    train_instance_count=1, # The number of instances to use for training\n",
    "                                    train_instance_type='ml.m4.xlarge', # The type of instance ot use for training\n",
    "                                    output_path='s3://{}/{}/output'.format(session.default_bucket(), prefix),\n",
    "                                                                        # Where to save the output (the model artifacts)\n",
    "                                    sagemaker_session=session) # The current SageMaker session\n",
    "\n",
    "# TODO: Set the XGBoost hyperparameters in the xgb object. Don't forget that in this case we have a binary\n",
    "#       label so we should be using the 'binary:logistic' objective.\n",
    "\n",
    "xgb.set_hyperparameters(max_depth=5,\n",
    "                        eta=0.2,\n",
    "                        gamma=4,\n",
    "                        min_child_weight=6,\n",
    "                        subsample=0.8,\n",
    "                        objective='binary:logistic',\n",
    "                        early_stopping_rounds=10,\n",
    "                        num_round=200)"
   ]
  },
  {
   "cell_type": "markdown",
   "metadata": {},
   "source": [
    "### (TODO) Create the hyperparameter tuner\n",
    "\n",
    "Now that the base estimator has been set up we need to construct a hyperparameter tuner object which we will use to request SageMaker construct a hyperparameter tuning job.\n",
    "\n",
    "**Note:** Training a single sentiment analysis XGBoost model takes longer than training a Boston Housing XGBoost model so if you don't want the hyperparameter tuning job to take too long, make sure to not set the total number of models (jobs) too high."
   ]
  },
  {
   "cell_type": "code",
   "execution_count": 21,
   "metadata": {},
   "outputs": [],
   "source": [
    "# First, make sure to import the relevant objects used to construct the tuner\n",
    "from sagemaker.tuner import IntegerParameter, ContinuousParameter, HyperparameterTuner\n",
    "\n",
    "# TODO: Create the hyperparameter tuner object\n",
    "\n",
    "xgb_hyperparameter_tuner = HyperparameterTuner(estimator = xgb, # The estimator object to use as the basis for the training jobs.\n",
    "                                               objective_metric_name = 'validation:rmse', # The metric used to compare trained models.\n",
    "                                               objective_type = 'Minimize', # Whether we wish to minimize or maximize the metric.\n",
    "                                               max_jobs = 10, # The total number of models to train\n",
    "                                               max_parallel_jobs = 3, # The number of models to train in parallel\n",
    "                                               hyperparameter_ranges = {\n",
    "                                                    'max_depth': IntegerParameter(3, 12),\n",
    "                                                    'eta'      : ContinuousParameter(0.05, 0.5),\n",
    "                                                    'min_child_weight': IntegerParameter(2, 8),\n",
    "                                                    'subsample': ContinuousParameter(0.5, 0.9),\n",
    "                                                    'gamma': ContinuousParameter(0, 10),\n",
    "                                               })"
   ]
  },
  {
   "cell_type": "markdown",
   "metadata": {},
   "source": [
    "### Fit the hyperparameter tuner\n",
    "\n",
    "Now that the hyperparameter tuner object has been constructed, it is time to fit the various models and find the best performing model."
   ]
  },
  {
   "cell_type": "code",
   "execution_count": 22,
   "metadata": {},
   "outputs": [],
   "source": [
    "s3_input_train = sagemaker.s3_input(s3_data=train_location, content_type='csv')\n",
    "s3_input_validation = sagemaker.s3_input(s3_data=val_location, content_type='csv')"
   ]
  },
  {
   "cell_type": "code",
   "execution_count": 23,
   "metadata": {},
   "outputs": [],
   "source": [
    "xgb_hyperparameter_tuner.fit({'train': s3_input_train, 'validation': s3_input_validation})"
   ]
  },
  {
   "cell_type": "markdown",
   "metadata": {},
   "source": [
    "Remember that the tuning job is constructed and run in the background so if we want to see the progress of our training job we need to call the `wait()` method."
   ]
  },
  {
   "cell_type": "code",
   "execution_count": 24,
   "metadata": {},
   "outputs": [
    {
     "name": "stdout",
     "output_type": "stream",
     "text": [
      ".....................................................................................................................................................................................................................................................................................................................................................................................!\n"
     ]
    }
   ],
   "source": [
    "xgb_hyperparameter_tuner.wait()"
   ]
  },
  {
   "cell_type": "markdown",
   "metadata": {},
   "source": [
    "### (TODO) Testing the model\n",
    "\n",
    "Now that we've run our hyperparameter tuning job, it's time to see how well the best performing model actually performs. To do this we will use SageMaker's Batch Transform functionality. Batch Transform is a convenient way to perform inference on a large dataset in a way that is not realtime. That is, we don't necessarily need to use our model's results immediately and instead we can peform inference on a large number of samples. An example of this in industry might be peforming an end of month report. This method of inference can also be useful to us as it means to can perform inference on our entire test set. \n",
    "\n",
    "Remember that in order to create a transformer object to perform the batch transform job, we need a trained estimator object. We can do that using the `attach()` method, creating an estimator object which is attached to the best trained job."
   ]
  },
  {
   "cell_type": "code",
   "execution_count": 25,
   "metadata": {},
   "outputs": [
    {
     "name": "stdout",
     "output_type": "stream",
     "text": [
      "2020-02-08 04:14:05 Starting - Preparing the instances for training\n",
      "2020-02-08 04:14:05 Downloading - Downloading input data\n",
      "2020-02-08 04:14:05 Training - Training image download completed. Training in progress.\n",
      "2020-02-08 04:14:05 Uploading - Uploading generated training model\n",
      "2020-02-08 04:14:05 Completed - Training job completed\u001b[34mArguments: train\u001b[0m\n",
      "\u001b[34m[2020-02-08:04:08:55:INFO] Running standalone xgboost training.\u001b[0m\n",
      "\u001b[34m[2020-02-08:04:08:55:INFO] Setting up HPO optimized metric to be : rmse\u001b[0m\n",
      "\u001b[34m[2020-02-08:04:08:55:INFO] File size need to be processed in the node: 238.47mb. Available memory size in the node: 8524.45mb\u001b[0m\n",
      "\u001b[34m[2020-02-08:04:08:55:INFO] Determined delimiter of CSV input is ','\u001b[0m\n",
      "\u001b[34m[04:08:55] S3DistributionType set as FullyReplicated\u001b[0m\n",
      "\u001b[34m[04:08:56] 15000x5000 matrix with 75000000 entries loaded from /opt/ml/input/data/train?format=csv&label_column=0&delimiter=,\u001b[0m\n",
      "\u001b[34m[2020-02-08:04:08:56:INFO] Determined delimiter of CSV input is ','\u001b[0m\n",
      "\u001b[34m[04:08:56] S3DistributionType set as FullyReplicated\u001b[0m\n",
      "\u001b[34m[04:08:57] 10000x5000 matrix with 50000000 entries loaded from /opt/ml/input/data/validation?format=csv&label_column=0&delimiter=,\u001b[0m\n",
      "\u001b[34m[04:09:01] src/tree/updater_prune.cc:74: tree pruning end, 1 roots, 50 extra nodes, 26 pruned nodes, max_depth=6\u001b[0m\n",
      "\u001b[34m[0]#011train-rmse:0.470598#011validation-rmse:0.471452\u001b[0m\n",
      "\u001b[34mMultiple eval metrics have been passed: 'validation-rmse' will be used for early stopping.\n",
      "\u001b[0m\n",
      "\u001b[34mWill train until validation-rmse hasn't improved in 10 rounds.\u001b[0m\n",
      "\u001b[34m[04:09:03] src/tree/updater_prune.cc:74: tree pruning end, 1 roots, 50 extra nodes, 20 pruned nodes, max_depth=6\u001b[0m\n",
      "\u001b[34m[1]#011train-rmse:0.452628#011validation-rmse:0.454439\u001b[0m\n",
      "\u001b[34m[04:09:04] src/tree/updater_prune.cc:74: tree pruning end, 1 roots, 52 extra nodes, 20 pruned nodes, max_depth=6\u001b[0m\n",
      "\u001b[34m[2]#011train-rmse:0.438547#011validation-rmse:0.442111\u001b[0m\n",
      "\u001b[34m[04:09:06] src/tree/updater_prune.cc:74: tree pruning end, 1 roots, 42 extra nodes, 6 pruned nodes, max_depth=6\u001b[0m\n",
      "\u001b[34m[3]#011train-rmse:0.428519#011validation-rmse:0.433185\u001b[0m\n",
      "\u001b[34m[04:09:08] src/tree/updater_prune.cc:74: tree pruning end, 1 roots, 42 extra nodes, 14 pruned nodes, max_depth=6\u001b[0m\n",
      "\u001b[34m[4]#011train-rmse:0.419877#011validation-rmse:0.426394\u001b[0m\n",
      "\u001b[34m[04:09:09] src/tree/updater_prune.cc:74: tree pruning end, 1 roots, 42 extra nodes, 16 pruned nodes, max_depth=6\u001b[0m\n",
      "\u001b[34m[5]#011train-rmse:0.412525#011validation-rmse:0.420314\u001b[0m\n",
      "\u001b[34m[04:09:11] src/tree/updater_prune.cc:74: tree pruning end, 1 roots, 38 extra nodes, 12 pruned nodes, max_depth=6\u001b[0m\n",
      "\u001b[34m[6]#011train-rmse:0.405907#011validation-rmse:0.415108\u001b[0m\n",
      "\u001b[34m[04:09:12] src/tree/updater_prune.cc:74: tree pruning end, 1 roots, 36 extra nodes, 16 pruned nodes, max_depth=6\u001b[0m\n",
      "\u001b[34m[7]#011train-rmse:0.399751#011validation-rmse:0.408797\u001b[0m\n",
      "\u001b[34m[04:09:14] src/tree/updater_prune.cc:74: tree pruning end, 1 roots, 30 extra nodes, 12 pruned nodes, max_depth=6\u001b[0m\n",
      "\u001b[34m[8]#011train-rmse:0.394494#011validation-rmse:0.404914\u001b[0m\n",
      "\u001b[34m[04:09:15] src/tree/updater_prune.cc:74: tree pruning end, 1 roots, 28 extra nodes, 12 pruned nodes, max_depth=6\u001b[0m\n",
      "\u001b[34m[9]#011train-rmse:0.38947#011validation-rmse:0.400635\u001b[0m\n",
      "\u001b[34m[04:09:17] src/tree/updater_prune.cc:74: tree pruning end, 1 roots, 36 extra nodes, 10 pruned nodes, max_depth=6\u001b[0m\n",
      "\u001b[34m[10]#011train-rmse:0.384722#011validation-rmse:0.396812\u001b[0m\n",
      "\u001b[34m[04:09:18] src/tree/updater_prune.cc:74: tree pruning end, 1 roots, 36 extra nodes, 12 pruned nodes, max_depth=6\u001b[0m\n",
      "\u001b[34m[11]#011train-rmse:0.380195#011validation-rmse:0.393186\u001b[0m\n",
      "\u001b[34m[04:09:20] src/tree/updater_prune.cc:74: tree pruning end, 1 roots, 32 extra nodes, 14 pruned nodes, max_depth=6\u001b[0m\n",
      "\u001b[34m[12]#011train-rmse:0.376494#011validation-rmse:0.390316\u001b[0m\n",
      "\u001b[34m[04:09:21] src/tree/updater_prune.cc:74: tree pruning end, 1 roots, 42 extra nodes, 16 pruned nodes, max_depth=6\u001b[0m\n",
      "\u001b[34m[13]#011train-rmse:0.371968#011validation-rmse:0.387388\u001b[0m\n",
      "\u001b[34m[04:09:22] src/tree/updater_prune.cc:74: tree pruning end, 1 roots, 28 extra nodes, 14 pruned nodes, max_depth=6\u001b[0m\n",
      "\u001b[34m[14]#011train-rmse:0.368779#011validation-rmse:0.384841\u001b[0m\n",
      "\u001b[34m[04:09:24] src/tree/updater_prune.cc:74: tree pruning end, 1 roots, 30 extra nodes, 24 pruned nodes, max_depth=6\u001b[0m\n",
      "\u001b[34m[15]#011train-rmse:0.365404#011validation-rmse:0.382167\u001b[0m\n",
      "\u001b[34m[04:09:25] src/tree/updater_prune.cc:74: tree pruning end, 1 roots, 26 extra nodes, 14 pruned nodes, max_depth=6\u001b[0m\n",
      "\u001b[34m[16]#011train-rmse:0.362127#011validation-rmse:0.379533\u001b[0m\n",
      "\u001b[34m[04:09:27] src/tree/updater_prune.cc:74: tree pruning end, 1 roots, 22 extra nodes, 26 pruned nodes, max_depth=6\u001b[0m\n",
      "\u001b[34m[17]#011train-rmse:0.359515#011validation-rmse:0.377147\u001b[0m\n",
      "\u001b[34m[04:09:28] src/tree/updater_prune.cc:74: tree pruning end, 1 roots, 32 extra nodes, 26 pruned nodes, max_depth=6\u001b[0m\n",
      "\u001b[34m[18]#011train-rmse:0.356898#011validation-rmse:0.37512\u001b[0m\n",
      "\u001b[34m[04:09:30] src/tree/updater_prune.cc:74: tree pruning end, 1 roots, 24 extra nodes, 18 pruned nodes, max_depth=6\u001b[0m\n",
      "\u001b[34m[19]#011train-rmse:0.354639#011validation-rmse:0.372926\u001b[0m\n",
      "\u001b[34m[04:09:31] src/tree/updater_prune.cc:74: tree pruning end, 1 roots, 40 extra nodes, 12 pruned nodes, max_depth=6\u001b[0m\n",
      "\u001b[34m[20]#011train-rmse:0.351794#011validation-rmse:0.370939\u001b[0m\n",
      "\u001b[34m[04:09:33] src/tree/updater_prune.cc:74: tree pruning end, 1 roots, 26 extra nodes, 14 pruned nodes, max_depth=6\u001b[0m\n",
      "\u001b[34m[21]#011train-rmse:0.349319#011validation-rmse:0.36916\u001b[0m\n",
      "\u001b[34m[04:09:34] src/tree/updater_prune.cc:74: tree pruning end, 1 roots, 38 extra nodes, 16 pruned nodes, max_depth=6\u001b[0m\n",
      "\u001b[34m[22]#011train-rmse:0.34654#011validation-rmse:0.367553\u001b[0m\n",
      "\u001b[34m[04:09:36] src/tree/updater_prune.cc:74: tree pruning end, 1 roots, 28 extra nodes, 14 pruned nodes, max_depth=6\u001b[0m\n",
      "\u001b[34m[23]#011train-rmse:0.344412#011validation-rmse:0.366069\u001b[0m\n",
      "\u001b[34m[04:09:37] src/tree/updater_prune.cc:74: tree pruning end, 1 roots, 18 extra nodes, 18 pruned nodes, max_depth=6\u001b[0m\n",
      "\u001b[34m[24]#011train-rmse:0.342668#011validation-rmse:0.364861\u001b[0m\n",
      "\u001b[34m[04:09:39] src/tree/updater_prune.cc:74: tree pruning end, 1 roots, 22 extra nodes, 18 pruned nodes, max_depth=6\u001b[0m\n",
      "\u001b[34m[25]#011train-rmse:0.340598#011validation-rmse:0.363237\u001b[0m\n",
      "\u001b[34m[04:09:40] src/tree/updater_prune.cc:74: tree pruning end, 1 roots, 20 extra nodes, 22 pruned nodes, max_depth=6\u001b[0m\n",
      "\u001b[34m[26]#011train-rmse:0.338735#011validation-rmse:0.361998\u001b[0m\n",
      "\u001b[34m[04:09:42] src/tree/updater_prune.cc:74: tree pruning end, 1 roots, 52 extra nodes, 20 pruned nodes, max_depth=6\u001b[0m\n",
      "\u001b[34m[27]#011train-rmse:0.335687#011validation-rmse:0.360449\u001b[0m\n",
      "\u001b[34m[04:09:43] src/tree/updater_prune.cc:74: tree pruning end, 1 roots, 18 extra nodes, 20 pruned nodes, max_depth=6\u001b[0m\n",
      "\u001b[34m[28]#011train-rmse:0.33409#011validation-rmse:0.359258\u001b[0m\n",
      "\u001b[34m[04:09:44] src/tree/updater_prune.cc:74: tree pruning end, 1 roots, 20 extra nodes, 22 pruned nodes, max_depth=6\u001b[0m\n",
      "\u001b[34m[29]#011train-rmse:0.332369#011validation-rmse:0.357715\u001b[0m\n",
      "\u001b[34m[04:09:46] src/tree/updater_prune.cc:74: tree pruning end, 1 roots, 22 extra nodes, 8 pruned nodes, max_depth=6\u001b[0m\n",
      "\u001b[34m[30]#011train-rmse:0.33086#011validation-rmse:0.356689\u001b[0m\n",
      "\u001b[34m[04:09:47] src/tree/updater_prune.cc:74: tree pruning end, 1 roots, 24 extra nodes, 12 pruned nodes, max_depth=6\u001b[0m\n",
      "\u001b[34m[31]#011train-rmse:0.329274#011validation-rmse:0.355672\u001b[0m\n",
      "\u001b[34m[04:09:49] src/tree/updater_prune.cc:74: tree pruning end, 1 roots, 34 extra nodes, 26 pruned nodes, max_depth=6\u001b[0m\n",
      "\u001b[34m[32]#011train-rmse:0.32762#011validation-rmse:0.355004\u001b[0m\n",
      "\u001b[34m[04:09:50] src/tree/updater_prune.cc:74: tree pruning end, 1 roots, 14 extra nodes, 12 pruned nodes, max_depth=6\u001b[0m\n",
      "\u001b[34m[33]#011train-rmse:0.326329#011validation-rmse:0.353929\u001b[0m\n",
      "\u001b[34m[04:09:52] src/tree/updater_prune.cc:74: tree pruning end, 1 roots, 30 extra nodes, 16 pruned nodes, max_depth=6\u001b[0m\n",
      "\u001b[34m[34]#011train-rmse:0.32466#011validation-rmse:0.352814\u001b[0m\n",
      "\u001b[34m[04:09:53] src/tree/updater_prune.cc:74: tree pruning end, 1 roots, 16 extra nodes, 28 pruned nodes, max_depth=6\u001b[0m\n",
      "\u001b[34m[35]#011train-rmse:0.323464#011validation-rmse:0.352062\u001b[0m\n",
      "\u001b[34m[04:09:55] src/tree/updater_prune.cc:74: tree pruning end, 1 roots, 16 extra nodes, 20 pruned nodes, max_depth=6\u001b[0m\n",
      "\u001b[34m[36]#011train-rmse:0.3222#011validation-rmse:0.351139\u001b[0m\n",
      "\u001b[34m[04:09:56] src/tree/updater_prune.cc:74: tree pruning end, 1 roots, 20 extra nodes, 24 pruned nodes, max_depth=6\u001b[0m\n",
      "\u001b[34m[37]#011train-rmse:0.320963#011validation-rmse:0.350051\u001b[0m\n",
      "\u001b[34m[04:09:58] src/tree/updater_prune.cc:74: tree pruning end, 1 roots, 24 extra nodes, 20 pruned nodes, max_depth=6\u001b[0m\n",
      "\u001b[34m[38]#011train-rmse:0.31949#011validation-rmse:0.349227\u001b[0m\n",
      "\u001b[34m[04:09:59] src/tree/updater_prune.cc:74: tree pruning end, 1 roots, 20 extra nodes, 20 pruned nodes, max_depth=6\u001b[0m\n",
      "\u001b[34m[39]#011train-rmse:0.318253#011validation-rmse:0.348309\u001b[0m\n",
      "\u001b[34m[04:10:01] src/tree/updater_prune.cc:74: tree pruning end, 1 roots, 18 extra nodes, 14 pruned nodes, max_depth=6\u001b[0m\n",
      "\u001b[34m[40]#011train-rmse:0.317206#011validation-rmse:0.347459\u001b[0m\n",
      "\u001b[34m[04:10:02] src/tree/updater_prune.cc:74: tree pruning end, 1 roots, 34 extra nodes, 18 pruned nodes, max_depth=6\u001b[0m\n",
      "\u001b[34m[41]#011train-rmse:0.315657#011validation-rmse:0.346887\u001b[0m\n",
      "\u001b[34m[04:10:04] src/tree/updater_prune.cc:74: tree pruning end, 1 roots, 30 extra nodes, 10 pruned nodes, max_depth=6\u001b[0m\n",
      "\u001b[34m[42]#011train-rmse:0.314072#011validation-rmse:0.346405\u001b[0m\n",
      "\u001b[34m[04:10:05] src/tree/updater_prune.cc:74: tree pruning end, 1 roots, 16 extra nodes, 20 pruned nodes, max_depth=6\u001b[0m\n",
      "\u001b[34m[43]#011train-rmse:0.313184#011validation-rmse:0.345675\u001b[0m\n",
      "\u001b[34m[04:10:07] src/tree/updater_prune.cc:74: tree pruning end, 1 roots, 20 extra nodes, 14 pruned nodes, max_depth=6\u001b[0m\n",
      "\u001b[34m[44]#011train-rmse:0.312019#011validation-rmse:0.344816\u001b[0m\n",
      "\u001b[34m[04:10:08] src/tree/updater_prune.cc:74: tree pruning end, 1 roots, 22 extra nodes, 14 pruned nodes, max_depth=6\u001b[0m\n",
      "\u001b[34m[45]#011train-rmse:0.310921#011validation-rmse:0.344266\u001b[0m\n",
      "\u001b[34m[04:10:09] src/tree/updater_prune.cc:74: tree pruning end, 1 roots, 32 extra nodes, 28 pruned nodes, max_depth=6\u001b[0m\n",
      "\u001b[34m[46]#011train-rmse:0.309259#011validation-rmse:0.343435\u001b[0m\n",
      "\u001b[34m[04:10:11] src/tree/updater_prune.cc:74: tree pruning end, 1 roots, 18 extra nodes, 14 pruned nodes, max_depth=6\u001b[0m\n",
      "\u001b[34m[47]#011train-rmse:0.308334#011validation-rmse:0.342919\u001b[0m\n",
      "\u001b[34m[04:10:12] src/tree/updater_prune.cc:74: tree pruning end, 1 roots, 16 extra nodes, 22 pruned nodes, max_depth=6\u001b[0m\n",
      "\u001b[34m[48]#011train-rmse:0.3075#011validation-rmse:0.341934\u001b[0m\n",
      "\u001b[34m[04:10:14] src/tree/updater_prune.cc:74: tree pruning end, 1 roots, 18 extra nodes, 26 pruned nodes, max_depth=6\u001b[0m\n",
      "\u001b[34m[49]#011train-rmse:0.306483#011validation-rmse:0.341334\u001b[0m\n",
      "\u001b[34m[04:10:15] src/tree/updater_prune.cc:74: tree pruning end, 1 roots, 16 extra nodes, 14 pruned nodes, max_depth=6\u001b[0m\n",
      "\u001b[34m[50]#011train-rmse:0.305545#011validation-rmse:0.340844\u001b[0m\n",
      "\u001b[34m[04:10:17] src/tree/updater_prune.cc:74: tree pruning end, 1 roots, 12 extra nodes, 14 pruned nodes, max_depth=6\u001b[0m\n",
      "\u001b[34m[51]#011train-rmse:0.304874#011validation-rmse:0.340203\u001b[0m\n",
      "\u001b[34m[04:10:18] src/tree/updater_prune.cc:74: tree pruning end, 1 roots, 12 extra nodes, 14 pruned nodes, max_depth=6\u001b[0m\n",
      "\u001b[34m[52]#011train-rmse:0.30421#011validation-rmse:0.339587\u001b[0m\n",
      "\u001b[34m[04:10:20] src/tree/updater_prune.cc:74: tree pruning end, 1 roots, 14 extra nodes, 12 pruned nodes, max_depth=6\u001b[0m\n",
      "\u001b[34m[53]#011train-rmse:0.303543#011validation-rmse:0.338879\u001b[0m\n",
      "\u001b[34m[04:10:21] src/tree/updater_prune.cc:74: tree pruning end, 1 roots, 26 extra nodes, 28 pruned nodes, max_depth=6\u001b[0m\n",
      "\u001b[34m[54]#011train-rmse:0.302441#011validation-rmse:0.338289\u001b[0m\n",
      "\u001b[34m[04:10:23] src/tree/updater_prune.cc:74: tree pruning end, 1 roots, 14 extra nodes, 16 pruned nodes, max_depth=6\u001b[0m\n",
      "\u001b[34m[55]#011train-rmse:0.301766#011validation-rmse:0.337783\u001b[0m\n",
      "\u001b[34m[04:10:24] src/tree/updater_prune.cc:74: tree pruning end, 1 roots, 22 extra nodes, 18 pruned nodes, max_depth=6\u001b[0m\n",
      "\u001b[34m[56]#011train-rmse:0.300641#011validation-rmse:0.337625\u001b[0m\n",
      "\u001b[34m[04:10:26] src/tree/updater_prune.cc:74: tree pruning end, 1 roots, 22 extra nodes, 10 pruned nodes, max_depth=6\u001b[0m\n",
      "\u001b[34m[57]#011train-rmse:0.299645#011validation-rmse:0.33688\u001b[0m\n",
      "\u001b[34m[04:10:27] src/tree/updater_prune.cc:74: tree pruning end, 1 roots, 18 extra nodes, 26 pruned nodes, max_depth=6\u001b[0m\n",
      "\u001b[34m[58]#011train-rmse:0.298826#011validation-rmse:0.336656\u001b[0m\n",
      "\u001b[34m[04:10:29] src/tree/updater_prune.cc:74: tree pruning end, 1 roots, 16 extra nodes, 6 pruned nodes, max_depth=6\u001b[0m\n",
      "\u001b[34m[59]#011train-rmse:0.297998#011validation-rmse:0.33606\u001b[0m\n",
      "\u001b[34m[04:10:30] src/tree/updater_prune.cc:74: tree pruning end, 1 roots, 20 extra nodes, 16 pruned nodes, max_depth=6\u001b[0m\n",
      "\u001b[34m[60]#011train-rmse:0.297059#011validation-rmse:0.335388\u001b[0m\n",
      "\u001b[34m[04:10:32] src/tree/updater_prune.cc:74: tree pruning end, 1 roots, 20 extra nodes, 18 pruned nodes, max_depth=6\u001b[0m\n",
      "\u001b[34m[61]#011train-rmse:0.296019#011validation-rmse:0.334935\u001b[0m\n",
      "\u001b[34m[04:10:33] src/tree/updater_prune.cc:74: tree pruning end, 1 roots, 16 extra nodes, 22 pruned nodes, max_depth=6\u001b[0m\n",
      "\u001b[34m[62]#011train-rmse:0.295306#011validation-rmse:0.334509\u001b[0m\n",
      "\u001b[34m[04:10:34] src/tree/updater_prune.cc:74: tree pruning end, 1 roots, 18 extra nodes, 6 pruned nodes, max_depth=6\u001b[0m\n",
      "\u001b[34m[63]#011train-rmse:0.294421#011validation-rmse:0.334014\u001b[0m\n",
      "\u001b[34m[04:10:36] src/tree/updater_prune.cc:74: tree pruning end, 1 roots, 14 extra nodes, 18 pruned nodes, max_depth=6\u001b[0m\n",
      "\u001b[34m[64]#011train-rmse:0.293796#011validation-rmse:0.33351\u001b[0m\n",
      "\u001b[34m[04:10:37] src/tree/updater_prune.cc:74: tree pruning end, 1 roots, 20 extra nodes, 24 pruned nodes, max_depth=6\u001b[0m\n",
      "\u001b[34m[65]#011train-rmse:0.293004#011validation-rmse:0.332966\u001b[0m\n",
      "\u001b[34m[04:10:39] src/tree/updater_prune.cc:74: tree pruning end, 1 roots, 18 extra nodes, 14 pruned nodes, max_depth=6\u001b[0m\n",
      "\u001b[34m[66]#011train-rmse:0.292212#011validation-rmse:0.332727\u001b[0m\n",
      "\u001b[34m[04:10:40] src/tree/updater_prune.cc:74: tree pruning end, 1 roots, 20 extra nodes, 18 pruned nodes, max_depth=6\u001b[0m\n",
      "\u001b[34m[67]#011train-rmse:0.291308#011validation-rmse:0.332087\u001b[0m\n",
      "\u001b[34m[04:10:42] src/tree/updater_prune.cc:74: tree pruning end, 1 roots, 32 extra nodes, 14 pruned nodes, max_depth=6\u001b[0m\n",
      "\u001b[34m[68]#011train-rmse:0.290044#011validation-rmse:0.331429\u001b[0m\n",
      "\u001b[34m[04:10:43] src/tree/updater_prune.cc:74: tree pruning end, 1 roots, 12 extra nodes, 16 pruned nodes, max_depth=6\u001b[0m\n",
      "\u001b[34m[69]#011train-rmse:0.289493#011validation-rmse:0.330936\u001b[0m\n",
      "\u001b[34m[04:10:45] src/tree/updater_prune.cc:74: tree pruning end, 1 roots, 24 extra nodes, 14 pruned nodes, max_depth=6\u001b[0m\n",
      "\u001b[34m[70]#011train-rmse:0.288557#011validation-rmse:0.330332\u001b[0m\n",
      "\u001b[34m[04:10:46] src/tree/updater_prune.cc:74: tree pruning end, 1 roots, 12 extra nodes, 22 pruned nodes, max_depth=6\u001b[0m\n",
      "\u001b[34m[71]#011train-rmse:0.288065#011validation-rmse:0.33031\u001b[0m\n",
      "\u001b[34m[04:10:48] src/tree/updater_prune.cc:74: tree pruning end, 1 roots, 12 extra nodes, 8 pruned nodes, max_depth=6\u001b[0m\n",
      "\u001b[34m[72]#011train-rmse:0.287463#011validation-rmse:0.329728\u001b[0m\n",
      "\u001b[34m[04:10:49] src/tree/updater_prune.cc:74: tree pruning end, 1 roots, 22 extra nodes, 16 pruned nodes, max_depth=6\u001b[0m\n",
      "\u001b[34m[73]#011train-rmse:0.286575#011validation-rmse:0.32946\u001b[0m\n",
      "\u001b[34m[04:10:51] src/tree/updater_prune.cc:74: tree pruning end, 1 roots, 18 extra nodes, 20 pruned nodes, max_depth=6\u001b[0m\n",
      "\u001b[34m[74]#011train-rmse:0.285705#011validation-rmse:0.329035\u001b[0m\n",
      "\u001b[34m[04:10:52] src/tree/updater_prune.cc:74: tree pruning end, 1 roots, 12 extra nodes, 6 pruned nodes, max_depth=6\u001b[0m\n",
      "\u001b[34m[75]#011train-rmse:0.285241#011validation-rmse:0.32861\u001b[0m\n",
      "\u001b[34m[04:10:54] src/tree/updater_prune.cc:74: tree pruning end, 1 roots, 18 extra nodes, 12 pruned nodes, max_depth=6\u001b[0m\n",
      "\u001b[34m[76]#011train-rmse:0.284478#011validation-rmse:0.32824\u001b[0m\n",
      "\u001b[34m[04:10:55] src/tree/updater_prune.cc:74: tree pruning end, 1 roots, 12 extra nodes, 8 pruned nodes, max_depth=6\u001b[0m\n",
      "\u001b[34m[77]#011train-rmse:0.283995#011validation-rmse:0.32814\u001b[0m\n",
      "\u001b[34m[04:10:56] src/tree/updater_prune.cc:74: tree pruning end, 1 roots, 16 extra nodes, 22 pruned nodes, max_depth=6\u001b[0m\n",
      "\u001b[34m[78]#011train-rmse:0.283315#011validation-rmse:0.327675\u001b[0m\n",
      "\u001b[34m[04:10:58] src/tree/updater_prune.cc:74: tree pruning end, 1 roots, 14 extra nodes, 14 pruned nodes, max_depth=6\u001b[0m\n",
      "\u001b[34m[79]#011train-rmse:0.282738#011validation-rmse:0.327448\u001b[0m\n",
      "\u001b[34m[04:10:59] src/tree/updater_prune.cc:74: tree pruning end, 1 roots, 18 extra nodes, 20 pruned nodes, max_depth=6\u001b[0m\n",
      "\u001b[34m[80]#011train-rmse:0.282061#011validation-rmse:0.327138\u001b[0m\n",
      "\u001b[34m[04:11:01] src/tree/updater_prune.cc:74: tree pruning end, 1 roots, 22 extra nodes, 16 pruned nodes, max_depth=6\u001b[0m\n",
      "\u001b[34m[81]#011train-rmse:0.281113#011validation-rmse:0.326963\u001b[0m\n",
      "\u001b[34m[04:11:02] src/tree/updater_prune.cc:74: tree pruning end, 1 roots, 18 extra nodes, 6 pruned nodes, max_depth=6\u001b[0m\n",
      "\u001b[34m[82]#011train-rmse:0.280395#011validation-rmse:0.3266\u001b[0m\n",
      "\u001b[34m[04:11:04] src/tree/updater_prune.cc:74: tree pruning end, 1 roots, 24 extra nodes, 14 pruned nodes, max_depth=6\u001b[0m\n",
      "\u001b[34m[83]#011train-rmse:0.279355#011validation-rmse:0.326181\u001b[0m\n",
      "\u001b[34m[04:11:05] src/tree/updater_prune.cc:74: tree pruning end, 1 roots, 12 extra nodes, 24 pruned nodes, max_depth=6\u001b[0m\n",
      "\u001b[34m[84]#011train-rmse:0.278884#011validation-rmse:0.325939\u001b[0m\n",
      "\u001b[34m[04:11:07] src/tree/updater_prune.cc:74: tree pruning end, 1 roots, 14 extra nodes, 22 pruned nodes, max_depth=6\u001b[0m\n",
      "\u001b[34m[85]#011train-rmse:0.278312#011validation-rmse:0.32558\u001b[0m\n",
      "\u001b[34m[04:11:08] src/tree/updater_prune.cc:74: tree pruning end, 1 roots, 14 extra nodes, 12 pruned nodes, max_depth=6\u001b[0m\n",
      "\u001b[34m[86]#011train-rmse:0.277724#011validation-rmse:0.325224\u001b[0m\n",
      "\u001b[34m[04:11:10] src/tree/updater_prune.cc:74: tree pruning end, 1 roots, 26 extra nodes, 14 pruned nodes, max_depth=6\u001b[0m\n",
      "\u001b[34m[87]#011train-rmse:0.276831#011validation-rmse:0.32531\u001b[0m\n",
      "\u001b[34m[04:11:11] src/tree/updater_prune.cc:74: tree pruning end, 1 roots, 16 extra nodes, 28 pruned nodes, max_depth=6\u001b[0m\n",
      "\u001b[34m[88]#011train-rmse:0.276218#011validation-rmse:0.324983\u001b[0m\n",
      "\u001b[34m[04:11:13] src/tree/updater_prune.cc:74: tree pruning end, 1 roots, 18 extra nodes, 16 pruned nodes, max_depth=6\u001b[0m\n",
      "\u001b[34m[89]#011train-rmse:0.27567#011validation-rmse:0.324695\u001b[0m\n",
      "\u001b[34m[04:11:14] src/tree/updater_prune.cc:74: tree pruning end, 1 roots, 12 extra nodes, 10 pruned nodes, max_depth=6\u001b[0m\n",
      "\u001b[34m[90]#011train-rmse:0.275229#011validation-rmse:0.324453\u001b[0m\n",
      "\u001b[34m[04:11:16] src/tree/updater_prune.cc:74: tree pruning end, 1 roots, 14 extra nodes, 12 pruned nodes, max_depth=6\u001b[0m\n",
      "\u001b[34m[91]#011train-rmse:0.274799#011validation-rmse:0.324253\u001b[0m\n",
      "\u001b[34m[04:11:17] src/tree/updater_prune.cc:74: tree pruning end, 1 roots, 20 extra nodes, 20 pruned nodes, max_depth=6\u001b[0m\n",
      "\u001b[34m[92]#011train-rmse:0.273956#011validation-rmse:0.324205\u001b[0m\n",
      "\u001b[34m[04:11:19] src/tree/updater_prune.cc:74: tree pruning end, 1 roots, 12 extra nodes, 18 pruned nodes, max_depth=6\u001b[0m\n",
      "\u001b[34m[93]#011train-rmse:0.273567#011validation-rmse:0.323837\u001b[0m\n",
      "\u001b[34m[04:11:20] src/tree/updater_prune.cc:74: tree pruning end, 1 roots, 14 extra nodes, 20 pruned nodes, max_depth=6\u001b[0m\n",
      "\u001b[34m[94]#011train-rmse:0.273025#011validation-rmse:0.323768\u001b[0m\n",
      "\u001b[34m[04:11:21] src/tree/updater_prune.cc:74: tree pruning end, 1 roots, 12 extra nodes, 14 pruned nodes, max_depth=6\u001b[0m\n",
      "\u001b[34m[95]#011train-rmse:0.272665#011validation-rmse:0.32339\u001b[0m\n",
      "\u001b[34m[04:11:23] src/tree/updater_prune.cc:74: tree pruning end, 1 roots, 12 extra nodes, 10 pruned nodes, max_depth=6\u001b[0m\n",
      "\u001b[34m[96]#011train-rmse:0.272249#011validation-rmse:0.323527\u001b[0m\n",
      "\u001b[34m[04:11:24] src/tree/updater_prune.cc:74: tree pruning end, 1 roots, 12 extra nodes, 26 pruned nodes, max_depth=6\u001b[0m\n",
      "\u001b[34m[97]#011train-rmse:0.27188#011validation-rmse:0.32317\u001b[0m\n",
      "\u001b[34m[04:11:26] src/tree/updater_prune.cc:74: tree pruning end, 1 roots, 14 extra nodes, 20 pruned nodes, max_depth=6\u001b[0m\n",
      "\u001b[34m[98]#011train-rmse:0.27141#011validation-rmse:0.322934\u001b[0m\n",
      "\u001b[34m[04:11:27] src/tree/updater_prune.cc:74: tree pruning end, 1 roots, 12 extra nodes, 10 pruned nodes, max_depth=6\u001b[0m\n",
      "\u001b[34m[99]#011train-rmse:0.270996#011validation-rmse:0.322542\u001b[0m\n",
      "\u001b[34m[04:11:29] src/tree/updater_prune.cc:74: tree pruning end, 1 roots, 12 extra nodes, 6 pruned nodes, max_depth=6\u001b[0m\n",
      "\u001b[34m[100]#011train-rmse:0.270633#011validation-rmse:0.322362\u001b[0m\n",
      "\u001b[34m[04:11:30] src/tree/updater_prune.cc:74: tree pruning end, 1 roots, 12 extra nodes, 30 pruned nodes, max_depth=6\u001b[0m\n",
      "\u001b[34m[101]#011train-rmse:0.270271#011validation-rmse:0.321896\u001b[0m\n",
      "\u001b[34m[04:11:32] src/tree/updater_prune.cc:74: tree pruning end, 1 roots, 14 extra nodes, 22 pruned nodes, max_depth=6\u001b[0m\n",
      "\u001b[34m[102]#011train-rmse:0.269833#011validation-rmse:0.32184\u001b[0m\n",
      "\u001b[34m[04:11:33] src/tree/updater_prune.cc:74: tree pruning end, 1 roots, 20 extra nodes, 12 pruned nodes, max_depth=6\u001b[0m\n",
      "\u001b[34m[103]#011train-rmse:0.269186#011validation-rmse:0.321758\u001b[0m\n",
      "\u001b[34m[04:11:35] src/tree/updater_prune.cc:74: tree pruning end, 1 roots, 12 extra nodes, 4 pruned nodes, max_depth=6\u001b[0m\n",
      "\u001b[34m[104]#011train-rmse:0.268813#011validation-rmse:0.321548\u001b[0m\n",
      "\u001b[34m[04:11:36] src/tree/updater_prune.cc:74: tree pruning end, 1 roots, 14 extra nodes, 22 pruned nodes, max_depth=6\u001b[0m\n",
      "\u001b[34m[105]#011train-rmse:0.268285#011validation-rmse:0.321404\u001b[0m\n",
      "\u001b[34m[04:11:38] src/tree/updater_prune.cc:74: tree pruning end, 1 roots, 12 extra nodes, 18 pruned nodes, max_depth=6\u001b[0m\n",
      "\u001b[34m[106]#011train-rmse:0.267988#011validation-rmse:0.321146\u001b[0m\n",
      "\u001b[34m[04:11:39] src/tree/updater_prune.cc:74: tree pruning end, 1 roots, 12 extra nodes, 8 pruned nodes, max_depth=6\u001b[0m\n",
      "\u001b[34m[107]#011train-rmse:0.267632#011validation-rmse:0.321002\u001b[0m\n",
      "\u001b[34m[04:11:41] src/tree/updater_prune.cc:74: tree pruning end, 1 roots, 16 extra nodes, 26 pruned nodes, max_depth=6\u001b[0m\n",
      "\u001b[34m[108]#011train-rmse:0.267256#011validation-rmse:0.320908\u001b[0m\n",
      "\u001b[34m[04:11:42] src/tree/updater_prune.cc:74: tree pruning end, 1 roots, 12 extra nodes, 4 pruned nodes, max_depth=6\u001b[0m\n",
      "\u001b[34m[109]#011train-rmse:0.266874#011validation-rmse:0.320893\u001b[0m\n",
      "\u001b[34m[04:11:44] src/tree/updater_prune.cc:74: tree pruning end, 1 roots, 18 extra nodes, 8 pruned nodes, max_depth=6\u001b[0m\n",
      "\u001b[34m[110]#011train-rmse:0.266273#011validation-rmse:0.32097\u001b[0m\n",
      "\u001b[34m[04:11:45] src/tree/updater_prune.cc:74: tree pruning end, 1 roots, 12 extra nodes, 24 pruned nodes, max_depth=6\u001b[0m\n",
      "\u001b[34m[111]#011train-rmse:0.265888#011validation-rmse:0.320849\u001b[0m\n",
      "\u001b[34m[04:11:47] src/tree/updater_prune.cc:74: tree pruning end, 1 roots, 14 extra nodes, 12 pruned nodes, max_depth=6\u001b[0m\n",
      "\u001b[34m[112]#011train-rmse:0.265461#011validation-rmse:0.320804\u001b[0m\n",
      "\u001b[34m[04:11:48] src/tree/updater_prune.cc:74: tree pruning end, 1 roots, 12 extra nodes, 10 pruned nodes, max_depth=6\u001b[0m\n",
      "\u001b[34m[113]#011train-rmse:0.265104#011validation-rmse:0.320653\u001b[0m\n",
      "\u001b[34m[04:11:50] src/tree/updater_prune.cc:74: tree pruning end, 1 roots, 16 extra nodes, 22 pruned nodes, max_depth=6\u001b[0m\n",
      "\u001b[34m[114]#011train-rmse:0.26458#011validation-rmse:0.320283\u001b[0m\n",
      "\u001b[34m[04:11:51] src/tree/updater_prune.cc:74: tree pruning end, 1 roots, 16 extra nodes, 12 pruned nodes, max_depth=6\u001b[0m\n",
      "\u001b[34m[115]#011train-rmse:0.264119#011validation-rmse:0.320133\u001b[0m\n",
      "\u001b[34m[04:11:53] src/tree/updater_prune.cc:74: tree pruning end, 1 roots, 14 extra nodes, 8 pruned nodes, max_depth=6\u001b[0m\n",
      "\u001b[34m[116]#011train-rmse:0.263715#011validation-rmse:0.320042\u001b[0m\n",
      "\u001b[34m[04:11:54] src/tree/updater_prune.cc:74: tree pruning end, 1 roots, 12 extra nodes, 22 pruned nodes, max_depth=6\u001b[0m\n",
      "\u001b[34m[117]#011train-rmse:0.263433#011validation-rmse:0.319888\u001b[0m\n",
      "\u001b[34m[04:11:55] src/tree/updater_prune.cc:74: tree pruning end, 1 roots, 14 extra nodes, 12 pruned nodes, max_depth=6\u001b[0m\n",
      "\u001b[34m[118]#011train-rmse:0.263058#011validation-rmse:0.319614\u001b[0m\n",
      "\u001b[34m[04:11:57] src/tree/updater_prune.cc:74: tree pruning end, 1 roots, 14 extra nodes, 6 pruned nodes, max_depth=6\u001b[0m\n",
      "\u001b[34m[119]#011train-rmse:0.262632#011validation-rmse:0.319508\u001b[0m\n",
      "\u001b[34m[04:11:58] src/tree/updater_prune.cc:74: tree pruning end, 1 roots, 14 extra nodes, 14 pruned nodes, max_depth=6\u001b[0m\n",
      "\u001b[34m[120]#011train-rmse:0.262266#011validation-rmse:0.319419\u001b[0m\n",
      "\u001b[34m[04:12:00] src/tree/updater_prune.cc:74: tree pruning end, 1 roots, 12 extra nodes, 30 pruned nodes, max_depth=6\u001b[0m\n",
      "\u001b[34m[121]#011train-rmse:0.261898#011validation-rmse:0.319299\u001b[0m\n",
      "\u001b[34m[04:12:01] src/tree/updater_prune.cc:74: tree pruning end, 1 roots, 14 extra nodes, 16 pruned nodes, max_depth=6\u001b[0m\n",
      "\u001b[34m[122]#011train-rmse:0.261472#011validation-rmse:0.319162\u001b[0m\n",
      "\u001b[34m[04:12:03] src/tree/updater_prune.cc:74: tree pruning end, 1 roots, 18 extra nodes, 14 pruned nodes, max_depth=6\u001b[0m\n",
      "\u001b[34m[123]#011train-rmse:0.26093#011validation-rmse:0.318941\u001b[0m\n",
      "\u001b[34m[04:12:04] src/tree/updater_prune.cc:74: tree pruning end, 1 roots, 12 extra nodes, 8 pruned nodes, max_depth=6\u001b[0m\n",
      "\u001b[34m[124]#011train-rmse:0.260612#011validation-rmse:0.318719\u001b[0m\n",
      "\u001b[34m[04:12:06] src/tree/updater_prune.cc:74: tree pruning end, 1 roots, 16 extra nodes, 12 pruned nodes, max_depth=6\u001b[0m\n",
      "\u001b[34m[125]#011train-rmse:0.260078#011validation-rmse:0.318584\u001b[0m\n",
      "\u001b[34m[04:12:07] src/tree/updater_prune.cc:74: tree pruning end, 1 roots, 14 extra nodes, 16 pruned nodes, max_depth=6\u001b[0m\n",
      "\u001b[34m[126]#011train-rmse:0.259654#011validation-rmse:0.318522\u001b[0m\n",
      "\u001b[34m[04:12:09] src/tree/updater_prune.cc:74: tree pruning end, 1 roots, 14 extra nodes, 6 pruned nodes, max_depth=6\u001b[0m\n",
      "\u001b[34m[127]#011train-rmse:0.259358#011validation-rmse:0.318444\u001b[0m\n",
      "\u001b[34m[04:12:10] src/tree/updater_prune.cc:74: tree pruning end, 1 roots, 10 extra nodes, 6 pruned nodes, max_depth=5\u001b[0m\n",
      "\u001b[34m[128]#011train-rmse:0.259087#011validation-rmse:0.318353\u001b[0m\n",
      "\u001b[34m[04:12:12] src/tree/updater_prune.cc:74: tree pruning end, 1 roots, 20 extra nodes, 16 pruned nodes, max_depth=6\u001b[0m\n",
      "\u001b[34m[129]#011train-rmse:0.2585#011validation-rmse:0.318354\u001b[0m\n",
      "\u001b[34m[04:12:13] src/tree/updater_prune.cc:74: tree pruning end, 1 roots, 14 extra nodes, 20 pruned nodes, max_depth=6\u001b[0m\n",
      "\u001b[34m[130]#011train-rmse:0.258134#011validation-rmse:0.318211\u001b[0m\n",
      "\u001b[34m[04:12:15] src/tree/updater_prune.cc:74: tree pruning end, 1 roots, 12 extra nodes, 8 pruned nodes, max_depth=6\u001b[0m\n",
      "\u001b[34m[131]#011train-rmse:0.25782#011validation-rmse:0.31826\u001b[0m\n",
      "\u001b[34m[04:12:16] src/tree/updater_prune.cc:74: tree pruning end, 1 roots, 10 extra nodes, 6 pruned nodes, max_depth=5\u001b[0m\n",
      "\u001b[34m[132]#011train-rmse:0.257521#011validation-rmse:0.318227\u001b[0m\n",
      "\u001b[34m[04:12:18] src/tree/updater_prune.cc:74: tree pruning end, 1 roots, 12 extra nodes, 12 pruned nodes, max_depth=6\u001b[0m\n",
      "\u001b[34m[133]#011train-rmse:0.257204#011validation-rmse:0.318043\u001b[0m\n",
      "\u001b[34m[04:12:19] src/tree/updater_prune.cc:74: tree pruning end, 1 roots, 12 extra nodes, 28 pruned nodes, max_depth=6\u001b[0m\n",
      "\u001b[34m[134]#011train-rmse:0.25687#011validation-rmse:0.317989\u001b[0m\n",
      "\u001b[34m[04:12:20] src/tree/updater_prune.cc:74: tree pruning end, 1 roots, 12 extra nodes, 24 pruned nodes, max_depth=6\u001b[0m\n",
      "\u001b[34m[135]#011train-rmse:0.256609#011validation-rmse:0.317919\u001b[0m\n",
      "\u001b[34m[04:12:22] src/tree/updater_prune.cc:74: tree pruning end, 1 roots, 14 extra nodes, 4 pruned nodes, max_depth=6\u001b[0m\n",
      "\u001b[34m[136]#011train-rmse:0.256233#011validation-rmse:0.317824\u001b[0m\n",
      "\u001b[34m[04:12:23] src/tree/updater_prune.cc:74: tree pruning end, 1 roots, 12 extra nodes, 12 pruned nodes, max_depth=6\u001b[0m\n",
      "\u001b[34m[137]#011train-rmse:0.25589#011validation-rmse:0.317555\u001b[0m\n",
      "\u001b[34m[04:12:25] src/tree/updater_prune.cc:74: tree pruning end, 1 roots, 12 extra nodes, 8 pruned nodes, max_depth=6\u001b[0m\n",
      "\u001b[34m[138]#011train-rmse:0.255612#011validation-rmse:0.31731\u001b[0m\n",
      "\u001b[34m[04:12:26] src/tree/updater_prune.cc:74: tree pruning end, 1 roots, 14 extra nodes, 18 pruned nodes, max_depth=6\u001b[0m\n",
      "\u001b[34m[139]#011train-rmse:0.255208#011validation-rmse:0.317254\u001b[0m\n",
      "\u001b[34m[04:12:28] src/tree/updater_prune.cc:74: tree pruning end, 1 roots, 4 extra nodes, 14 pruned nodes, max_depth=2\u001b[0m\n",
      "\u001b[34m[140]#011train-rmse:0.25509#011validation-rmse:0.317181\u001b[0m\n",
      "\u001b[34m[04:12:29] src/tree/updater_prune.cc:74: tree pruning end, 1 roots, 16 extra nodes, 6 pruned nodes, max_depth=6\u001b[0m\n",
      "\u001b[34m[141]#011train-rmse:0.254769#011validation-rmse:0.317044\u001b[0m\n",
      "\u001b[34m[04:12:31] src/tree/updater_prune.cc:74: tree pruning end, 1 roots, 12 extra nodes, 6 pruned nodes, max_depth=6\u001b[0m\n",
      "\u001b[34m[142]#011train-rmse:0.254433#011validation-rmse:0.317079\u001b[0m\n",
      "\u001b[34m[04:12:32] src/tree/updater_prune.cc:74: tree pruning end, 1 roots, 12 extra nodes, 4 pruned nodes, max_depth=6\u001b[0m\n",
      "\u001b[34m[143]#011train-rmse:0.254159#011validation-rmse:0.316877\u001b[0m\n",
      "\u001b[34m[04:12:34] src/tree/updater_prune.cc:74: tree pruning end, 1 roots, 8 extra nodes, 8 pruned nodes, max_depth=4\u001b[0m\n",
      "\u001b[34m[144]#011train-rmse:0.253948#011validation-rmse:0.31676\u001b[0m\n",
      "\u001b[34m[04:12:35] src/tree/updater_prune.cc:74: tree pruning end, 1 roots, 2 extra nodes, 28 pruned nodes, max_depth=1\u001b[0m\n",
      "\u001b[34m[145]#011train-rmse:0.253889#011validation-rmse:0.316723\u001b[0m\n",
      "\u001b[34m[04:12:37] src/tree/updater_prune.cc:74: tree pruning end, 1 roots, 12 extra nodes, 26 pruned nodes, max_depth=6\u001b[0m\n",
      "\u001b[34m[146]#011train-rmse:0.253564#011validation-rmse:0.316587\u001b[0m\n",
      "\u001b[34m[04:12:38] src/tree/updater_prune.cc:74: tree pruning end, 1 roots, 10 extra nodes, 16 pruned nodes, max_depth=5\u001b[0m\n",
      "\u001b[34m[147]#011train-rmse:0.253326#011validation-rmse:0.316387\u001b[0m\n",
      "\u001b[34m[04:12:40] src/tree/updater_prune.cc:74: tree pruning end, 1 roots, 16 extra nodes, 14 pruned nodes, max_depth=6\u001b[0m\n",
      "\u001b[34m[148]#011train-rmse:0.252907#011validation-rmse:0.316319\u001b[0m\n",
      "\u001b[34m[04:12:41] src/tree/updater_prune.cc:74: tree pruning end, 1 roots, 12 extra nodes, 10 pruned nodes, max_depth=6\u001b[0m\n",
      "\u001b[34m[149]#011train-rmse:0.25259#011validation-rmse:0.316029\u001b[0m\n",
      "\u001b[34m[04:12:43] src/tree/updater_prune.cc:74: tree pruning end, 1 roots, 12 extra nodes, 14 pruned nodes, max_depth=6\u001b[0m\n",
      "\u001b[34m[150]#011train-rmse:0.252277#011validation-rmse:0.315859\u001b[0m\n",
      "\u001b[34m[04:12:44] src/tree/updater_prune.cc:74: tree pruning end, 1 roots, 0 extra nodes, 16 pruned nodes, max_depth=0\u001b[0m\n",
      "\u001b[34m[151]#011train-rmse:0.252272#011validation-rmse:0.315858\u001b[0m\n",
      "\u001b[34m[04:12:46] src/tree/updater_prune.cc:74: tree pruning end, 1 roots, 14 extra nodes, 10 pruned nodes, max_depth=6\u001b[0m\n",
      "\u001b[34m[152]#011train-rmse:0.251867#011validation-rmse:0.315812\u001b[0m\n",
      "\u001b[34m[04:12:47] src/tree/updater_prune.cc:74: tree pruning end, 1 roots, 18 extra nodes, 20 pruned nodes, max_depth=6\u001b[0m\n",
      "\u001b[34m[153]#011train-rmse:0.251348#011validation-rmse:0.315577\u001b[0m\n",
      "\u001b[34m[04:12:49] src/tree/updater_prune.cc:74: tree pruning end, 1 roots, 20 extra nodes, 14 pruned nodes, max_depth=6\u001b[0m\n",
      "\u001b[34m[154]#011train-rmse:0.250771#011validation-rmse:0.315414\u001b[0m\n",
      "\u001b[34m[04:12:50] src/tree/updater_prune.cc:74: tree pruning end, 1 roots, 16 extra nodes, 12 pruned nodes, max_depth=6\u001b[0m\n",
      "\u001b[34m[155]#011train-rmse:0.250305#011validation-rmse:0.315299\u001b[0m\n",
      "\u001b[34m[04:12:52] src/tree/updater_prune.cc:74: tree pruning end, 1 roots, 0 extra nodes, 18 pruned nodes, max_depth=0\u001b[0m\n",
      "\u001b[34m[156]#011train-rmse:0.250297#011validation-rmse:0.315297\u001b[0m\n",
      "\u001b[34m[04:12:53] src/tree/updater_prune.cc:74: tree pruning end, 1 roots, 12 extra nodes, 6 pruned nodes, max_depth=6\u001b[0m\n",
      "\u001b[34m[157]#011train-rmse:0.25007#011validation-rmse:0.314961\u001b[0m\n",
      "\u001b[34m[04:12:54] src/tree/updater_prune.cc:74: tree pruning end, 1 roots, 0 extra nodes, 24 pruned nodes, max_depth=0\u001b[0m\n",
      "\u001b[34m[158]#011train-rmse:0.250064#011validation-rmse:0.314959\u001b[0m\n",
      "\u001b[34m[04:12:56] src/tree/updater_prune.cc:74: tree pruning end, 1 roots, 10 extra nodes, 14 pruned nodes, max_depth=5\u001b[0m\n",
      "\u001b[34m[159]#011train-rmse:0.249858#011validation-rmse:0.314952\u001b[0m\n",
      "\u001b[34m[04:12:57] src/tree/updater_prune.cc:74: tree pruning end, 1 roots, 16 extra nodes, 16 pruned nodes, max_depth=6\u001b[0m\n",
      "\u001b[34m[160]#011train-rmse:0.249433#011validation-rmse:0.314718\u001b[0m\n",
      "\u001b[34m[04:12:59] src/tree/updater_prune.cc:74: tree pruning end, 1 roots, 18 extra nodes, 16 pruned nodes, max_depth=6\u001b[0m\n",
      "\u001b[34m[161]#011train-rmse:0.248868#011validation-rmse:0.314648\u001b[0m\n",
      "\u001b[34m[04:13:00] src/tree/updater_prune.cc:74: tree pruning end, 1 roots, 14 extra nodes, 12 pruned nodes, max_depth=6\u001b[0m\n",
      "\u001b[34m[162]#011train-rmse:0.248582#011validation-rmse:0.314521\u001b[0m\n",
      "\u001b[34m[04:13:02] src/tree/updater_prune.cc:74: tree pruning end, 1 roots, 4 extra nodes, 12 pruned nodes, max_depth=2\u001b[0m\n",
      "\u001b[34m[163]#011train-rmse:0.248531#011validation-rmse:0.314551\u001b[0m\n",
      "\u001b[34m[04:13:03] src/tree/updater_prune.cc:74: tree pruning end, 1 roots, 12 extra nodes, 8 pruned nodes, max_depth=6\u001b[0m\n",
      "\u001b[34m[164]#011train-rmse:0.248239#011validation-rmse:0.314348\u001b[0m\n",
      "\u001b[34m[04:13:05] src/tree/updater_prune.cc:74: tree pruning end, 1 roots, 12 extra nodes, 22 pruned nodes, max_depth=5\u001b[0m\n",
      "\u001b[34m[165]#011train-rmse:0.24802#011validation-rmse:0.314267\u001b[0m\n",
      "\u001b[34m[04:13:06] src/tree/updater_prune.cc:74: tree pruning end, 1 roots, 12 extra nodes, 18 pruned nodes, max_depth=6\u001b[0m\n",
      "\u001b[34m[166]#011train-rmse:0.247726#011validation-rmse:0.31414\u001b[0m\n",
      "\u001b[34m[04:13:08] src/tree/updater_prune.cc:74: tree pruning end, 1 roots, 10 extra nodes, 14 pruned nodes, max_depth=5\u001b[0m\n",
      "\u001b[34m[167]#011train-rmse:0.247482#011validation-rmse:0.31397\u001b[0m\n",
      "\u001b[34m[04:13:09] src/tree/updater_prune.cc:74: tree pruning end, 1 roots, 4 extra nodes, 34 pruned nodes, max_depth=2\u001b[0m\n",
      "\u001b[34m[168]#011train-rmse:0.247361#011validation-rmse:0.314008\u001b[0m\n",
      "\u001b[34m[04:13:11] src/tree/updater_prune.cc:74: tree pruning end, 1 roots, 14 extra nodes, 4 pruned nodes, max_depth=6\u001b[0m\n",
      "\u001b[34m[169]#011train-rmse:0.247077#011validation-rmse:0.313869\u001b[0m\n",
      "\u001b[34m[04:13:12] src/tree/updater_prune.cc:74: tree pruning end, 1 roots, 6 extra nodes, 24 pruned nodes, max_depth=3\u001b[0m\n",
      "\u001b[34m[170]#011train-rmse:0.246914#011validation-rmse:0.313787\u001b[0m\n",
      "\u001b[34m[04:13:14] src/tree/updater_prune.cc:74: tree pruning end, 1 roots, 6 extra nodes, 20 pruned nodes, max_depth=3\u001b[0m\n",
      "\u001b[34m[171]#011train-rmse:0.246837#011validation-rmse:0.313705\u001b[0m\n",
      "\u001b[34m[04:13:15] src/tree/updater_prune.cc:74: tree pruning end, 1 roots, 12 extra nodes, 10 pruned nodes, max_depth=6\u001b[0m\n",
      "\u001b[34m[172]#011train-rmse:0.246548#011validation-rmse:0.313667\u001b[0m\n",
      "\u001b[34m[04:13:16] src/tree/updater_prune.cc:74: tree pruning end, 1 roots, 16 extra nodes, 8 pruned nodes, max_depth=6\u001b[0m\n",
      "\u001b[34m[173]#011train-rmse:0.246066#011validation-rmse:0.313404\u001b[0m\n",
      "\u001b[34m[04:13:18] src/tree/updater_prune.cc:74: tree pruning end, 1 roots, 14 extra nodes, 6 pruned nodes, max_depth=6\u001b[0m\n",
      "\u001b[34m[174]#011train-rmse:0.245715#011validation-rmse:0.313295\u001b[0m\n",
      "\u001b[34m[04:13:19] src/tree/updater_prune.cc:74: tree pruning end, 1 roots, 0 extra nodes, 30 pruned nodes, max_depth=0\u001b[0m\n",
      "\u001b[34m[175]#011train-rmse:0.245719#011validation-rmse:0.313297\u001b[0m\n",
      "\u001b[34m[04:13:21] src/tree/updater_prune.cc:74: tree pruning end, 1 roots, 0 extra nodes, 38 pruned nodes, max_depth=0\u001b[0m\n",
      "\u001b[34m[176]#011train-rmse:0.245716#011validation-rmse:0.313296\u001b[0m\n",
      "\u001b[34m[04:13:22] src/tree/updater_prune.cc:74: tree pruning end, 1 roots, 6 extra nodes, 12 pruned nodes, max_depth=3\u001b[0m\n",
      "\u001b[34m[177]#011train-rmse:0.24557#011validation-rmse:0.313258\u001b[0m\n",
      "\u001b[34m[04:13:24] src/tree/updater_prune.cc:74: tree pruning end, 1 roots, 0 extra nodes, 18 pruned nodes, max_depth=0\u001b[0m\n",
      "\u001b[34m[178]#011train-rmse:0.245573#011validation-rmse:0.31326\u001b[0m\n",
      "\u001b[34m[04:13:25] src/tree/updater_prune.cc:74: tree pruning end, 1 roots, 10 extra nodes, 20 pruned nodes, max_depth=5\u001b[0m\n",
      "\u001b[34m[179]#011train-rmse:0.245343#011validation-rmse:0.313091\u001b[0m\n",
      "\u001b[34m[04:13:27] src/tree/updater_prune.cc:74: tree pruning end, 1 roots, 20 extra nodes, 32 pruned nodes, max_depth=6\u001b[0m\n",
      "\u001b[34m[180]#011train-rmse:0.244817#011validation-rmse:0.313066\u001b[0m\n",
      "\u001b[34m[04:13:28] src/tree/updater_prune.cc:74: tree pruning end, 1 roots, 14 extra nodes, 18 pruned nodes, max_depth=6\u001b[0m\n",
      "\u001b[34m[181]#011train-rmse:0.24443#011validation-rmse:0.313078\u001b[0m\n",
      "\u001b[34m[04:13:30] src/tree/updater_prune.cc:74: tree pruning end, 1 roots, 10 extra nodes, 12 pruned nodes, max_depth=4\u001b[0m\n",
      "\u001b[34m[182]#011train-rmse:0.244201#011validation-rmse:0.313017\u001b[0m\n",
      "\u001b[34m[04:13:31] src/tree/updater_prune.cc:74: tree pruning end, 1 roots, 0 extra nodes, 18 pruned nodes, max_depth=0\u001b[0m\n",
      "\u001b[34m[183]#011train-rmse:0.244206#011validation-rmse:0.31302\u001b[0m\n",
      "\u001b[34m[04:13:32] src/tree/updater_prune.cc:74: tree pruning end, 1 roots, 0 extra nodes, 16 pruned nodes, max_depth=0\u001b[0m\n",
      "\u001b[34m[184]#011train-rmse:0.24421#011validation-rmse:0.313022\u001b[0m\n",
      "\u001b[34m[04:13:34] src/tree/updater_prune.cc:74: tree pruning end, 1 roots, 14 extra nodes, 32 pruned nodes, max_depth=6\u001b[0m\n",
      "\u001b[34m[185]#011train-rmse:0.243883#011validation-rmse:0.313019\u001b[0m\n",
      "\u001b[34m[04:13:35] src/tree/updater_prune.cc:74: tree pruning end, 1 roots, 12 extra nodes, 30 pruned nodes, max_depth=5\u001b[0m\n",
      "\u001b[34m[186]#011train-rmse:0.243549#011validation-rmse:0.312958\u001b[0m\n",
      "\u001b[34m[04:13:37] src/tree/updater_prune.cc:74: tree pruning end, 1 roots, 0 extra nodes, 44 pruned nodes, max_depth=0\u001b[0m\n",
      "\u001b[34m[187]#011train-rmse:0.243545#011validation-rmse:0.312956\u001b[0m\n",
      "\u001b[34m[04:13:38] src/tree/updater_prune.cc:74: tree pruning end, 1 roots, 16 extra nodes, 20 pruned nodes, max_depth=6\u001b[0m\n",
      "\u001b[34m[188]#011train-rmse:0.243177#011validation-rmse:0.312815\u001b[0m\n",
      "\u001b[34m[04:13:40] src/tree/updater_prune.cc:74: tree pruning end, 1 roots, 0 extra nodes, 24 pruned nodes, max_depth=0\u001b[0m\n",
      "\u001b[34m[189]#011train-rmse:0.243181#011validation-rmse:0.312817\u001b[0m\n",
      "\u001b[34m[04:13:41] src/tree/updater_prune.cc:74: tree pruning end, 1 roots, 0 extra nodes, 16 pruned nodes, max_depth=0\u001b[0m\n",
      "\u001b[34m[190]#011train-rmse:0.243175#011validation-rmse:0.312814\u001b[0m\n",
      "\u001b[34m[04:13:43] src/tree/updater_prune.cc:74: tree pruning end, 1 roots, 2 extra nodes, 22 pruned nodes, max_depth=1\u001b[0m\n",
      "\u001b[34m[191]#011train-rmse:0.24316#011validation-rmse:0.312838\u001b[0m\n",
      "\u001b[34m[04:13:44] src/tree/updater_prune.cc:74: tree pruning end, 1 roots, 4 extra nodes, 16 pruned nodes, max_depth=2\u001b[0m\n",
      "\u001b[34m[192]#011train-rmse:0.243045#011validation-rmse:0.312775\u001b[0m\n",
      "\u001b[34m[04:13:46] src/tree/updater_prune.cc:74: tree pruning end, 1 roots, 18 extra nodes, 20 pruned nodes, max_depth=6\u001b[0m\n",
      "\u001b[34m[193]#011train-rmse:0.242588#011validation-rmse:0.312897\u001b[0m\n",
      "\u001b[34m[04:13:47] src/tree/updater_prune.cc:74: tree pruning end, 1 roots, 2 extra nodes, 18 pruned nodes, max_depth=1\u001b[0m\n",
      "\u001b[34m[194]#011train-rmse:0.242533#011validation-rmse:0.31287\u001b[0m\n",
      "\u001b[34m[04:13:49] src/tree/updater_prune.cc:74: tree pruning end, 1 roots, 0 extra nodes, 42 pruned nodes, max_depth=0\u001b[0m\n",
      "\u001b[34m[195]#011train-rmse:0.242528#011validation-rmse:0.312868\u001b[0m\n",
      "\u001b[34m[04:13:50] src/tree/updater_prune.cc:74: tree pruning end, 1 roots, 0 extra nodes, 24 pruned nodes, max_depth=0\u001b[0m\n",
      "\u001b[34m[196]#011train-rmse:0.242527#011validation-rmse:0.312867\u001b[0m\n",
      "\u001b[34m[04:13:52] src/tree/updater_prune.cc:74: tree pruning end, 1 roots, 12 extra nodes, 18 pruned nodes, max_depth=6\u001b[0m\n",
      "\u001b[34m[197]#011train-rmse:0.24231#011validation-rmse:0.31271\u001b[0m\n",
      "\u001b[34m[04:13:53] src/tree/updater_prune.cc:74: tree pruning end, 1 roots, 12 extra nodes, 8 pruned nodes, max_depth=6\u001b[0m\n",
      "\u001b[34m[198]#011train-rmse:0.242012#011validation-rmse:0.312727\u001b[0m\n",
      "\u001b[34m[04:13:54] src/tree/updater_prune.cc:74: tree pruning end, 1 roots, 2 extra nodes, 42 pruned nodes, max_depth=1\u001b[0m\n",
      "\u001b[34m[199]#011train-rmse:0.241936#011validation-rmse:0.312703\u001b[0m\n",
      "Training seconds: 364\n",
      "Billable seconds: 364\n"
     ]
    }
   ],
   "source": [
    "# TODO: Create a new estimator object attached to the best training job found during hyperparameter tuning\n",
    "\n",
    "xgb_attached = sagemaker.estimator.Estimator.attach(xgb_hyperparameter_tuner.best_training_job())\n"
   ]
  },
  {
   "cell_type": "markdown",
   "metadata": {},
   "source": [
    "Now that we have an estimator object attached to the correct training job, we can proceed as we normally would and create a transformer object."
   ]
  },
  {
   "cell_type": "code",
   "execution_count": 26,
   "metadata": {},
   "outputs": [],
   "source": [
    "# TODO: Create a transformer object from the attached estimator. Using an instance count of 1 and an instance type of ml.m4.xlarge\n",
    "#       should be more than enough.\n",
    "\n",
    "xgb_transformer = xgb_attached.transformer(instance_count = 1, instance_type = 'ml.m4.xlarge')\n"
   ]
  },
  {
   "cell_type": "markdown",
   "metadata": {},
   "source": [
    "Next we actually perform the transform job. When doing so we need to make sure to specify the type of data we are sending so that it is serialized correctly in the background. In our case we are providing our model with csv data so we specify `text/csv`. Also, if the test data that we have provided is too large to process all at once then we need to specify how the data file should be split up. Since each line is a single entry in our data set we tell SageMaker that it can split the input on each line."
   ]
  },
  {
   "cell_type": "code",
   "execution_count": 47,
   "metadata": {},
   "outputs": [],
   "source": [
    "# TODO: Start the transform job. Make sure to specify the content type and the split type of the test data.\n",
    "xgb_transformer.transform(test_location, content_type='text/csv', split_type='Line')"
   ]
  },
  {
   "cell_type": "markdown",
   "metadata": {},
   "source": [
    "Currently the transform job is running but it is doing so in the background. Since we wish to wait until the transform job is done and we would like a bit of feedback we can run the `wait()` method."
   ]
  },
  {
   "cell_type": "code",
   "execution_count": 48,
   "metadata": {},
   "outputs": [
    {
     "name": "stdout",
     "output_type": "stream",
     "text": [
      "...................\u001b[34mArguments: serve\u001b[0m\n",
      "\u001b[34m[2020-02-08 04:44:56 +0000] [1] [INFO] Starting gunicorn 19.7.1\u001b[0m\n",
      "\u001b[34m[2020-02-08 04:44:56 +0000] [1] [INFO] Listening at: http://0.0.0.0:8080 (1)\u001b[0m\n",
      "\u001b[34m[2020-02-08 04:44:56 +0000] [1] [INFO] Using worker: gevent\u001b[0m\n",
      "\u001b[34m[2020-02-08 04:44:56 +0000] [38] [INFO] Booting worker with pid: 38\u001b[0m\n",
      "\u001b[34m[2020-02-08 04:44:56 +0000] [39] [INFO] Booting worker with pid: 39\u001b[0m\n",
      "\u001b[34m[2020-02-08 04:44:56 +0000] [40] [INFO] Booting worker with pid: 40\u001b[0m\n",
      "\u001b[34m[2020-02-08:04:44:56:INFO] Model loaded successfully for worker : 38\u001b[0m\n",
      "\u001b[34m[2020-02-08 04:44:56 +0000] [41] [INFO] Booting worker with pid: 41\u001b[0m\n",
      "\u001b[34m[2020-02-08:04:44:56:INFO] Model loaded successfully for worker : 39\u001b[0m\n",
      "\u001b[34m[2020-02-08:04:44:56:INFO] Model loaded successfully for worker : 40\u001b[0m\n",
      "\u001b[34m[2020-02-08:04:44:56:INFO] Model loaded successfully for worker : 41\u001b[0m\n",
      "\u001b[32m2020-02-08T04:45:20.019:[sagemaker logs]: MaxConcurrentTransforms=4, MaxPayloadInMB=6, BatchStrategy=MULTI_RECORD\u001b[0m\n",
      "\u001b[34m[2020-02-08:04:45:22:INFO] Sniff delimiter as ','\u001b[0m\n",
      "\u001b[34m[2020-02-08:04:45:22:INFO] Determined delimiter of CSV input is ','\u001b[0m\n",
      "\u001b[34m[2020-02-08:04:45:22:INFO] Sniff delimiter as ','\u001b[0m\n",
      "\u001b[34m[2020-02-08:04:45:22:INFO] Determined delimiter of CSV input is ','\u001b[0m\n",
      "\u001b[35m[2020-02-08:04:45:22:INFO] Sniff delimiter as ','\u001b[0m\n",
      "\u001b[35m[2020-02-08:04:45:22:INFO] Determined delimiter of CSV input is ','\u001b[0m\n",
      "\u001b[35m[2020-02-08:04:45:22:INFO] Sniff delimiter as ','\u001b[0m\n",
      "\u001b[35m[2020-02-08:04:45:22:INFO] Determined delimiter of CSV input is ','\u001b[0m\n",
      "\u001b[34m[2020-02-08:04:45:22:INFO] Sniff delimiter as ','\u001b[0m\n",
      "\u001b[34m[2020-02-08:04:45:22:INFO] Determined delimiter of CSV input is ','\u001b[0m\n",
      "\u001b[34m[2020-02-08:04:45:23:INFO] Sniff delimiter as ','\u001b[0m\n",
      "\u001b[34m[2020-02-08:04:45:23:INFO] Determined delimiter of CSV input is ','\u001b[0m\n",
      "\u001b[35m[2020-02-08:04:45:22:INFO] Sniff delimiter as ','\u001b[0m\n",
      "\u001b[35m[2020-02-08:04:45:22:INFO] Determined delimiter of CSV input is ','\u001b[0m\n",
      "\u001b[35m[2020-02-08:04:45:23:INFO] Sniff delimiter as ','\u001b[0m\n",
      "\u001b[35m[2020-02-08:04:45:23:INFO] Determined delimiter of CSV input is ','\u001b[0m\n",
      "\u001b[34m[2020-02-08:04:45:25:INFO] Sniff delimiter as ','\u001b[0m\n",
      "\u001b[34m[2020-02-08:04:45:25:INFO] Determined delimiter of CSV input is ','\u001b[0m\n",
      "\u001b[34m[2020-02-08:04:45:25:INFO] Sniff delimiter as ','\u001b[0m\n",
      "\u001b[34m[2020-02-08:04:45:25:INFO] Determined delimiter of CSV input is ','\u001b[0m\n",
      "\u001b[34m[2020-02-08:04:45:25:INFO] Sniff delimiter as ','\u001b[0m\n",
      "\u001b[34m[2020-02-08:04:45:25:INFO] Determined delimiter of CSV input is ','\u001b[0m\n",
      "\u001b[34m[2020-02-08:04:45:25:INFO] Sniff delimiter as ','\u001b[0m\n",
      "\u001b[34m[2020-02-08:04:45:25:INFO] Determined delimiter of CSV input is ','\u001b[0m\n",
      "\u001b[35m[2020-02-08:04:45:25:INFO] Sniff delimiter as ','\u001b[0m\n",
      "\u001b[35m[2020-02-08:04:45:25:INFO] Determined delimiter of CSV input is ','\u001b[0m\n",
      "\u001b[35m[2020-02-08:04:45:25:INFO] Sniff delimiter as ','\u001b[0m\n",
      "\u001b[35m[2020-02-08:04:45:25:INFO] Determined delimiter of CSV input is ','\u001b[0m\n",
      "\u001b[35m[2020-02-08:04:45:25:INFO] Sniff delimiter as ','\u001b[0m\n",
      "\u001b[35m[2020-02-08:04:45:25:INFO] Determined delimiter of CSV input is ','\u001b[0m\n",
      "\u001b[35m[2020-02-08:04:45:25:INFO] Sniff delimiter as ','\u001b[0m\n",
      "\u001b[35m[2020-02-08:04:45:25:INFO] Determined delimiter of CSV input is ','\u001b[0m\n",
      "\u001b[34m[2020-02-08:04:45:30:INFO] Sniff delimiter as ','\u001b[0m\n",
      "\u001b[34m[2020-02-08:04:45:30:INFO] Determined delimiter of CSV input is ','\u001b[0m\n",
      "\u001b[34m[2020-02-08:04:45:30:INFO] Sniff delimiter as ','\u001b[0m\n",
      "\u001b[34m[2020-02-08:04:45:30:INFO] Determined delimiter of CSV input is ','\u001b[0m\n",
      "\u001b[34m[2020-02-08:04:45:30:INFO] Sniff delimiter as ','\u001b[0m\n",
      "\u001b[34m[2020-02-08:04:45:30:INFO] Determined delimiter of CSV input is ','\u001b[0m\n",
      "\u001b[35m[2020-02-08:04:45:30:INFO] Sniff delimiter as ','\u001b[0m\n",
      "\u001b[35m[2020-02-08:04:45:30:INFO] Determined delimiter of CSV input is ','\u001b[0m\n",
      "\u001b[35m[2020-02-08:04:45:30:INFO] Sniff delimiter as ','\u001b[0m\n",
      "\u001b[35m[2020-02-08:04:45:30:INFO] Determined delimiter of CSV input is ','\u001b[0m\n",
      "\u001b[35m[2020-02-08:04:45:30:INFO] Sniff delimiter as ','\u001b[0m\n",
      "\u001b[35m[2020-02-08:04:45:30:INFO] Determined delimiter of CSV input is ','\u001b[0m\n",
      "\u001b[34m[2020-02-08:04:45:30:INFO] Sniff delimiter as ','\u001b[0m\n",
      "\u001b[34m[2020-02-08:04:45:30:INFO] Determined delimiter of CSV input is ','\u001b[0m\n",
      "\u001b[35m[2020-02-08:04:45:30:INFO] Sniff delimiter as ','\u001b[0m\n",
      "\u001b[35m[2020-02-08:04:45:30:INFO] Determined delimiter of CSV input is ','\u001b[0m\n",
      "\u001b[34m[2020-02-08:04:45:32:INFO] Sniff delimiter as ','\u001b[0m\n",
      "\u001b[34m[2020-02-08:04:45:32:INFO] Determined delimiter of CSV input is ','\u001b[0m\n",
      "\u001b[35m[2020-02-08:04:45:32:INFO] Sniff delimiter as ','\u001b[0m\n",
      "\u001b[35m[2020-02-08:04:45:32:INFO] Determined delimiter of CSV input is ','\u001b[0m\n",
      "\u001b[34m[2020-02-08:04:45:32:INFO] Sniff delimiter as ','\u001b[0m\n",
      "\u001b[34m[2020-02-08:04:45:32:INFO] Determined delimiter of CSV input is ','\u001b[0m\n",
      "\u001b[35m[2020-02-08:04:45:32:INFO] Sniff delimiter as ','\u001b[0m\n",
      "\u001b[35m[2020-02-08:04:45:32:INFO] Determined delimiter of CSV input is ','\u001b[0m\n",
      "\u001b[34m[2020-02-08:04:45:33:INFO] Sniff delimiter as ','\u001b[0m\n",
      "\u001b[34m[2020-02-08:04:45:33:INFO] Determined delimiter of CSV input is ','\u001b[0m\n",
      "\u001b[34m[2020-02-08:04:45:33:INFO] Sniff delimiter as ','\u001b[0m\n",
      "\u001b[34m[2020-02-08:04:45:33:INFO] Determined delimiter of CSV input is ','\u001b[0m\n",
      "\u001b[35m[2020-02-08:04:45:33:INFO] Sniff delimiter as ','\u001b[0m\n",
      "\u001b[35m[2020-02-08:04:45:33:INFO] Determined delimiter of CSV input is ','\u001b[0m\n",
      "\u001b[35m[2020-02-08:04:45:33:INFO] Sniff delimiter as ','\u001b[0m\n",
      "\u001b[35m[2020-02-08:04:45:33:INFO] Determined delimiter of CSV input is ','\u001b[0m\n",
      "\u001b[34m[2020-02-08:04:45:35:INFO] Sniff delimiter as ','\u001b[0m\n",
      "\u001b[34m[2020-02-08:04:45:35:INFO] Determined delimiter of CSV input is ','\u001b[0m\n",
      "\u001b[34m[2020-02-08:04:45:35:INFO] Sniff delimiter as ','\u001b[0m\n",
      "\u001b[34m[2020-02-08:04:45:35:INFO] Determined delimiter of CSV input is ','\u001b[0m\n",
      "\u001b[34m[2020-02-08:04:45:35:INFO] Sniff delimiter as ','\u001b[0m\n",
      "\u001b[34m[2020-02-08:04:45:35:INFO] Determined delimiter of CSV input is ','\u001b[0m\n",
      "\u001b[34m[2020-02-08:04:45:35:INFO] Sniff delimiter as ','\u001b[0m\n",
      "\u001b[34m[2020-02-08:04:45:35:INFO] Determined delimiter of CSV input is ','\u001b[0m\n",
      "\u001b[35m[2020-02-08:04:45:35:INFO] Sniff delimiter as ','\u001b[0m\n",
      "\u001b[35m[2020-02-08:04:45:35:INFO] Determined delimiter of CSV input is ','\u001b[0m\n",
      "\u001b[35m[2020-02-08:04:45:35:INFO] Sniff delimiter as ','\u001b[0m\n",
      "\u001b[35m[2020-02-08:04:45:35:INFO] Determined delimiter of CSV input is ','\u001b[0m\n",
      "\u001b[35m[2020-02-08:04:45:35:INFO] Sniff delimiter as ','\u001b[0m\n",
      "\u001b[35m[2020-02-08:04:45:35:INFO] Determined delimiter of CSV input is ','\u001b[0m\n",
      "\u001b[35m[2020-02-08:04:45:35:INFO] Sniff delimiter as ','\u001b[0m\n",
      "\u001b[35m[2020-02-08:04:45:35:INFO] Determined delimiter of CSV input is ','\u001b[0m\n",
      "\u001b[34m[2020-02-08:04:45:40:INFO] Sniff delimiter as ','\u001b[0m\n",
      "\u001b[34m[2020-02-08:04:45:40:INFO] Determined delimiter of CSV input is ','\u001b[0m\n",
      "\u001b[34m[2020-02-08:04:45:40:INFO] Sniff delimiter as ','\u001b[0m\n",
      "\u001b[34m[2020-02-08:04:45:40:INFO] Determined delimiter of CSV input is ','\u001b[0m\n",
      "\u001b[34m[2020-02-08:04:45:40:INFO] Sniff delimiter as ','\u001b[0m\n",
      "\u001b[34m[2020-02-08:04:45:40:INFO] Determined delimiter of CSV input is ','\u001b[0m\n",
      "\u001b[34m[2020-02-08:04:45:40:INFO] Sniff delimiter as ','\u001b[0m\n",
      "\u001b[34m[2020-02-08:04:45:40:INFO] Determined delimiter of CSV input is ','\u001b[0m\n",
      "\u001b[35m[2020-02-08:04:45:40:INFO] Sniff delimiter as ','\u001b[0m\n",
      "\u001b[35m[2020-02-08:04:45:40:INFO] Determined delimiter of CSV input is ','\u001b[0m\n",
      "\u001b[35m[2020-02-08:04:45:40:INFO] Sniff delimiter as ','\u001b[0m\n",
      "\u001b[35m[2020-02-08:04:45:40:INFO] Determined delimiter of CSV input is ','\u001b[0m\n",
      "\u001b[35m[2020-02-08:04:45:40:INFO] Sniff delimiter as ','\u001b[0m\n",
      "\u001b[35m[2020-02-08:04:45:40:INFO] Determined delimiter of CSV input is ','\u001b[0m\n",
      "\u001b[35m[2020-02-08:04:45:40:INFO] Sniff delimiter as ','\u001b[0m\n",
      "\u001b[35m[2020-02-08:04:45:40:INFO] Determined delimiter of CSV input is ','\u001b[0m\n",
      "\u001b[34m[2020-02-08:04:45:42:INFO] Sniff delimiter as ','\u001b[0m\n",
      "\u001b[34m[2020-02-08:04:45:42:INFO] Determined delimiter of CSV input is ','\u001b[0m\n",
      "\u001b[34m[2020-02-08:04:45:42:INFO] Sniff delimiter as ','\u001b[0m\n",
      "\u001b[34m[2020-02-08:04:45:42:INFO] Determined delimiter of CSV input is ','\u001b[0m\n",
      "\u001b[34m[2020-02-08:04:45:42:INFO] Sniff delimiter as ','\u001b[0m\n",
      "\u001b[34m[2020-02-08:04:45:42:INFO] Determined delimiter of CSV input is ','\u001b[0m\n",
      "\u001b[35m[2020-02-08:04:45:42:INFO] Sniff delimiter as ','\u001b[0m\n",
      "\u001b[35m[2020-02-08:04:45:42:INFO] Determined delimiter of CSV input is ','\u001b[0m\n",
      "\u001b[35m[2020-02-08:04:45:42:INFO] Sniff delimiter as ','\u001b[0m\n",
      "\u001b[35m[2020-02-08:04:45:42:INFO] Determined delimiter of CSV input is ','\u001b[0m\n",
      "\u001b[35m[2020-02-08:04:45:42:INFO] Sniff delimiter as ','\u001b[0m\n",
      "\u001b[35m[2020-02-08:04:45:42:INFO] Determined delimiter of CSV input is ','\u001b[0m\n",
      "\u001b[34m[2020-02-08:04:45:43:INFO] Sniff delimiter as ','\u001b[0m\n",
      "\u001b[34m[2020-02-08:04:45:43:INFO] Determined delimiter of CSV input is ','\u001b[0m\n",
      "\u001b[35m[2020-02-08:04:45:43:INFO] Sniff delimiter as ','\u001b[0m\n",
      "\u001b[35m[2020-02-08:04:45:43:INFO] Determined delimiter of CSV input is ','\u001b[0m\n",
      "\u001b[34m[2020-02-08:04:45:45:INFO] Sniff delimiter as ','\u001b[0m\n",
      "\u001b[35m[2020-02-08:04:45:45:INFO] Sniff delimiter as ','\u001b[0m\n",
      "\u001b[34m[2020-02-08:04:45:45:INFO] Determined delimiter of CSV input is ','\u001b[0m\n",
      "\u001b[34m[2020-02-08:04:45:45:INFO] Sniff delimiter as ','\u001b[0m\n",
      "\u001b[34m[2020-02-08:04:45:45:INFO] Determined delimiter of CSV input is ','\u001b[0m\n",
      "\u001b[34m[2020-02-08:04:45:45:INFO] Sniff delimiter as ','\u001b[0m\n",
      "\u001b[34m[2020-02-08:04:45:45:INFO] Determined delimiter of CSV input is ','\u001b[0m\n",
      "\u001b[34m[2020-02-08:04:45:45:INFO] Sniff delimiter as ','\u001b[0m\n",
      "\u001b[34m[2020-02-08:04:45:45:INFO] Determined delimiter of CSV input is ','\u001b[0m\n",
      "\u001b[35m[2020-02-08:04:45:45:INFO] Determined delimiter of CSV input is ','\u001b[0m\n",
      "\u001b[35m[2020-02-08:04:45:45:INFO] Sniff delimiter as ','\u001b[0m\n",
      "\u001b[35m[2020-02-08:04:45:45:INFO] Determined delimiter of CSV input is ','\u001b[0m\n",
      "\u001b[35m[2020-02-08:04:45:45:INFO] Sniff delimiter as ','\u001b[0m\n",
      "\u001b[35m[2020-02-08:04:45:45:INFO] Determined delimiter of CSV input is ','\u001b[0m\n",
      "\u001b[35m[2020-02-08:04:45:45:INFO] Sniff delimiter as ','\u001b[0m\n",
      "\u001b[35m[2020-02-08:04:45:45:INFO] Determined delimiter of CSV input is ','\u001b[0m\n"
     ]
    },
    {
     "name": "stdout",
     "output_type": "stream",
     "text": [
      "\n"
     ]
    }
   ],
   "source": [
    "xgb_transformer.wait()"
   ]
  },
  {
   "cell_type": "markdown",
   "metadata": {},
   "source": [
    "Now the transform job has executed and the result, the estimated sentiment of each review, has been saved on S3. Since we would rather work on this file locally we can perform a bit of notebook magic to copy the file to the `data_dir`."
   ]
  },
  {
   "cell_type": "code",
   "execution_count": 49,
   "metadata": {},
   "outputs": [
    {
     "name": "stdout",
     "output_type": "stream",
     "text": [
      "Completed 256.0 KiB/372.0 KiB (3.1 MiB/s) with 1 file(s) remaining\r",
      "Completed 372.0 KiB/372.0 KiB (4.4 MiB/s) with 1 file(s) remaining\r",
      "download: s3://sagemaker-ap-northeast-2-148514131281/xgboost-200208-0349-008-e013af4e-2020-02-08-04-41-50-987/test.csv.out to ../data/xgboost/test.csv.out\r\n"
     ]
    }
   ],
   "source": [
    "!aws s3 cp --recursive $xgb_transformer.output_path $data_dir"
   ]
  },
  {
   "cell_type": "markdown",
   "metadata": {},
   "source": [
    "The last step is now to read in the output from our model, convert the output to something a little more usable, in this case we want the sentiment to be either `1` (positive) or `0` (negative), and then compare to the ground truth labels."
   ]
  },
  {
   "cell_type": "code",
   "execution_count": 50,
   "metadata": {},
   "outputs": [],
   "source": [
    "predictions = pd.read_csv(os.path.join(data_dir, 'test.csv.out'), header=None)\n",
    "predictions = [round(num) for num in predictions.squeeze().values]"
   ]
  },
  {
   "cell_type": "code",
   "execution_count": 51,
   "metadata": {},
   "outputs": [
    {
     "data": {
      "text/plain": [
       "0.86856"
      ]
     },
     "execution_count": 51,
     "metadata": {},
     "output_type": "execute_result"
    }
   ],
   "source": [
    "from sklearn.metrics import accuracy_score\n",
    "accuracy_score(test_y, predictions)"
   ]
  },
  {
   "cell_type": "markdown",
   "metadata": {},
   "source": [
    "## Optional: Clean up\n",
    "\n",
    "The default notebook instance on SageMaker doesn't have a lot of excess disk space available. As you continue to complete and execute notebooks you will eventually fill up this disk space, leading to errors which can be difficult to diagnose. Once you are completely finished using a notebook it is a good idea to remove the files that you created along the way. Of course, you can do this from the terminal or from the notebook hub if you would like. The cell below contains some commands to clean up the created files from within the notebook."
   ]
  },
  {
   "cell_type": "code",
   "execution_count": 53,
   "metadata": {},
   "outputs": [],
   "source": [
    "# First we will remove all of the files contained in the data_dir directory\n",
    "!rm $data_dir/*\n",
    "\n",
    "# And then we delete the directory itself\n",
    "!rmdir $data_dir\n",
    "\n",
    "# Similarly we will remove the files in the cache_dir directory and the directory itself\n",
    "!rm $cache_dir/*\n",
    "!rmdir $cache_dir"
   ]
  },
  {
   "cell_type": "code",
   "execution_count": null,
   "metadata": {},
   "outputs": [],
   "source": []
  }
 ],
 "metadata": {
  "kernelspec": {
   "display_name": "conda_python3",
   "language": "python",
   "name": "conda_python3"
  },
  "language_info": {
   "codemirror_mode": {
    "name": "ipython",
    "version": 3
   },
   "file_extension": ".py",
   "mimetype": "text/x-python",
   "name": "python",
   "nbconvert_exporter": "python",
   "pygments_lexer": "ipython3",
   "version": "3.6.5"
  }
 },
 "nbformat": 4,
 "nbformat_minor": 2
}
