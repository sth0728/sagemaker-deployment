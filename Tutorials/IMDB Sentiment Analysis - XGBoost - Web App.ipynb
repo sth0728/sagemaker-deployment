{
 "cells": [
  {
   "cell_type": "markdown",
   "metadata": {},
   "source": [
    "# Sentiment Analysis Web App\n",
    "\n",
    "_Deep Learning Nanodegree Program | Deployment_\n",
    "\n",
    "---\n",
    "\n",
    "In this notebook we will use Amazon's SageMaker service to construct a random tree model to predict the sentiment of a movie review. In addition, we will deploy this model to an endpoint and construct a very simple web app which will interact with our model's deployed endpoint.\n",
    "\n",
    "## General Outline\n",
    "\n",
    "Typically, when using a notebook instance with SageMaker, you will proceed through the following steps. Of course, not every step will need to be done with each project. Also, there is quite a lot of room for variation in many of the steps, as you will see throughout these lessons.\n",
    "\n",
    "1. Download or otherwise retrieve the data.\n",
    "2. Process / Prepare the data.\n",
    "3. Upload the processed data to S3.\n",
    "4. Train a chosen model.\n",
    "5. Test the trained model (typically using a batch transform job).\n",
    "6. Deploy the trained model.\n",
    "7. Use the deployed model.\n",
    "\n",
    "In this notebook we will progress through each of the steps above. We will also see that the final step, using the deployed model, can be quite challenging."
   ]
  },
  {
   "cell_type": "markdown",
   "metadata": {},
   "source": [
    "## Step 1: Downloading the data\n",
    "\n",
    "The dataset we are going to use is very popular among researchers in Natural Language Processing, usually referred to as the [IMDb dataset](http://ai.stanford.edu/~amaas/data/sentiment/). It consists of movie reviews from the website [imdb.com](http://www.imdb.com/), each labeled as either '**pos**itive', if the reviewer enjoyed the film, or '**neg**ative' otherwise.\n",
    "\n",
    "> Maas, Andrew L., et al. [Learning Word Vectors for Sentiment Analysis](http://ai.stanford.edu/~amaas/data/sentiment/). In _Proceedings of the 49th Annual Meeting of the Association for Computational Linguistics: Human Language Technologies_. Association for Computational Linguistics, 2011.\n",
    "\n",
    "We begin by using some Jupyter Notebook magic to download and extract the dataset."
   ]
  },
  {
   "cell_type": "code",
   "execution_count": 1,
   "metadata": {},
   "outputs": [
    {
     "name": "stdout",
     "output_type": "stream",
     "text": [
      "mkdir: cannot create directory ‘../data’: File exists\n",
      "--2020-02-05 02:20:30--  http://ai.stanford.edu/~amaas/data/sentiment/aclImdb_v1.tar.gz\n",
      "Resolving ai.stanford.edu (ai.stanford.edu)... 171.64.68.10\n",
      "Connecting to ai.stanford.edu (ai.stanford.edu)|171.64.68.10|:80... connected.\n",
      "HTTP request sent, awaiting response... 200 OK\n",
      "Length: 84125825 (80M) [application/x-gzip]\n",
      "Saving to: ‘../data/aclImdb_v1.tar.gz’\n",
      "\n",
      "../data/aclImdb_v1. 100%[===================>]  80.23M  10.8MB/s    in 11s     \n",
      "\n",
      "2020-02-05 02:20:42 (7.47 MB/s) - ‘../data/aclImdb_v1.tar.gz’ saved [84125825/84125825]\n",
      "\n"
     ]
    }
   ],
   "source": [
    "%mkdir ../data\n",
    "!wget -O ../data/aclImdb_v1.tar.gz http://ai.stanford.edu/~amaas/data/sentiment/aclImdb_v1.tar.gz\n",
    "!tar -zxf ../data/aclImdb_v1.tar.gz -C ../data"
   ]
  },
  {
   "cell_type": "markdown",
   "metadata": {},
   "source": [
    "## Step 2: Preparing and Processing the data\n",
    "\n",
    "The data we have downloaded is split into various files, each of which contains a single review. It will be much easier going forward if we combine these individual files into two large files, one for training and one for testing."
   ]
  },
  {
   "cell_type": "code",
   "execution_count": 2,
   "metadata": {},
   "outputs": [],
   "source": [
    "import os\n",
    "import glob\n",
    "\n",
    "def read_imdb_data(data_dir='../data/aclImdb'):\n",
    "    data = {}\n",
    "    labels = {}\n",
    "    \n",
    "    for data_type in ['train', 'test']:\n",
    "        data[data_type] = {}\n",
    "        labels[data_type] = {}\n",
    "        \n",
    "        for sentiment in ['pos', 'neg']:\n",
    "            data[data_type][sentiment] = []\n",
    "            labels[data_type][sentiment] = []\n",
    "            \n",
    "            path = os.path.join(data_dir, data_type, sentiment, '*.txt')\n",
    "            files = glob.glob(path)\n",
    "            \n",
    "            for f in files:\n",
    "                with open(f) as review:\n",
    "                    data[data_type][sentiment].append(review.read())\n",
    "                    # Here we represent a positive review by '1' and a negative review by '0'\n",
    "                    labels[data_type][sentiment].append(1 if sentiment == 'pos' else 0)\n",
    "                    \n",
    "            assert len(data[data_type][sentiment]) == len(labels[data_type][sentiment]), \\\n",
    "                    \"{}/{} data size does not match labels size\".format(data_type, sentiment)\n",
    "                \n",
    "    return data, labels"
   ]
  },
  {
   "cell_type": "code",
   "execution_count": 4,
   "metadata": {},
   "outputs": [
    {
     "name": "stdout",
     "output_type": "stream",
     "text": [
      "IMDB reviews: train = 12500 pos / 12500 neg, test = 12500 pos / 12500 neg\n"
     ]
    }
   ],
   "source": [
    "data, labels = read_imdb_data()\n",
    "print(\"IMDB reviews: train = {} pos / {} neg, test = {} pos / {} neg\".format(\n",
    "            len(data['train']['pos']), len(data['train']['neg']),\n",
    "            len(data['test']['pos']), len(data['test']['neg'])))"
   ]
  },
  {
   "cell_type": "code",
   "execution_count": 3,
   "metadata": {},
   "outputs": [],
   "source": [
    "from sklearn.utils import shuffle\n",
    "\n",
    "def prepare_imdb_data(data, labels):\n",
    "    \"\"\"Prepare training and test sets from IMDb movie reviews.\"\"\"\n",
    "    \n",
    "    #Combine positive and negative reviews and labels\n",
    "    data_train = data['train']['pos'] + data['train']['neg']\n",
    "    data_test = data['test']['pos'] + data['test']['neg']\n",
    "    labels_train = labels['train']['pos'] + labels['train']['neg']\n",
    "    labels_test = labels['test']['pos'] + labels['test']['neg']\n",
    "    \n",
    "    #Shuffle reviews and corresponding labels within training and test sets\n",
    "    data_train, labels_train = shuffle(data_train, labels_train)\n",
    "    data_test, labels_test = shuffle(data_test, labels_test)\n",
    "    \n",
    "    # Return a unified training data, test data, training labels, test labets\n",
    "    return data_train, data_test, labels_train, labels_test"
   ]
  },
  {
   "cell_type": "code",
   "execution_count": 5,
   "metadata": {},
   "outputs": [
    {
     "name": "stdout",
     "output_type": "stream",
     "text": [
      "IMDb reviews (combined): train = 25000, test = 25000\n"
     ]
    }
   ],
   "source": [
    "train_X, test_X, train_y, test_y = prepare_imdb_data(data, labels)\n",
    "print(\"IMDb reviews (combined): train = {}, test = {}\".format(len(train_X), len(test_X)))"
   ]
  },
  {
   "cell_type": "code",
   "execution_count": 6,
   "metadata": {},
   "outputs": [
    {
     "data": {
      "text/plain": [
       "'When a film has no fewer than FIVE different titles, it usually means several things and almost always means that the film has major flaws somewhere. Necromancy has major flaws and is just out and out bad. I saw the version on video called Rosemary\\'s Disciples. Yes, I am sure it differs from other versions, but I am not inclined to think that in any way is any other version and the few more minutes it might have - going to be really any better. The story is perhaps the biggest problem: the film opens with Laurie waking up and her husband taking her to a town where he has a new job at a toy factory for occultists(yep, it gets bad this early!). The town is called Lillith and has some guy with a rifle on the bridge to make sure only those selected by the \"owner\" of the town are allowed in. Soon we find that everyone living in Lillith is a witch and all follow the directives of Mr. Cato - the head of this municipal coven who wants his dead son back(hence the name Necromancy). The people in the town do witch kind of stuff - have ceremonies, some like wearing a goat\\'s head, and promiscuity abounds(not much really shown in this area), but none of these people are very good actors. Mr. Cato is played robustly by the figuratively and literally larger-than-life movie maverick Orson Welles. Welles is misused, but, make no mistake, he is the best thing in this movie. And that is really the saddest part of Necromancy as Welles gives a pretty poor and pedestrian performance with little directorial guidance. In one scene at a party, director Bert I Gordon keeps going back to Welles watching the action of the party using the exact same frames! It looked ridiculous. As did the scene that was repeatedly seen over and over again of a woman\\'s arm centered in swirling flames after a car crash. It looked like the arm of a shop mannequin. The story is never fully utilized as we never really know what happens: many scenes are shot like dreams or hallucinations and never confirmed. This also applies to the corny, hokey ending. The lead Pamela Franklin is pert and pretty and has some talent. Other than her performance, real slim pickings from the rest of the cast sans Welles. The direction and story were both done by Gordon who obviously had little gas left in the engine. This is not a good movie in any way under any name.'"
      ]
     },
     "execution_count": 6,
     "metadata": {},
     "output_type": "execute_result"
    }
   ],
   "source": [
    "train_X[100]"
   ]
  },
  {
   "cell_type": "markdown",
   "metadata": {},
   "source": [
    "## Processing the data\n",
    "\n",
    "Now that we have our training and testing datasets merged and ready to use, we need to start processing the raw data into something that will be useable by our machine learning algorithm. To begin with, we remove any html formatting and any non-alpha numeric characters that may appear in the reviews. We will do this in a very simplistic way using Python's regular expression module. We will discuss the reason for this rather simplistic pre-processing later on."
   ]
  },
  {
   "cell_type": "code",
   "execution_count": 7,
   "metadata": {},
   "outputs": [],
   "source": [
    "import re\n",
    "\n",
    "REPLACE_NO_SPACE = re.compile(\"(\\.)|(\\;)|(\\:)|(\\!)|(\\')|(\\?)|(\\,)|(\\\")|(\\()|(\\))|(\\[)|(\\])\")\n",
    "REPLACE_WITH_SPACE = re.compile(\"(<br\\s*/><br\\s*/>)|(\\-)|(\\/)\")\n",
    "\n",
    "def review_to_words(review):\n",
    "    words = REPLACE_NO_SPACE.sub(\"\", review.lower())\n",
    "    words = REPLACE_WITH_SPACE.sub(\" \", words)\n",
    "    return words"
   ]
  },
  {
   "cell_type": "code",
   "execution_count": 8,
   "metadata": {},
   "outputs": [
    {
     "data": {
      "text/plain": [
       "'when a film has no fewer than five different titles it usually means several things and almost always means that the film has major flaws somewhere necromancy has major flaws and is just out and out bad i saw the version on video called rosemarys disciples yes i am sure it differs from other versions but i am not inclined to think that in any way is any other version and the few more minutes it might have   going to be really any better the story is perhaps the biggest problem the film opens with laurie waking up and her husband taking her to a town where he has a new job at a toy factory for occultistsyep it gets bad this early the town is called lillith and has some guy with a rifle on the bridge to make sure only those selected by the owner of the town are allowed in soon we find that everyone living in lillith is a witch and all follow the directives of mr cato   the head of this municipal coven who wants his dead son backhence the name necromancy the people in the town do witch kind of stuff   have ceremonies some like wearing a goats head and promiscuity aboundsnot much really shown in this area but none of these people are very good actors mr cato is played robustly by the figuratively and literally larger than life movie maverick orson welles welles is misused but make no mistake he is the best thing in this movie and that is really the saddest part of necromancy as welles gives a pretty poor and pedestrian performance with little directorial guidance in one scene at a party director bert i gordon keeps going back to welles watching the action of the party using the exact same frames it looked ridiculous as did the scene that was repeatedly seen over and over again of a womans arm centered in swirling flames after a car crash it looked like the arm of a shop mannequin the story is never fully utilized as we never really know what happens many scenes are shot like dreams or hallucinations and never confirmed this also applies to the corny hokey ending the lead pamela franklin is pert and pretty and has some talent other than her performance real slim pickings from the rest of the cast sans welles the direction and story were both done by gordon who obviously had little gas left in the engine this is not a good movie in any way under any name'"
      ]
     },
     "execution_count": 8,
     "metadata": {},
     "output_type": "execute_result"
    }
   ],
   "source": [
    "review_to_words(train_X[100])"
   ]
  },
  {
   "cell_type": "code",
   "execution_count": 9,
   "metadata": {},
   "outputs": [],
   "source": [
    "import pickle\n",
    "\n",
    "cache_dir = os.path.join(\"../cache\", \"sentiment_web_app\")  # where to store cache files\n",
    "os.makedirs(cache_dir, exist_ok=True)  # ensure cache directory exists\n",
    "\n",
    "def preprocess_data(data_train, data_test, labels_train, labels_test,\n",
    "                    cache_dir=cache_dir, cache_file=\"preprocessed_data.pkl\"):\n",
    "    \"\"\"Convert each review to words; read from cache if available.\"\"\"\n",
    "\n",
    "    # If cache_file is not None, try to read from it first\n",
    "    cache_data = None\n",
    "    if cache_file is not None:\n",
    "        try:\n",
    "            with open(os.path.join(cache_dir, cache_file), \"rb\") as f:\n",
    "                cache_data = pickle.load(f)\n",
    "            print(\"Read preprocessed data from cache file:\", cache_file)\n",
    "        except:\n",
    "            pass  # unable to read from cache, but that's okay\n",
    "    \n",
    "    # If cache is missing, then do the heavy lifting\n",
    "    if cache_data is None:\n",
    "        # Preprocess training and test data to obtain words for each review\n",
    "        #words_train = list(map(review_to_words, data_train))\n",
    "        #words_test = list(map(review_to_words, data_test))\n",
    "        words_train = [review_to_words(review) for review in data_train]\n",
    "        words_test = [review_to_words(review) for review in data_test]\n",
    "        \n",
    "        # Write to cache file for future runs\n",
    "        if cache_file is not None:\n",
    "            cache_data = dict(words_train=words_train, words_test=words_test,\n",
    "                              labels_train=labels_train, labels_test=labels_test)\n",
    "            with open(os.path.join(cache_dir, cache_file), \"wb\") as f:\n",
    "                pickle.dump(cache_data, f)\n",
    "            print(\"Wrote preprocessed data to cache file:\", cache_file)\n",
    "    else:\n",
    "        # Unpack data loaded from cache file\n",
    "        words_train, words_test, labels_train, labels_test = (cache_data['words_train'],\n",
    "                cache_data['words_test'], cache_data['labels_train'], cache_data['labels_test'])\n",
    "    \n",
    "    return words_train, words_test, labels_train, labels_test"
   ]
  },
  {
   "cell_type": "code",
   "execution_count": 10,
   "metadata": {},
   "outputs": [
    {
     "name": "stdout",
     "output_type": "stream",
     "text": [
      "Wrote preprocessed data to cache file: preprocessed_data.pkl\n"
     ]
    }
   ],
   "source": [
    "# Preprocess data\n",
    "train_X, test_X, train_y, test_y = preprocess_data(train_X, test_X, train_y, test_y)"
   ]
  },
  {
   "cell_type": "markdown",
   "metadata": {},
   "source": [
    "### Extract Bag-of-Words features\n",
    "\n",
    "For the model we will be implementing, rather than using the reviews directly, we are going to transform each review into a Bag-of-Words feature representation. Keep in mind that 'in the wild' we will only have access to the training set so our transformer can only use the training set to construct a representation."
   ]
  },
  {
   "cell_type": "code",
   "execution_count": 11,
   "metadata": {},
   "outputs": [],
   "source": [
    "import numpy as np\n",
    "from sklearn.feature_extraction.text import CountVectorizer\n",
    "from sklearn.externals import joblib\n",
    "# joblib is an enhanced version of pickle that is more efficient for storing NumPy arrays\n",
    "\n",
    "def extract_BoW_features(words_train, words_test, vocabulary_size=5000,\n",
    "                         cache_dir=cache_dir, cache_file=\"bow_features.pkl\"):\n",
    "    \"\"\"Extract Bag-of-Words for a given set of documents, already preprocessed into words.\"\"\"\n",
    "    \n",
    "    # If cache_file is not None, try to read from it first\n",
    "    cache_data = None\n",
    "    if cache_file is not None:\n",
    "        try:\n",
    "            with open(os.path.join(cache_dir, cache_file), \"rb\") as f:\n",
    "                cache_data = joblib.load(f)\n",
    "            print(\"Read features from cache file:\", cache_file)\n",
    "        except:\n",
    "            pass  # unable to read from cache, but that's okay\n",
    "    \n",
    "    # If cache is missing, then do the heavy lifting\n",
    "    if cache_data is None:\n",
    "        # Fit a vectorizer to training documents and use it to transform them\n",
    "        # NOTE: Training documents have already been preprocessed and tokenized into words;\n",
    "        #       pass in dummy functions to skip those steps, e.g. preprocessor=lambda x: x\n",
    "        vectorizer = CountVectorizer(max_features=vocabulary_size)\n",
    "        features_train = vectorizer.fit_transform(words_train).toarray()\n",
    "\n",
    "        # Apply the same vectorizer to transform the test documents (ignore unknown words)\n",
    "        features_test = vectorizer.transform(words_test).toarray()\n",
    "        \n",
    "        # NOTE: Remember to convert the features using .toarray() for a compact representation\n",
    "        \n",
    "        # Write to cache file for future runs (store vocabulary as well)\n",
    "        if cache_file is not None:\n",
    "            vocabulary = vectorizer.vocabulary_\n",
    "            cache_data = dict(features_train=features_train, features_test=features_test,\n",
    "                             vocabulary=vocabulary)\n",
    "            with open(os.path.join(cache_dir, cache_file), \"wb\") as f:\n",
    "                joblib.dump(cache_data, f)\n",
    "            print(\"Wrote features to cache file:\", cache_file)\n",
    "    else:\n",
    "        # Unpack data loaded from cache file\n",
    "        features_train, features_test, vocabulary = (cache_data['features_train'],\n",
    "                cache_data['features_test'], cache_data['vocabulary'])\n",
    "    \n",
    "    # Return both the extracted features as well as the vocabulary\n",
    "    return features_train, features_test, vocabulary"
   ]
  },
  {
   "cell_type": "code",
   "execution_count": 12,
   "metadata": {},
   "outputs": [
    {
     "name": "stdout",
     "output_type": "stream",
     "text": [
      "Wrote features to cache file: bow_features.pkl\n"
     ]
    }
   ],
   "source": [
    "# Extract Bag of Words features for both training and test datasets\n",
    "train_X, test_X, vocabulary = extract_BoW_features(train_X, test_X)"
   ]
  },
  {
   "cell_type": "code",
   "execution_count": 13,
   "metadata": {},
   "outputs": [
    {
     "data": {
      "text/plain": [
       "5000"
      ]
     },
     "execution_count": 13,
     "metadata": {},
     "output_type": "execute_result"
    }
   ],
   "source": [
    "len(train_X[100])"
   ]
  },
  {
   "cell_type": "markdown",
   "metadata": {},
   "source": [
    "## Step 3: Upload data to S3\n",
    "\n",
    "Now that we have created the feature representation of our training (and testing) data, it is time to start setting up and using the XGBoost classifier provided by SageMaker.\n",
    "\n",
    "### Writing the datasets\n",
    "\n",
    "The XGBoost classifier that we will be using requires the dataset to be written to a file and stored using Amazon S3. To do this, we will start by splitting the training dataset into two parts, the data we will train the model with and a validation set. Then, we will write those datasets to a file locally and then upload the files to S3. In addition, we will write the test set to a file and upload that file to S3. This is so that we can use SageMakers Batch Transform functionality to test our model once we've fit it."
   ]
  },
  {
   "cell_type": "code",
   "execution_count": 14,
   "metadata": {},
   "outputs": [],
   "source": [
    "import pandas as pd\n",
    "\n",
    "# Earlier we shuffled the training dataset so to make things simple we can just assign\n",
    "# the first 10 000 reviews to the validation set and use the remaining reviews for training.\n",
    "val_X = pd.DataFrame(train_X[:10000])\n",
    "train_X = pd.DataFrame(train_X[10000:])\n",
    "\n",
    "val_y = pd.DataFrame(train_y[:10000])\n",
    "train_y = pd.DataFrame(train_y[10000:])"
   ]
  },
  {
   "cell_type": "markdown",
   "metadata": {},
   "source": [
    "The documentation for the XGBoost algorithm in SageMaker requires that the training and validation datasets should contain no headers or index and that the label should occur first for each sample.\n",
    "\n",
    "For more information about this and other algorithms, the SageMaker developer documentation can be found on __[Amazon's website.](https://docs.aws.amazon.com/sagemaker/latest/dg/)__"
   ]
  },
  {
   "cell_type": "code",
   "execution_count": 15,
   "metadata": {},
   "outputs": [],
   "source": [
    "# First we make sure that the local directory in which we'd like to store the training and validation csv files exists.\n",
    "data_dir = '../data/sentiment_web_app'\n",
    "if not os.path.exists(data_dir):\n",
    "    os.makedirs(data_dir)"
   ]
  },
  {
   "cell_type": "code",
   "execution_count": 16,
   "metadata": {},
   "outputs": [],
   "source": [
    "pd.DataFrame(test_X).to_csv(os.path.join(data_dir, 'test.csv'), header=False, index=False)\n",
    "\n",
    "pd.concat([val_y, val_X], axis=1).to_csv(os.path.join(data_dir, 'validation.csv'), header=False, index=False)\n",
    "pd.concat([train_y, train_X], axis=1).to_csv(os.path.join(data_dir, 'train.csv'), header=False, index=False)"
   ]
  },
  {
   "cell_type": "code",
   "execution_count": 17,
   "metadata": {},
   "outputs": [],
   "source": [
    "# To save a bit of memory we can set text_X, train_X, val_X, train_y and val_y to None.\n",
    "\n",
    "test_X = train_X = val_X = train_y = val_y = None"
   ]
  },
  {
   "cell_type": "markdown",
   "metadata": {},
   "source": [
    "### Uploading Training / Validation files to S3\n",
    "\n",
    "Amazon's S3 service allows us to store files that can be accessed by both the built-in training models such as the XGBoost model we will be using as well as custom models such as the one we will see a little later.\n",
    "\n",
    "For this and most other tasks we will be doing using SageMaker, there are two methods we could use. The first is to use the low level functionality of SageMaker which requires knowing each of the objects involved in the SageMaker environment. The second is to use the high level functionality in which certain choices have been made on the user's behalf. The low level approach benefits from allowing the user a great deal of flexibility while the high level approach makes development much quicker. For our purposes we will opt to use the high level approach although using the low-level approach is certainly an option.\n",
    "\n",
    "Recall the method `upload_data()` which is a member of the object representing our current SageMaker session. What this method does is upload the data to the default bucket (which is created if it does not exist) into the path described by the key_prefix variable. To see this for yourself, once you have uploaded the data files, go to the S3 console and look to see where the files have been uploaded.\n",
    "\n",
    "For additional resources, see the __[SageMaker API documentation](http://sagemaker.readthedocs.io/en/latest/)__ and in addition the __[SageMaker Developer Guide.](https://docs.aws.amazon.com/sagemaker/latest/dg/)__"
   ]
  },
  {
   "cell_type": "code",
   "execution_count": 18,
   "metadata": {},
   "outputs": [],
   "source": [
    "import sagemaker\n",
    "\n",
    "session = sagemaker.Session() # Store the current SageMaker session\n",
    "\n",
    "# S3 prefix (which folder will we use)\n",
    "prefix = 'sentiment-web-app'\n",
    "\n",
    "test_location = session.upload_data(os.path.join(data_dir, 'test.csv'), key_prefix=prefix)\n",
    "val_location = session.upload_data(os.path.join(data_dir, 'validation.csv'), key_prefix=prefix)\n",
    "train_location = session.upload_data(os.path.join(data_dir, 'train.csv'), key_prefix=prefix)"
   ]
  },
  {
   "cell_type": "markdown",
   "metadata": {},
   "source": [
    "## Step 4: Creating the XGBoost model\n",
    "\n",
    "Now that the data has been uploaded it is time to create the XGBoost model. To begin with, we need to do some setup. At this point it is worth discussing what a model is in SageMaker. It is easiest to think of a model of comprising three different objects in the SageMaker ecosystem, which interact with one another.\n",
    "\n",
    "- Model Artifacts\n",
    "- Training Code (Container)\n",
    "- Inference Code (Container)\n",
    "\n",
    "The Model Artifacts are what you might think of as the actual model itself. For example, if you were building a neural network, the model artifacts would be the weights of the various layers. In our case, for an XGBoost model, the artifacts are the actual trees that are created during training.\n",
    "\n",
    "The other two objects, the training code and the inference code are then used to manipulate the training artifacts. More precisely, the training code uses the training data that is provided and creates the model artifacts, while the inference code uses the model artifacts to make predictions on new data.\n",
    "\n",
    "The way that SageMaker runs the training and inference code is by making use of Docker containers. For now, think of a container as being a way of packaging code up so that dependencies aren't an issue."
   ]
  },
  {
   "cell_type": "code",
   "execution_count": 19,
   "metadata": {},
   "outputs": [],
   "source": [
    "from sagemaker import get_execution_role\n",
    "\n",
    "# Our current execution role is required when creating the model as the training\n",
    "# and inference code will need to access the model artifacts.\n",
    "role = get_execution_role()"
   ]
  },
  {
   "cell_type": "code",
   "execution_count": 20,
   "metadata": {},
   "outputs": [
    {
     "name": "stderr",
     "output_type": "stream",
     "text": [
      "WARNING:root:There is a more up to date SageMaker XGBoost image. To use the newer image, please set 'repo_version'='0.90-1'. For example:\n",
      "\tget_image_uri(region, 'xgboost', '0.90-1').\n"
     ]
    }
   ],
   "source": [
    "# We need to retrieve the location of the container which is provided by Amazon for using XGBoost.\n",
    "# As a matter of convenience, the training and inference code both use the same container.\n",
    "from sagemaker.amazon.amazon_estimator import get_image_uri\n",
    "\n",
    "container = get_image_uri(session.boto_region_name, 'xgboost')"
   ]
  },
  {
   "cell_type": "code",
   "execution_count": 21,
   "metadata": {},
   "outputs": [],
   "source": [
    "# First we create a SageMaker estimator object for our model.\n",
    "xgb = sagemaker.estimator.Estimator(container, # The location of the container we wish to use\n",
    "                                    role,                                    # What is our current IAM Role\n",
    "                                    train_instance_count=1,                  # How many compute instances\n",
    "                                    train_instance_type='ml.m4.xlarge',      # What kind of compute instances\n",
    "                                    output_path='s3://{}/{}/output'.format(session.default_bucket(), prefix),\n",
    "                                    sagemaker_session=session)\n",
    "\n",
    "# And then set the algorithm specific parameters.\n",
    "xgb.set_hyperparameters(max_depth=5,\n",
    "                        eta=0.2,\n",
    "                        gamma=4,\n",
    "                        min_child_weight=6,\n",
    "                        subsample=0.8,\n",
    "                        silent=0,\n",
    "                        objective='binary:logistic',\n",
    "                        early_stopping_rounds=10,\n",
    "                        num_round=500)"
   ]
  },
  {
   "cell_type": "markdown",
   "metadata": {},
   "source": [
    "### Fit the XGBoost model\n",
    "\n",
    "Now that our model has been set up we simply need to attach the training and validation datasets and then ask SageMaker to set up the computation."
   ]
  },
  {
   "cell_type": "code",
   "execution_count": 22,
   "metadata": {},
   "outputs": [],
   "source": [
    "s3_input_train = sagemaker.s3_input(s3_data=train_location, content_type='csv')\n",
    "s3_input_validation = sagemaker.s3_input(s3_data=val_location, content_type='csv')"
   ]
  },
  {
   "cell_type": "code",
   "execution_count": 23,
   "metadata": {},
   "outputs": [
    {
     "name": "stdout",
     "output_type": "stream",
     "text": [
      "2020-02-05 02:29:43 Starting - Starting the training job...\n",
      "2020-02-05 02:29:45 Starting - Launching requested ML instances......\n",
      "2020-02-05 02:31:12 Starting - Preparing the instances for training.........\n",
      "2020-02-05 02:32:37 Downloading - Downloading input data\n",
      "2020-02-05 02:32:37 Training - Downloading the training image..\u001b[34mArguments: train\u001b[0m\n",
      "\u001b[34m[2020-02-05:02:32:57:INFO] Running standalone xgboost training.\u001b[0m\n",
      "\u001b[34m[2020-02-05:02:32:57:INFO] File size need to be processed in the node: 238.5mb. Available memory size in the node: 8514.12mb\u001b[0m\n",
      "\u001b[34m[2020-02-05:02:32:57:INFO] Determined delimiter of CSV input is ','\u001b[0m\n",
      "\u001b[34m[02:32:57] S3DistributionType set as FullyReplicated\u001b[0m\n",
      "\u001b[34m[02:32:59] 15000x5000 matrix with 75000000 entries loaded from /opt/ml/input/data/train?format=csv&label_column=0&delimiter=,\u001b[0m\n",
      "\u001b[34m[2020-02-05:02:32:59:INFO] Determined delimiter of CSV input is ','\u001b[0m\n",
      "\u001b[34m[02:32:59] S3DistributionType set as FullyReplicated\u001b[0m\n",
      "\u001b[34m[02:33:00] 10000x5000 matrix with 50000000 entries loaded from /opt/ml/input/data/validation?format=csv&label_column=0&delimiter=,\u001b[0m\n",
      "\n",
      "2020-02-05 02:32:56 Training - Training image download completed. Training in progress.\u001b[34m[02:33:03] src/tree/updater_prune.cc:74: tree pruning end, 1 roots, 40 extra nodes, 10 pruned nodes, max_depth=5\u001b[0m\n",
      "\u001b[34m[0]#011train-error:0.3042#011validation-error:0.3128\u001b[0m\n",
      "\u001b[34mMultiple eval metrics have been passed: 'validation-error' will be used for early stopping.\n",
      "\u001b[0m\n",
      "\u001b[34mWill train until validation-error hasn't improved in 10 rounds.\u001b[0m\n",
      "\u001b[34m[02:33:05] src/tree/updater_prune.cc:74: tree pruning end, 1 roots, 40 extra nodes, 6 pruned nodes, max_depth=5\u001b[0m\n",
      "\u001b[34m[1]#011train-error:0.2986#011validation-error:0.3068\u001b[0m\n",
      "\u001b[34m[02:33:06] src/tree/updater_prune.cc:74: tree pruning end, 1 roots, 46 extra nodes, 4 pruned nodes, max_depth=5\u001b[0m\n",
      "\u001b[34m[2]#011train-error:0.278667#011validation-error:0.288\u001b[0m\n",
      "\u001b[34m[02:33:07] src/tree/updater_prune.cc:74: tree pruning end, 1 roots, 24 extra nodes, 8 pruned nodes, max_depth=5\u001b[0m\n",
      "\u001b[34m[3]#011train-error:0.2804#011validation-error:0.2896\u001b[0m\n",
      "\u001b[34m[02:33:09] src/tree/updater_prune.cc:74: tree pruning end, 1 roots, 40 extra nodes, 4 pruned nodes, max_depth=5\u001b[0m\n",
      "\u001b[34m[4]#011train-error:0.2586#011validation-error:0.2679\u001b[0m\n",
      "\u001b[34m[02:33:10] src/tree/updater_prune.cc:74: tree pruning end, 1 roots, 30 extra nodes, 2 pruned nodes, max_depth=5\u001b[0m\n",
      "\u001b[34m[5]#011train-error:0.2594#011validation-error:0.2695\u001b[0m\n",
      "\u001b[34m[02:33:11] src/tree/updater_prune.cc:74: tree pruning end, 1 roots, 28 extra nodes, 12 pruned nodes, max_depth=5\u001b[0m\n",
      "\u001b[34m[6]#011train-error:0.249867#011validation-error:0.2593\u001b[0m\n",
      "\u001b[34m[02:33:13] src/tree/updater_prune.cc:74: tree pruning end, 1 roots, 34 extra nodes, 4 pruned nodes, max_depth=5\u001b[0m\n",
      "\u001b[34m[7]#011train-error:0.243867#011validation-error:0.2524\u001b[0m\n",
      "\u001b[34m[02:33:14] src/tree/updater_prune.cc:74: tree pruning end, 1 roots, 40 extra nodes, 2 pruned nodes, max_depth=5\u001b[0m\n",
      "\u001b[34m[8]#011train-error:0.2326#011validation-error:0.2452\u001b[0m\n",
      "\u001b[34m[02:33:15] src/tree/updater_prune.cc:74: tree pruning end, 1 roots, 38 extra nodes, 2 pruned nodes, max_depth=5\u001b[0m\n",
      "\u001b[34m[9]#011train-error:0.231933#011validation-error:0.2448\u001b[0m\n",
      "\u001b[34m[02:33:16] src/tree/updater_prune.cc:74: tree pruning end, 1 roots, 42 extra nodes, 10 pruned nodes, max_depth=5\u001b[0m\n",
      "\u001b[34m[10]#011train-error:0.223#011validation-error:0.2383\u001b[0m\n",
      "\u001b[34m[02:33:18] src/tree/updater_prune.cc:74: tree pruning end, 1 roots, 26 extra nodes, 10 pruned nodes, max_depth=5\u001b[0m\n",
      "\u001b[34m[11]#011train-error:0.2168#011validation-error:0.232\u001b[0m\n",
      "\u001b[34m[02:33:19] src/tree/updater_prune.cc:74: tree pruning end, 1 roots, 26 extra nodes, 12 pruned nodes, max_depth=5\u001b[0m\n",
      "\u001b[34m[12]#011train-error:0.214067#011validation-error:0.2267\u001b[0m\n",
      "\u001b[34m[02:33:20] src/tree/updater_prune.cc:74: tree pruning end, 1 roots, 34 extra nodes, 0 pruned nodes, max_depth=5\u001b[0m\n",
      "\u001b[34m[13]#011train-error:0.210533#011validation-error:0.2233\u001b[0m\n",
      "\u001b[34m[02:33:21] src/tree/updater_prune.cc:74: tree pruning end, 1 roots, 46 extra nodes, 4 pruned nodes, max_depth=5\u001b[0m\n",
      "\u001b[34m[14]#011train-error:0.2054#011validation-error:0.2243\u001b[0m\n",
      "\u001b[34m[02:33:23] src/tree/updater_prune.cc:74: tree pruning end, 1 roots, 36 extra nodes, 4 pruned nodes, max_depth=5\u001b[0m\n",
      "\u001b[34m[15]#011train-error:0.1998#011validation-error:0.2216\u001b[0m\n",
      "\u001b[34m[02:33:24] src/tree/updater_prune.cc:74: tree pruning end, 1 roots, 20 extra nodes, 10 pruned nodes, max_depth=5\u001b[0m\n",
      "\u001b[34m[16]#011train-error:0.1968#011validation-error:0.2173\u001b[0m\n",
      "\u001b[34m[02:33:25] src/tree/updater_prune.cc:74: tree pruning end, 1 roots, 38 extra nodes, 2 pruned nodes, max_depth=5\u001b[0m\n",
      "\u001b[34m[17]#011train-error:0.194267#011validation-error:0.2155\u001b[0m\n",
      "\u001b[34m[02:33:26] src/tree/updater_prune.cc:74: tree pruning end, 1 roots, 22 extra nodes, 10 pruned nodes, max_depth=5\u001b[0m\n",
      "\u001b[34m[18]#011train-error:0.191333#011validation-error:0.2117\u001b[0m\n",
      "\u001b[34m[02:33:28] src/tree/updater_prune.cc:74: tree pruning end, 1 roots, 24 extra nodes, 10 pruned nodes, max_depth=5\u001b[0m\n",
      "\u001b[34m[19]#011train-error:0.1878#011validation-error:0.2098\u001b[0m\n",
      "\u001b[34m[02:33:29] src/tree/updater_prune.cc:74: tree pruning end, 1 roots, 28 extra nodes, 6 pruned nodes, max_depth=5\u001b[0m\n",
      "\u001b[34m[20]#011train-error:0.1868#011validation-error:0.209\u001b[0m\n",
      "\u001b[34m[02:33:30] src/tree/updater_prune.cc:74: tree pruning end, 1 roots, 24 extra nodes, 8 pruned nodes, max_depth=5\u001b[0m\n",
      "\u001b[34m[21]#011train-error:0.184867#011validation-error:0.2061\u001b[0m\n",
      "\u001b[34m[02:33:31] src/tree/updater_prune.cc:74: tree pruning end, 1 roots, 26 extra nodes, 8 pruned nodes, max_depth=5\u001b[0m\n",
      "\u001b[34m[22]#011train-error:0.181933#011validation-error:0.2054\u001b[0m\n",
      "\u001b[34m[02:33:33] src/tree/updater_prune.cc:74: tree pruning end, 1 roots, 28 extra nodes, 6 pruned nodes, max_depth=5\u001b[0m\n",
      "\u001b[34m[23]#011train-error:0.179333#011validation-error:0.2061\u001b[0m\n",
      "\u001b[34m[02:33:34] src/tree/updater_prune.cc:74: tree pruning end, 1 roots, 32 extra nodes, 2 pruned nodes, max_depth=5\u001b[0m\n",
      "\u001b[34m[24]#011train-error:0.176733#011validation-error:0.2044\u001b[0m\n",
      "\u001b[34m[02:33:35] src/tree/updater_prune.cc:74: tree pruning end, 1 roots, 26 extra nodes, 18 pruned nodes, max_depth=5\u001b[0m\n",
      "\u001b[34m[25]#011train-error:0.176667#011validation-error:0.201\u001b[0m\n",
      "\u001b[34m[02:33:36] src/tree/updater_prune.cc:74: tree pruning end, 1 roots, 24 extra nodes, 10 pruned nodes, max_depth=5\u001b[0m\n",
      "\u001b[34m[26]#011train-error:0.175#011validation-error:0.1992\u001b[0m\n",
      "\u001b[34m[02:33:38] src/tree/updater_prune.cc:74: tree pruning end, 1 roots, 16 extra nodes, 12 pruned nodes, max_depth=5\u001b[0m\n",
      "\u001b[34m[27]#011train-error:0.173533#011validation-error:0.1989\u001b[0m\n",
      "\u001b[34m[02:33:39] src/tree/updater_prune.cc:74: tree pruning end, 1 roots, 30 extra nodes, 2 pruned nodes, max_depth=5\u001b[0m\n",
      "\u001b[34m[28]#011train-error:0.172067#011validation-error:0.1972\u001b[0m\n",
      "\u001b[34m[02:33:40] src/tree/updater_prune.cc:74: tree pruning end, 1 roots, 26 extra nodes, 4 pruned nodes, max_depth=5\u001b[0m\n",
      "\u001b[34m[29]#011train-error:0.169333#011validation-error:0.1977\u001b[0m\n",
      "\u001b[34m[02:33:41] src/tree/updater_prune.cc:74: tree pruning end, 1 roots, 18 extra nodes, 14 pruned nodes, max_depth=5\u001b[0m\n",
      "\u001b[34m[30]#011train-error:0.168067#011validation-error:0.196\u001b[0m\n",
      "\u001b[34m[02:33:43] src/tree/updater_prune.cc:74: tree pruning end, 1 roots, 40 extra nodes, 8 pruned nodes, max_depth=5\u001b[0m\n",
      "\u001b[34m[31]#011train-error:0.165733#011validation-error:0.1948\u001b[0m\n",
      "\u001b[34m[02:33:44] src/tree/updater_prune.cc:74: tree pruning end, 1 roots, 34 extra nodes, 0 pruned nodes, max_depth=5\u001b[0m\n",
      "\u001b[34m[32]#011train-error:0.163667#011validation-error:0.1944\u001b[0m\n",
      "\u001b[34m[02:33:45] src/tree/updater_prune.cc:74: tree pruning end, 1 roots, 28 extra nodes, 10 pruned nodes, max_depth=5\u001b[0m\n",
      "\u001b[34m[33]#011train-error:0.162267#011validation-error:0.1934\u001b[0m\n",
      "\u001b[34m[02:33:46] src/tree/updater_prune.cc:74: tree pruning end, 1 roots, 22 extra nodes, 2 pruned nodes, max_depth=5\u001b[0m\n",
      "\u001b[34m[34]#011train-error:0.160533#011validation-error:0.1915\u001b[0m\n",
      "\u001b[34m[02:33:48] src/tree/updater_prune.cc:74: tree pruning end, 1 roots, 24 extra nodes, 6 pruned nodes, max_depth=5\u001b[0m\n",
      "\u001b[34m[35]#011train-error:0.158067#011validation-error:0.1916\u001b[0m\n",
      "\u001b[34m[02:33:49] src/tree/updater_prune.cc:74: tree pruning end, 1 roots, 34 extra nodes, 6 pruned nodes, max_depth=5\u001b[0m\n",
      "\u001b[34m[36]#011train-error:0.156467#011validation-error:0.1926\u001b[0m\n",
      "\u001b[34m[02:33:50] src/tree/updater_prune.cc:74: tree pruning end, 1 roots, 22 extra nodes, 16 pruned nodes, max_depth=5\u001b[0m\n",
      "\u001b[34m[37]#011train-error:0.155667#011validation-error:0.1914\u001b[0m\n",
      "\u001b[34m[02:33:51] src/tree/updater_prune.cc:74: tree pruning end, 1 roots, 28 extra nodes, 2 pruned nodes, max_depth=5\u001b[0m\n",
      "\u001b[34m[38]#011train-error:0.155#011validation-error:0.1896\u001b[0m\n",
      "\u001b[34m[02:33:53] src/tree/updater_prune.cc:74: tree pruning end, 1 roots, 18 extra nodes, 16 pruned nodes, max_depth=5\u001b[0m\n",
      "\u001b[34m[39]#011train-error:0.153533#011validation-error:0.1893\u001b[0m\n",
      "\u001b[34m[02:33:54] src/tree/updater_prune.cc:74: tree pruning end, 1 roots, 18 extra nodes, 8 pruned nodes, max_depth=5\u001b[0m\n",
      "\u001b[34m[40]#011train-error:0.1522#011validation-error:0.188\u001b[0m\n",
      "\u001b[34m[02:33:55] src/tree/updater_prune.cc:74: tree pruning end, 1 roots, 38 extra nodes, 6 pruned nodes, max_depth=5\u001b[0m\n",
      "\u001b[34m[41]#011train-error:0.1494#011validation-error:0.1859\u001b[0m\n",
      "\u001b[34m[02:33:56] src/tree/updater_prune.cc:74: tree pruning end, 1 roots, 28 extra nodes, 10 pruned nodes, max_depth=5\u001b[0m\n",
      "\u001b[34m[42]#011train-error:0.147667#011validation-error:0.1846\u001b[0m\n",
      "\u001b[34m[02:33:58] src/tree/updater_prune.cc:74: tree pruning end, 1 roots, 12 extra nodes, 2 pruned nodes, max_depth=5\u001b[0m\n",
      "\u001b[34m[43]#011train-error:0.146067#011validation-error:0.184\u001b[0m\n"
     ]
    },
    {
     "name": "stdout",
     "output_type": "stream",
     "text": [
      "\u001b[34m[02:33:59] src/tree/updater_prune.cc:74: tree pruning end, 1 roots, 18 extra nodes, 8 pruned nodes, max_depth=5\u001b[0m\n",
      "\u001b[34m[44]#011train-error:0.1456#011validation-error:0.1834\u001b[0m\n",
      "\u001b[34m[02:34:00] src/tree/updater_prune.cc:74: tree pruning end, 1 roots, 36 extra nodes, 10 pruned nodes, max_depth=5\u001b[0m\n",
      "\u001b[34m[45]#011train-error:0.143333#011validation-error:0.1824\u001b[0m\n",
      "\u001b[34m[02:34:01] src/tree/updater_prune.cc:74: tree pruning end, 1 roots, 16 extra nodes, 10 pruned nodes, max_depth=5\u001b[0m\n",
      "\u001b[34m[46]#011train-error:0.142867#011validation-error:0.1807\u001b[0m\n",
      "\u001b[34m[02:34:03] src/tree/updater_prune.cc:74: tree pruning end, 1 roots, 18 extra nodes, 10 pruned nodes, max_depth=5\u001b[0m\n",
      "\u001b[34m[47]#011train-error:0.142#011validation-error:0.1816\u001b[0m\n",
      "\u001b[34m[02:34:04] src/tree/updater_prune.cc:74: tree pruning end, 1 roots, 22 extra nodes, 12 pruned nodes, max_depth=5\u001b[0m\n",
      "\u001b[34m[48]#011train-error:0.141533#011validation-error:0.1805\u001b[0m\n",
      "\u001b[34m[02:34:05] src/tree/updater_prune.cc:74: tree pruning end, 1 roots, 22 extra nodes, 4 pruned nodes, max_depth=5\u001b[0m\n",
      "\u001b[34m[49]#011train-error:0.139733#011validation-error:0.1803\u001b[0m\n",
      "\u001b[34m[02:34:06] src/tree/updater_prune.cc:74: tree pruning end, 1 roots, 30 extra nodes, 8 pruned nodes, max_depth=5\u001b[0m\n",
      "\u001b[34m[50]#011train-error:0.139#011validation-error:0.1772\u001b[0m\n",
      "\u001b[34m[02:34:08] src/tree/updater_prune.cc:74: tree pruning end, 1 roots, 16 extra nodes, 10 pruned nodes, max_depth=5\u001b[0m\n",
      "\u001b[34m[51]#011train-error:0.138067#011validation-error:0.1776\u001b[0m\n",
      "\u001b[34m[02:34:09] src/tree/updater_prune.cc:74: tree pruning end, 1 roots, 12 extra nodes, 10 pruned nodes, max_depth=5\u001b[0m\n",
      "\u001b[34m[52]#011train-error:0.1372#011validation-error:0.1767\u001b[0m\n",
      "\u001b[34m[02:34:10] src/tree/updater_prune.cc:74: tree pruning end, 1 roots, 28 extra nodes, 4 pruned nodes, max_depth=5\u001b[0m\n",
      "\u001b[34m[53]#011train-error:0.135733#011validation-error:0.1768\u001b[0m\n",
      "\u001b[34m[02:34:11] src/tree/updater_prune.cc:74: tree pruning end, 1 roots, 28 extra nodes, 14 pruned nodes, max_depth=5\u001b[0m\n",
      "\u001b[34m[54]#011train-error:0.1346#011validation-error:0.1764\u001b[0m\n",
      "\u001b[34m[02:34:13] src/tree/updater_prune.cc:74: tree pruning end, 1 roots, 16 extra nodes, 8 pruned nodes, max_depth=5\u001b[0m\n",
      "\u001b[34m[55]#011train-error:0.1344#011validation-error:0.1752\u001b[0m\n",
      "\u001b[34m[02:34:14] src/tree/updater_prune.cc:74: tree pruning end, 1 roots, 14 extra nodes, 12 pruned nodes, max_depth=5\u001b[0m\n",
      "\u001b[34m[56]#011train-error:0.1336#011validation-error:0.1747\u001b[0m\n",
      "\u001b[34m[02:34:15] src/tree/updater_prune.cc:74: tree pruning end, 1 roots, 18 extra nodes, 14 pruned nodes, max_depth=5\u001b[0m\n",
      "\u001b[34m[57]#011train-error:0.132333#011validation-error:0.1729\u001b[0m\n",
      "\u001b[34m[02:34:16] src/tree/updater_prune.cc:74: tree pruning end, 1 roots, 12 extra nodes, 8 pruned nodes, max_depth=5\u001b[0m\n",
      "\u001b[34m[58]#011train-error:0.131267#011validation-error:0.1721\u001b[0m\n",
      "\u001b[34m[02:34:18] src/tree/updater_prune.cc:74: tree pruning end, 1 roots, 14 extra nodes, 8 pruned nodes, max_depth=5\u001b[0m\n",
      "\u001b[34m[59]#011train-error:0.1308#011validation-error:0.1721\u001b[0m\n",
      "\u001b[34m[02:34:19] src/tree/updater_prune.cc:74: tree pruning end, 1 roots, 22 extra nodes, 4 pruned nodes, max_depth=5\u001b[0m\n",
      "\u001b[34m[60]#011train-error:0.129133#011validation-error:0.1721\u001b[0m\n",
      "\u001b[34m[02:34:20] src/tree/updater_prune.cc:74: tree pruning end, 1 roots, 10 extra nodes, 8 pruned nodes, max_depth=5\u001b[0m\n",
      "\u001b[34m[61]#011train-error:0.1286#011validation-error:0.1712\u001b[0m\n",
      "\u001b[34m[02:34:21] src/tree/updater_prune.cc:74: tree pruning end, 1 roots, 26 extra nodes, 8 pruned nodes, max_depth=5\u001b[0m\n",
      "\u001b[34m[62]#011train-error:0.127267#011validation-error:0.1708\u001b[0m\n",
      "\u001b[34m[02:34:23] src/tree/updater_prune.cc:74: tree pruning end, 1 roots, 14 extra nodes, 14 pruned nodes, max_depth=5\u001b[0m\n",
      "\u001b[34m[63]#011train-error:0.1266#011validation-error:0.1694\u001b[0m\n",
      "\u001b[34m[02:34:24] src/tree/updater_prune.cc:74: tree pruning end, 1 roots, 16 extra nodes, 10 pruned nodes, max_depth=5\u001b[0m\n",
      "\u001b[34m[64]#011train-error:0.126133#011validation-error:0.1689\u001b[0m\n",
      "\u001b[34m[02:34:25] src/tree/updater_prune.cc:74: tree pruning end, 1 roots, 26 extra nodes, 6 pruned nodes, max_depth=5\u001b[0m\n",
      "\u001b[34m[65]#011train-error:0.125067#011validation-error:0.1686\u001b[0m\n",
      "\u001b[34m[02:34:26] src/tree/updater_prune.cc:74: tree pruning end, 1 roots, 26 extra nodes, 10 pruned nodes, max_depth=5\u001b[0m\n",
      "\u001b[34m[66]#011train-error:0.122467#011validation-error:0.1681\u001b[0m\n",
      "\u001b[34m[02:34:28] src/tree/updater_prune.cc:74: tree pruning end, 1 roots, 32 extra nodes, 6 pruned nodes, max_depth=5\u001b[0m\n",
      "\u001b[34m[67]#011train-error:0.121533#011validation-error:0.1674\u001b[0m\n",
      "\u001b[34m[02:34:29] src/tree/updater_prune.cc:74: tree pruning end, 1 roots, 18 extra nodes, 8 pruned nodes, max_depth=5\u001b[0m\n",
      "\u001b[34m[68]#011train-error:0.120533#011validation-error:0.1673\u001b[0m\n",
      "\u001b[34m[02:34:30] src/tree/updater_prune.cc:74: tree pruning end, 1 roots, 16 extra nodes, 4 pruned nodes, max_depth=5\u001b[0m\n",
      "\u001b[34m[69]#011train-error:0.120867#011validation-error:0.1681\u001b[0m\n",
      "\u001b[34m[02:34:31] src/tree/updater_prune.cc:74: tree pruning end, 1 roots, 24 extra nodes, 8 pruned nodes, max_depth=5\u001b[0m\n",
      "\u001b[34m[70]#011train-error:0.120333#011validation-error:0.1673\u001b[0m\n",
      "\u001b[34m[02:34:33] src/tree/updater_prune.cc:74: tree pruning end, 1 roots, 22 extra nodes, 14 pruned nodes, max_depth=5\u001b[0m\n",
      "\u001b[34m[71]#011train-error:0.1198#011validation-error:0.168\u001b[0m\n",
      "\u001b[34m[02:34:34] src/tree/updater_prune.cc:74: tree pruning end, 1 roots, 42 extra nodes, 8 pruned nodes, max_depth=5\u001b[0m\n",
      "\u001b[34m[72]#011train-error:0.117933#011validation-error:0.1654\u001b[0m\n",
      "\u001b[34m[02:34:35] src/tree/updater_prune.cc:74: tree pruning end, 1 roots, 28 extra nodes, 12 pruned nodes, max_depth=5\u001b[0m\n",
      "\u001b[34m[73]#011train-error:0.116667#011validation-error:0.1646\u001b[0m\n",
      "\u001b[34m[02:34:36] src/tree/updater_prune.cc:74: tree pruning end, 1 roots, 12 extra nodes, 6 pruned nodes, max_depth=5\u001b[0m\n",
      "\u001b[34m[74]#011train-error:0.1154#011validation-error:0.1652\u001b[0m\n",
      "\u001b[34m[02:34:38] src/tree/updater_prune.cc:74: tree pruning end, 1 roots, 20 extra nodes, 6 pruned nodes, max_depth=5\u001b[0m\n",
      "\u001b[34m[75]#011train-error:0.1148#011validation-error:0.1625\u001b[0m\n",
      "\u001b[34m[02:34:39] src/tree/updater_prune.cc:74: tree pruning end, 1 roots, 20 extra nodes, 12 pruned nodes, max_depth=5\u001b[0m\n",
      "\u001b[34m[76]#011train-error:0.115#011validation-error:0.1617\u001b[0m\n",
      "\u001b[34m[02:34:40] src/tree/updater_prune.cc:74: tree pruning end, 1 roots, 20 extra nodes, 10 pruned nodes, max_depth=5\u001b[0m\n",
      "\u001b[34m[77]#011train-error:0.1136#011validation-error:0.1616\u001b[0m\n",
      "\u001b[34m[02:34:41] src/tree/updater_prune.cc:74: tree pruning end, 1 roots, 18 extra nodes, 6 pruned nodes, max_depth=5\u001b[0m\n",
      "\u001b[34m[78]#011train-error:0.113067#011validation-error:0.1607\u001b[0m\n",
      "\u001b[34m[02:34:43] src/tree/updater_prune.cc:74: tree pruning end, 1 roots, 16 extra nodes, 12 pruned nodes, max_depth=5\u001b[0m\n",
      "\u001b[34m[79]#011train-error:0.112067#011validation-error:0.1608\u001b[0m\n",
      "\u001b[34m[02:34:44] src/tree/updater_prune.cc:74: tree pruning end, 1 roots, 16 extra nodes, 6 pruned nodes, max_depth=5\u001b[0m\n",
      "\u001b[34m[80]#011train-error:0.110733#011validation-error:0.16\u001b[0m\n",
      "\u001b[34m[02:34:45] src/tree/updater_prune.cc:74: tree pruning end, 1 roots, 22 extra nodes, 6 pruned nodes, max_depth=5\u001b[0m\n",
      "\u001b[34m[81]#011train-error:0.110467#011validation-error:0.1602\u001b[0m\n",
      "\u001b[34m[02:34:46] src/tree/updater_prune.cc:74: tree pruning end, 1 roots, 20 extra nodes, 8 pruned nodes, max_depth=5\u001b[0m\n",
      "\u001b[34m[82]#011train-error:0.109667#011validation-error:0.1608\u001b[0m\n",
      "\u001b[34m[02:34:48] src/tree/updater_prune.cc:74: tree pruning end, 1 roots, 18 extra nodes, 4 pruned nodes, max_depth=5\u001b[0m\n",
      "\u001b[34m[83]#011train-error:0.1096#011validation-error:0.1613\u001b[0m\n",
      "\u001b[34m[02:34:49] src/tree/updater_prune.cc:74: tree pruning end, 1 roots, 20 extra nodes, 6 pruned nodes, max_depth=5\u001b[0m\n",
      "\u001b[34m[84]#011train-error:0.109333#011validation-error:0.16\u001b[0m\n",
      "\u001b[34m[02:34:50] src/tree/updater_prune.cc:74: tree pruning end, 1 roots, 24 extra nodes, 6 pruned nodes, max_depth=5\u001b[0m\n",
      "\u001b[34m[85]#011train-error:0.109467#011validation-error:0.1596\u001b[0m\n",
      "\u001b[34m[02:34:51] src/tree/updater_prune.cc:74: tree pruning end, 1 roots, 22 extra nodes, 8 pruned nodes, max_depth=5\u001b[0m\n",
      "\u001b[34m[86]#011train-error:0.1088#011validation-error:0.1596\u001b[0m\n",
      "\u001b[34m[02:34:53] src/tree/updater_prune.cc:74: tree pruning end, 1 roots, 14 extra nodes, 6 pruned nodes, max_depth=5\u001b[0m\n",
      "\u001b[34m[87]#011train-error:0.108267#011validation-error:0.1589\u001b[0m\n",
      "\u001b[34m[02:34:54] src/tree/updater_prune.cc:74: tree pruning end, 1 roots, 20 extra nodes, 14 pruned nodes, max_depth=5\u001b[0m\n",
      "\u001b[34m[88]#011train-error:0.107133#011validation-error:0.1579\u001b[0m\n",
      "\u001b[34m[02:34:55] src/tree/updater_prune.cc:74: tree pruning end, 1 roots, 12 extra nodes, 14 pruned nodes, max_depth=5\u001b[0m\n",
      "\u001b[34m[89]#011train-error:0.1064#011validation-error:0.1579\u001b[0m\n",
      "\u001b[34m[02:34:56] src/tree/updater_prune.cc:74: tree pruning end, 1 roots, 28 extra nodes, 16 pruned nodes, max_depth=5\u001b[0m\n",
      "\u001b[34m[90]#011train-error:0.104867#011validation-error:0.1573\u001b[0m\n",
      "\u001b[34m[02:34:58] src/tree/updater_prune.cc:74: tree pruning end, 1 roots, 20 extra nodes, 8 pruned nodes, max_depth=5\u001b[0m\n",
      "\u001b[34m[91]#011train-error:0.104533#011validation-error:0.1562\u001b[0m\n",
      "\u001b[34m[02:34:59] src/tree/updater_prune.cc:74: tree pruning end, 1 roots, 38 extra nodes, 12 pruned nodes, max_depth=5\u001b[0m\n",
      "\u001b[34m[92]#011train-error:0.103733#011validation-error:0.1575\u001b[0m\n",
      "\u001b[34m[02:35:00] src/tree/updater_prune.cc:74: tree pruning end, 1 roots, 26 extra nodes, 16 pruned nodes, max_depth=5\u001b[0m\n",
      "\u001b[34m[93]#011train-error:0.1036#011validation-error:0.1583\u001b[0m\n",
      "\u001b[34m[02:35:01] src/tree/updater_prune.cc:74: tree pruning end, 1 roots, 16 extra nodes, 8 pruned nodes, max_depth=5\u001b[0m\n",
      "\u001b[34m[94]#011train-error:0.103133#011validation-error:0.1568\u001b[0m\n",
      "\u001b[34m[02:35:03] src/tree/updater_prune.cc:74: tree pruning end, 1 roots, 20 extra nodes, 6 pruned nodes, max_depth=5\u001b[0m\n",
      "\u001b[34m[95]#011train-error:0.1026#011validation-error:0.1569\u001b[0m\n"
     ]
    },
    {
     "name": "stdout",
     "output_type": "stream",
     "text": [
      "\u001b[34m[02:35:04] src/tree/updater_prune.cc:74: tree pruning end, 1 roots, 14 extra nodes, 6 pruned nodes, max_depth=5\u001b[0m\n",
      "\u001b[34m[96]#011train-error:0.102133#011validation-error:0.1561\u001b[0m\n",
      "\u001b[34m[02:35:05] src/tree/updater_prune.cc:74: tree pruning end, 1 roots, 22 extra nodes, 10 pruned nodes, max_depth=5\u001b[0m\n",
      "\u001b[34m[97]#011train-error:0.102067#011validation-error:0.1567\u001b[0m\n",
      "\u001b[34m[02:35:06] src/tree/updater_prune.cc:74: tree pruning end, 1 roots, 12 extra nodes, 2 pruned nodes, max_depth=5\u001b[0m\n",
      "\u001b[34m[98]#011train-error:0.101667#011validation-error:0.1564\u001b[0m\n",
      "\u001b[34m[02:35:08] src/tree/updater_prune.cc:74: tree pruning end, 1 roots, 18 extra nodes, 8 pruned nodes, max_depth=5\u001b[0m\n",
      "\u001b[34m[99]#011train-error:0.100867#011validation-error:0.1567\u001b[0m\n",
      "\u001b[34m[02:35:09] src/tree/updater_prune.cc:74: tree pruning end, 1 roots, 12 extra nodes, 6 pruned nodes, max_depth=5\u001b[0m\n",
      "\u001b[34m[100]#011train-error:0.1008#011validation-error:0.1562\u001b[0m\n",
      "\u001b[34m[02:35:10] src/tree/updater_prune.cc:74: tree pruning end, 1 roots, 12 extra nodes, 8 pruned nodes, max_depth=5\u001b[0m\n",
      "\u001b[34m[101]#011train-error:0.1004#011validation-error:0.1558\u001b[0m\n",
      "\u001b[34m[02:35:11] src/tree/updater_prune.cc:74: tree pruning end, 1 roots, 26 extra nodes, 12 pruned nodes, max_depth=5\u001b[0m\n",
      "\u001b[34m[102]#011train-error:0.099467#011validation-error:0.1553\u001b[0m\n",
      "\u001b[34m[02:35:13] src/tree/updater_prune.cc:74: tree pruning end, 1 roots, 16 extra nodes, 8 pruned nodes, max_depth=5\u001b[0m\n",
      "\u001b[34m[103]#011train-error:0.099733#011validation-error:0.1551\u001b[0m\n",
      "\u001b[34m[02:35:14] src/tree/updater_prune.cc:74: tree pruning end, 1 roots, 18 extra nodes, 0 pruned nodes, max_depth=5\u001b[0m\n",
      "\u001b[34m[104]#011train-error:0.099333#011validation-error:0.1545\u001b[0m\n",
      "\u001b[34m[02:35:15] src/tree/updater_prune.cc:74: tree pruning end, 1 roots, 14 extra nodes, 16 pruned nodes, max_depth=5\u001b[0m\n",
      "\u001b[34m[105]#011train-error:0.099533#011validation-error:0.1539\u001b[0m\n",
      "\u001b[34m[02:35:16] src/tree/updater_prune.cc:74: tree pruning end, 1 roots, 14 extra nodes, 10 pruned nodes, max_depth=5\u001b[0m\n",
      "\u001b[34m[106]#011train-error:0.0984#011validation-error:0.1541\u001b[0m\n",
      "\u001b[34m[02:35:18] src/tree/updater_prune.cc:74: tree pruning end, 1 roots, 26 extra nodes, 4 pruned nodes, max_depth=5\u001b[0m\n",
      "\u001b[34m[107]#011train-error:0.097533#011validation-error:0.1546\u001b[0m\n",
      "\u001b[34m[02:35:19] src/tree/updater_prune.cc:74: tree pruning end, 1 roots, 18 extra nodes, 14 pruned nodes, max_depth=5\u001b[0m\n",
      "\u001b[34m[108]#011train-error:0.0974#011validation-error:0.1543\u001b[0m\n",
      "\u001b[34m[02:35:20] src/tree/updater_prune.cc:74: tree pruning end, 1 roots, 10 extra nodes, 8 pruned nodes, max_depth=5\u001b[0m\n",
      "\u001b[34m[109]#011train-error:0.096667#011validation-error:0.1543\u001b[0m\n",
      "\u001b[34m[02:35:21] src/tree/updater_prune.cc:74: tree pruning end, 1 roots, 18 extra nodes, 16 pruned nodes, max_depth=5\u001b[0m\n",
      "\u001b[34m[110]#011train-error:0.096467#011validation-error:0.1534\u001b[0m\n",
      "\u001b[34m[02:35:23] src/tree/updater_prune.cc:74: tree pruning end, 1 roots, 10 extra nodes, 8 pruned nodes, max_depth=5\u001b[0m\n",
      "\u001b[34m[111]#011train-error:0.096333#011validation-error:0.1527\u001b[0m\n",
      "\u001b[34m[02:35:24] src/tree/updater_prune.cc:74: tree pruning end, 1 roots, 20 extra nodes, 10 pruned nodes, max_depth=5\u001b[0m\n",
      "\u001b[34m[112]#011train-error:0.096#011validation-error:0.1529\u001b[0m\n",
      "\u001b[34m[02:35:25] src/tree/updater_prune.cc:74: tree pruning end, 1 roots, 10 extra nodes, 4 pruned nodes, max_depth=5\u001b[0m\n",
      "\u001b[34m[113]#011train-error:0.095867#011validation-error:0.1529\u001b[0m\n",
      "\u001b[34m[02:35:26] src/tree/updater_prune.cc:74: tree pruning end, 1 roots, 10 extra nodes, 2 pruned nodes, max_depth=5\u001b[0m\n",
      "\u001b[34m[114]#011train-error:0.095933#011validation-error:0.1524\u001b[0m\n",
      "\u001b[34m[02:35:28] src/tree/updater_prune.cc:74: tree pruning end, 1 roots, 14 extra nodes, 12 pruned nodes, max_depth=5\u001b[0m\n",
      "\u001b[34m[115]#011train-error:0.095533#011validation-error:0.1516\u001b[0m\n",
      "\u001b[34m[02:35:29] src/tree/updater_prune.cc:74: tree pruning end, 1 roots, 12 extra nodes, 4 pruned nodes, max_depth=5\u001b[0m\n",
      "\u001b[34m[116]#011train-error:0.0952#011validation-error:0.1516\u001b[0m\n",
      "\u001b[34m[02:35:30] src/tree/updater_prune.cc:74: tree pruning end, 1 roots, 10 extra nodes, 10 pruned nodes, max_depth=5\u001b[0m\n",
      "\u001b[34m[117]#011train-error:0.094667#011validation-error:0.1513\u001b[0m\n",
      "\u001b[34m[02:35:31] src/tree/updater_prune.cc:74: tree pruning end, 1 roots, 20 extra nodes, 10 pruned nodes, max_depth=5\u001b[0m\n",
      "\u001b[34m[118]#011train-error:0.094#011validation-error:0.1509\u001b[0m\n",
      "\u001b[34m[02:35:33] src/tree/updater_prune.cc:74: tree pruning end, 1 roots, 16 extra nodes, 10 pruned nodes, max_depth=5\u001b[0m\n",
      "\u001b[34m[119]#011train-error:0.093133#011validation-error:0.1508\u001b[0m\n",
      "\u001b[34m[02:35:34] src/tree/updater_prune.cc:74: tree pruning end, 1 roots, 14 extra nodes, 4 pruned nodes, max_depth=5\u001b[0m\n",
      "\u001b[34m[120]#011train-error:0.0924#011validation-error:0.1508\u001b[0m\n",
      "\u001b[34m[02:35:35] src/tree/updater_prune.cc:74: tree pruning end, 1 roots, 14 extra nodes, 10 pruned nodes, max_depth=5\u001b[0m\n",
      "\u001b[34m[121]#011train-error:0.091733#011validation-error:0.1502\u001b[0m\n",
      "\u001b[34m[02:35:36] src/tree/updater_prune.cc:74: tree pruning end, 1 roots, 12 extra nodes, 4 pruned nodes, max_depth=5\u001b[0m\n",
      "\u001b[34m[122]#011train-error:0.091733#011validation-error:0.1499\u001b[0m\n",
      "\u001b[34m[02:35:38] src/tree/updater_prune.cc:74: tree pruning end, 1 roots, 14 extra nodes, 4 pruned nodes, max_depth=5\u001b[0m\n",
      "\u001b[34m[123]#011train-error:0.091267#011validation-error:0.1499\u001b[0m\n",
      "\u001b[34m[02:35:39] src/tree/updater_prune.cc:74: tree pruning end, 1 roots, 10 extra nodes, 8 pruned nodes, max_depth=5\u001b[0m\n",
      "\u001b[34m[124]#011train-error:0.090667#011validation-error:0.1489\u001b[0m\n",
      "\u001b[34m[02:35:40] src/tree/updater_prune.cc:74: tree pruning end, 1 roots, 14 extra nodes, 14 pruned nodes, max_depth=5\u001b[0m\n",
      "\u001b[34m[125]#011train-error:0.090733#011validation-error:0.1492\u001b[0m\n",
      "\u001b[34m[02:35:42] src/tree/updater_prune.cc:74: tree pruning end, 1 roots, 22 extra nodes, 8 pruned nodes, max_depth=5\u001b[0m\n",
      "\u001b[34m[126]#011train-error:0.089867#011validation-error:0.1492\u001b[0m\n",
      "\u001b[34m[02:35:43] src/tree/updater_prune.cc:74: tree pruning end, 1 roots, 10 extra nodes, 2 pruned nodes, max_depth=5\u001b[0m\n",
      "\u001b[34m[127]#011train-error:0.0892#011validation-error:0.1493\u001b[0m\n",
      "\u001b[34m[02:35:44] src/tree/updater_prune.cc:74: tree pruning end, 1 roots, 18 extra nodes, 14 pruned nodes, max_depth=5\u001b[0m\n",
      "\u001b[34m[128]#011train-error:0.088933#011validation-error:0.1489\u001b[0m\n",
      "\u001b[34m[02:35:45] src/tree/updater_prune.cc:74: tree pruning end, 1 roots, 18 extra nodes, 10 pruned nodes, max_depth=5\u001b[0m\n",
      "\u001b[34m[129]#011train-error:0.088933#011validation-error:0.1485\u001b[0m\n",
      "\u001b[34m[02:35:47] src/tree/updater_prune.cc:74: tree pruning end, 1 roots, 12 extra nodes, 2 pruned nodes, max_depth=5\u001b[0m\n",
      "\u001b[34m[130]#011train-error:0.088333#011validation-error:0.1487\u001b[0m\n",
      "\u001b[34m[02:35:48] src/tree/updater_prune.cc:74: tree pruning end, 1 roots, 14 extra nodes, 6 pruned nodes, max_depth=5\u001b[0m\n",
      "\u001b[34m[131]#011train-error:0.088467#011validation-error:0.1488\u001b[0m\n",
      "\u001b[34m[02:35:49] src/tree/updater_prune.cc:74: tree pruning end, 1 roots, 16 extra nodes, 14 pruned nodes, max_depth=5\u001b[0m\n",
      "\u001b[34m[132]#011train-error:0.089133#011validation-error:0.1483\u001b[0m\n",
      "\u001b[34m[02:35:50] src/tree/updater_prune.cc:74: tree pruning end, 1 roots, 16 extra nodes, 14 pruned nodes, max_depth=5\u001b[0m\n",
      "\u001b[34m[133]#011train-error:0.0882#011validation-error:0.1489\u001b[0m\n",
      "\u001b[34m[02:35:52] src/tree/updater_prune.cc:74: tree pruning end, 1 roots, 22 extra nodes, 2 pruned nodes, max_depth=5\u001b[0m\n",
      "\u001b[34m[134]#011train-error:0.0872#011validation-error:0.1488\u001b[0m\n",
      "\u001b[34m[02:35:53] src/tree/updater_prune.cc:74: tree pruning end, 1 roots, 14 extra nodes, 8 pruned nodes, max_depth=5\u001b[0m\n",
      "\u001b[34m[135]#011train-error:0.086733#011validation-error:0.1484\u001b[0m\n",
      "\u001b[34m[02:35:54] src/tree/updater_prune.cc:74: tree pruning end, 1 roots, 18 extra nodes, 8 pruned nodes, max_depth=5\u001b[0m\n",
      "\u001b[34m[136]#011train-error:0.087067#011validation-error:0.1471\u001b[0m\n",
      "\u001b[34m[02:35:55] src/tree/updater_prune.cc:74: tree pruning end, 1 roots, 14 extra nodes, 4 pruned nodes, max_depth=5\u001b[0m\n",
      "\u001b[34m[137]#011train-error:0.086467#011validation-error:0.1462\u001b[0m\n",
      "\u001b[34m[02:35:57] src/tree/updater_prune.cc:74: tree pruning end, 1 roots, 12 extra nodes, 12 pruned nodes, max_depth=5\u001b[0m\n",
      "\u001b[34m[138]#011train-error:0.086467#011validation-error:0.1473\u001b[0m\n",
      "\u001b[34m[02:35:58] src/tree/updater_prune.cc:74: tree pruning end, 1 roots, 30 extra nodes, 10 pruned nodes, max_depth=5\u001b[0m\n",
      "\u001b[34m[139]#011train-error:0.085#011validation-error:0.1463\u001b[0m\n"
     ]
    },
    {
     "name": "stdout",
     "output_type": "stream",
     "text": [
      "\n",
      "2020-02-05 02:36:16 Uploading - Uploading generated training model\n",
      "2020-02-05 02:36:16 Completed - Training job completed\n",
      "\u001b[34m[02:35:59] src/tree/updater_prune.cc:74: tree pruning end, 1 roots, 12 extra nodes, 8 pruned nodes, max_depth=5\u001b[0m\n",
      "\u001b[34m[140]#011train-error:0.085267#011validation-error:0.1468\u001b[0m\n",
      "\u001b[34m[02:36:00] src/tree/updater_prune.cc:74: tree pruning end, 1 roots, 18 extra nodes, 2 pruned nodes, max_depth=5\u001b[0m\n",
      "\u001b[34m[141]#011train-error:0.084467#011validation-error:0.1471\u001b[0m\n",
      "\u001b[34m[02:36:02] src/tree/updater_prune.cc:74: tree pruning end, 1 roots, 16 extra nodes, 12 pruned nodes, max_depth=5\u001b[0m\n",
      "\u001b[34m[142]#011train-error:0.0838#011validation-error:0.1468\u001b[0m\n",
      "\u001b[34m[02:36:03] src/tree/updater_prune.cc:74: tree pruning end, 1 roots, 24 extra nodes, 10 pruned nodes, max_depth=5\u001b[0m\n",
      "\u001b[34m[143]#011train-error:0.0834#011validation-error:0.1477\u001b[0m\n",
      "\u001b[34m[02:36:04] src/tree/updater_prune.cc:74: tree pruning end, 1 roots, 10 extra nodes, 6 pruned nodes, max_depth=5\u001b[0m\n",
      "\u001b[34m[144]#011train-error:0.0828#011validation-error:0.1477\u001b[0m\n",
      "\u001b[34m[02:36:05] src/tree/updater_prune.cc:74: tree pruning end, 1 roots, 16 extra nodes, 4 pruned nodes, max_depth=5\u001b[0m\n",
      "\u001b[34m[145]#011train-error:0.082733#011validation-error:0.1473\u001b[0m\n",
      "\u001b[34m[02:36:07] src/tree/updater_prune.cc:74: tree pruning end, 1 roots, 28 extra nodes, 20 pruned nodes, max_depth=5\u001b[0m\n",
      "\u001b[34m[146]#011train-error:0.0818#011validation-error:0.1467\u001b[0m\n",
      "\u001b[34m[02:36:08] src/tree/updater_prune.cc:74: tree pruning end, 1 roots, 12 extra nodes, 12 pruned nodes, max_depth=5\u001b[0m\n",
      "\u001b[34m[147]#011train-error:0.081467#011validation-error:0.1467\u001b[0m\n",
      "\u001b[34mStopping. Best iteration:\u001b[0m\n",
      "\u001b[34m[137]#011train-error:0.086467#011validation-error:0.1462\n",
      "\u001b[0m\n",
      "Training seconds: 236\n",
      "Billable seconds: 236\n"
     ]
    }
   ],
   "source": [
    "xgb.fit({'train': s3_input_train, 'validation': s3_input_validation})"
   ]
  },
  {
   "cell_type": "markdown",
   "metadata": {},
   "source": [
    "## Step 5: Testing the model\n",
    "\n",
    "Now that we've fit our XGBoost model, it's time to see how well it performs. To do this we will use SageMakers Batch Transform functionality. Batch Transform is a convenient way to perform inference on a large dataset in a way that is not realtime. That is, we don't necessarily need to use our model's results immediately and instead we can perform inference on a large number of samples. An example of this in industry might be performing an end of month report. This method of inference can also be useful to us as it means that we can perform inference on our entire test set. \n",
    "\n",
    "To perform a Batch Transformation we need to first create a transformer objects from our trained estimator object."
   ]
  },
  {
   "cell_type": "code",
   "execution_count": 24,
   "metadata": {},
   "outputs": [],
   "source": [
    "xgb_transformer = xgb.transformer(instance_count = 1, instance_type = 'ml.m4.xlarge')"
   ]
  },
  {
   "cell_type": "markdown",
   "metadata": {},
   "source": [
    "Next we actually perform the transform job. When doing so we need to make sure to specify the type of data we are sending so that it is serialized correctly in the background. In our case we are providing our model with csv data so we specify `text/csv`. Also, if the test data that we have provided is too large to process all at once then we need to specify how the data file should be split up. Since each line is a single entry in our data set we tell SageMaker that it can split the input on each line."
   ]
  },
  {
   "cell_type": "code",
   "execution_count": 25,
   "metadata": {},
   "outputs": [],
   "source": [
    "xgb_transformer.transform(test_location, content_type='text/csv', split_type='Line')"
   ]
  },
  {
   "cell_type": "markdown",
   "metadata": {},
   "source": [
    "Currently the transform job is running but it is doing so in the background. Since we wish to wait until the transform job is done and we would like a bit of feedback we can run the `wait()` method."
   ]
  },
  {
   "cell_type": "code",
   "execution_count": 26,
   "metadata": {},
   "outputs": [
    {
     "name": "stdout",
     "output_type": "stream",
     "text": [
      "....................\u001b[34mArguments: serve\u001b[0m\n",
      "\u001b[34m[2020-02-05 02:40:44 +0000] [1] [INFO] Starting gunicorn 19.7.1\u001b[0m\n",
      "\u001b[34m[2020-02-05 02:40:44 +0000] [1] [INFO] Listening at: http://0.0.0.0:8080 (1)\u001b[0m\n",
      "\u001b[34m[2020-02-05 02:40:44 +0000] [1] [INFO] Using worker: gevent\u001b[0m\n",
      "\u001b[34m[2020-02-05 02:40:44 +0000] [38] [INFO] Booting worker with pid: 38\u001b[0m\n",
      "\u001b[34m[2020-02-05 02:40:44 +0000] [39] [INFO] Booting worker with pid: 39\u001b[0m\n",
      "\u001b[34m[2020-02-05 02:40:44 +0000] [40] [INFO] Booting worker with pid: 40\u001b[0m\n",
      "\u001b[34m[2020-02-05 02:40:44 +0000] [41] [INFO] Booting worker with pid: 41\u001b[0m\n",
      "\u001b[34m[2020-02-05:02:40:44:INFO] Model loaded successfully for worker : 39\u001b[0m\n",
      "\u001b[34m[2020-02-05:02:40:44:INFO] Model loaded successfully for worker : 38\u001b[0m\n",
      "\u001b[34m[2020-02-05:02:40:44:INFO] Model loaded successfully for worker : 41\u001b[0m\n",
      "\u001b[34m[2020-02-05:02:40:44:INFO] Model loaded successfully for worker : 40\u001b[0m\n",
      "\u001b[32m2020-02-05T02:41:18.433:[sagemaker logs]: MaxConcurrentTransforms=4, MaxPayloadInMB=6, BatchStrategy=MULTI_RECORD\u001b[0m\n",
      "\u001b[34m[2020-02-05:02:41:21:INFO] Sniff delimiter as ','\u001b[0m\n",
      "\u001b[34m[2020-02-05:02:41:21:INFO] Determined delimiter of CSV input is ','\u001b[0m\n",
      "\u001b[34m[2020-02-05:02:41:21:INFO] Sniff delimiter as ','\u001b[0m\n",
      "\u001b[34m[2020-02-05:02:41:21:INFO] Determined delimiter of CSV input is ','\u001b[0m\n",
      "\u001b[34m[2020-02-05:02:41:21:INFO] Sniff delimiter as ','\u001b[0m\n",
      "\u001b[34m[2020-02-05:02:41:21:INFO] Determined delimiter of CSV input is ','\u001b[0m\n",
      "\u001b[34m[2020-02-05:02:41:21:INFO] Sniff delimiter as ','\u001b[0m\n",
      "\u001b[34m[2020-02-05:02:41:21:INFO] Determined delimiter of CSV input is ','\u001b[0m\n",
      "\u001b[35m[2020-02-05:02:41:21:INFO] Sniff delimiter as ','\u001b[0m\n",
      "\u001b[35m[2020-02-05:02:41:21:INFO] Determined delimiter of CSV input is ','\u001b[0m\n",
      "\u001b[35m[2020-02-05:02:41:21:INFO] Sniff delimiter as ','\u001b[0m\n",
      "\u001b[35m[2020-02-05:02:41:21:INFO] Determined delimiter of CSV input is ','\u001b[0m\n",
      "\u001b[35m[2020-02-05:02:41:21:INFO] Sniff delimiter as ','\u001b[0m\n",
      "\u001b[35m[2020-02-05:02:41:21:INFO] Determined delimiter of CSV input is ','\u001b[0m\n",
      "\u001b[35m[2020-02-05:02:41:21:INFO] Sniff delimiter as ','\u001b[0m\n",
      "\u001b[35m[2020-02-05:02:41:21:INFO] Determined delimiter of CSV input is ','\u001b[0m\n",
      "\u001b[34m[2020-02-05:02:41:23:INFO] Sniff delimiter as ','\u001b[0m\n",
      "\u001b[34m[2020-02-05:02:41:23:INFO] Determined delimiter of CSV input is ','\u001b[0m\n",
      "\u001b[34m[2020-02-05:02:41:23:INFO] Sniff delimiter as ','\u001b[0m\n",
      "\u001b[34m[2020-02-05:02:41:23:INFO] Determined delimiter of CSV input is ','\u001b[0m\n",
      "\u001b[35m[2020-02-05:02:41:23:INFO] Sniff delimiter as ','\u001b[0m\n",
      "\u001b[35m[2020-02-05:02:41:23:INFO] Determined delimiter of CSV input is ','\u001b[0m\n",
      "\u001b[35m[2020-02-05:02:41:23:INFO] Sniff delimiter as ','\u001b[0m\n",
      "\u001b[35m[2020-02-05:02:41:23:INFO] Determined delimiter of CSV input is ','\u001b[0m\n",
      "\u001b[34m[2020-02-05:02:41:23:INFO] Sniff delimiter as ','\u001b[0m\n",
      "\u001b[35m[2020-02-05:02:41:23:INFO] Sniff delimiter as ','\u001b[0m\n",
      "\u001b[34m[2020-02-05:02:41:23:INFO] Determined delimiter of CSV input is ','\u001b[0m\n",
      "\u001b[34m[2020-02-05:02:41:24:INFO] Sniff delimiter as ','\u001b[0m\n",
      "\u001b[34m[2020-02-05:02:41:24:INFO] Determined delimiter of CSV input is ','\u001b[0m\n",
      "\u001b[35m[2020-02-05:02:41:23:INFO] Determined delimiter of CSV input is ','\u001b[0m\n",
      "\u001b[35m[2020-02-05:02:41:24:INFO] Sniff delimiter as ','\u001b[0m\n",
      "\u001b[35m[2020-02-05:02:41:24:INFO] Determined delimiter of CSV input is ','\u001b[0m\n",
      "\u001b[34m[2020-02-05:02:41:26:INFO] Determined delimiter of CSV input is ','\u001b[0m\n",
      "\u001b[34m[2020-02-05:02:41:26:INFO] Sniff delimiter as ','\u001b[0m\n",
      "\u001b[34m[2020-02-05:02:41:26:INFO] Determined delimiter of CSV input is ','\u001b[0m\n",
      "\u001b[34m[2020-02-05:02:41:26:INFO] Sniff delimiter as ','\u001b[0m\n",
      "\u001b[34m[2020-02-05:02:41:26:INFO] Determined delimiter of CSV input is ','\u001b[0m\n",
      "\u001b[35m[2020-02-05:02:41:26:INFO] Determined delimiter of CSV input is ','\u001b[0m\n",
      "\u001b[35m[2020-02-05:02:41:26:INFO] Sniff delimiter as ','\u001b[0m\n",
      "\u001b[35m[2020-02-05:02:41:26:INFO] Determined delimiter of CSV input is ','\u001b[0m\n",
      "\u001b[35m[2020-02-05:02:41:26:INFO] Sniff delimiter as ','\u001b[0m\n",
      "\u001b[35m[2020-02-05:02:41:26:INFO] Determined delimiter of CSV input is ','\u001b[0m\n",
      "\u001b[34m[2020-02-05:02:41:28:INFO] Sniff delimiter as ','\u001b[0m\n",
      "\u001b[34m[2020-02-05:02:41:28:INFO] Determined delimiter of CSV input is ','\u001b[0m\n",
      "\u001b[34m[2020-02-05:02:41:28:INFO] Sniff delimiter as ','\u001b[0m\n",
      "\u001b[34m[2020-02-05:02:41:28:INFO] Determined delimiter of CSV input is ','\u001b[0m\n",
      "\u001b[34m[2020-02-05:02:41:28:INFO] Sniff delimiter as ','\u001b[0m\n",
      "\u001b[34m[2020-02-05:02:41:28:INFO] Determined delimiter of CSV input is ','\u001b[0m\n",
      "\u001b[35m[2020-02-05:02:41:28:INFO] Sniff delimiter as ','\u001b[0m\n",
      "\u001b[35m[2020-02-05:02:41:28:INFO] Determined delimiter of CSV input is ','\u001b[0m\n",
      "\u001b[35m[2020-02-05:02:41:28:INFO] Sniff delimiter as ','\u001b[0m\n",
      "\u001b[35m[2020-02-05:02:41:28:INFO] Determined delimiter of CSV input is ','\u001b[0m\n",
      "\u001b[35m[2020-02-05:02:41:28:INFO] Sniff delimiter as ','\u001b[0m\n",
      "\u001b[35m[2020-02-05:02:41:28:INFO] Determined delimiter of CSV input is ','\u001b[0m\n",
      "\u001b[34m[2020-02-05:02:41:28:INFO] Sniff delimiter as ','\u001b[0m\n",
      "\u001b[34m[2020-02-05:02:41:28:INFO] Determined delimiter of CSV input is ','\u001b[0m\n",
      "\u001b[35m[2020-02-05:02:41:28:INFO] Sniff delimiter as ','\u001b[0m\n",
      "\u001b[35m[2020-02-05:02:41:28:INFO] Determined delimiter of CSV input is ','\u001b[0m\n",
      "\u001b[34m[2020-02-05:02:41:31:INFO] Sniff delimiter as ','\u001b[0m\n",
      "\u001b[34m[2020-02-05:02:41:31:INFO] Determined delimiter of CSV input is ','\u001b[0m\n",
      "\u001b[34m[2020-02-05:02:41:31:INFO] Sniff delimiter as ','\u001b[0m\n",
      "\u001b[34m[2020-02-05:02:41:31:INFO] Determined delimiter of CSV input is ','\u001b[0m\n",
      "\u001b[34m[2020-02-05:02:41:31:INFO] Sniff delimiter as ','\u001b[0m\n",
      "\u001b[34m[2020-02-05:02:41:31:INFO] Determined delimiter of CSV input is ','\u001b[0m\n",
      "\u001b[35m[2020-02-05:02:41:31:INFO] Sniff delimiter as ','\u001b[0m\n",
      "\u001b[35m[2020-02-05:02:41:31:INFO] Determined delimiter of CSV input is ','\u001b[0m\n",
      "\u001b[35m[2020-02-05:02:41:31:INFO] Sniff delimiter as ','\u001b[0m\n",
      "\u001b[35m[2020-02-05:02:41:31:INFO] Determined delimiter of CSV input is ','\u001b[0m\n",
      "\u001b[35m[2020-02-05:02:41:31:INFO] Sniff delimiter as ','\u001b[0m\n",
      "\u001b[35m[2020-02-05:02:41:31:INFO] Determined delimiter of CSV input is ','\u001b[0m\n",
      "\u001b[34m[2020-02-05:02:41:31:INFO] Sniff delimiter as ','\u001b[0m\n",
      "\u001b[34m[2020-02-05:02:41:31:INFO] Determined delimiter of CSV input is ','\u001b[0m\n",
      "\u001b[35m[2020-02-05:02:41:31:INFO] Sniff delimiter as ','\u001b[0m\n",
      "\u001b[35m[2020-02-05:02:41:31:INFO] Determined delimiter of CSV input is ','\u001b[0m\n",
      "\u001b[34m[2020-02-05:02:41:33:INFO] Sniff delimiter as ','\u001b[0m\n",
      "\u001b[34m[2020-02-05:02:41:33:INFO] Determined delimiter of CSV input is ','\u001b[0m\n",
      "\u001b[34m[2020-02-05:02:41:33:INFO] Sniff delimiter as ','\u001b[0m\n",
      "\u001b[34m[2020-02-05:02:41:33:INFO] Determined delimiter of CSV input is ','\u001b[0m\n",
      "\u001b[35m[2020-02-05:02:41:33:INFO] Sniff delimiter as ','\u001b[0m\n",
      "\u001b[35m[2020-02-05:02:41:33:INFO] Determined delimiter of CSV input is ','\u001b[0m\n",
      "\u001b[35m[2020-02-05:02:41:33:INFO] Sniff delimiter as ','\u001b[0m\n",
      "\u001b[35m[2020-02-05:02:41:33:INFO] Determined delimiter of CSV input is ','\u001b[0m\n",
      "\u001b[34m[2020-02-05:02:41:33:INFO] Sniff delimiter as ','\u001b[0m\n",
      "\u001b[34m[2020-02-05:02:41:33:INFO] Determined delimiter of CSV input is ','\u001b[0m\n",
      "\u001b[35m[2020-02-05:02:41:33:INFO] Sniff delimiter as ','\u001b[0m\n",
      "\u001b[35m[2020-02-05:02:41:33:INFO] Determined delimiter of CSV input is ','\u001b[0m\n",
      "\u001b[34m[2020-02-05:02:41:33:INFO] Sniff delimiter as ','\u001b[0m\n",
      "\u001b[34m[2020-02-05:02:41:33:INFO] Determined delimiter of CSV input is ','\u001b[0m\n",
      "\u001b[35m[2020-02-05:02:41:33:INFO] Sniff delimiter as ','\u001b[0m\n",
      "\u001b[35m[2020-02-05:02:41:33:INFO] Determined delimiter of CSV input is ','\u001b[0m\n",
      "\u001b[34m[2020-02-05:02:41:36:INFO] Sniff delimiter as ','\u001b[0m\n",
      "\u001b[34m[2020-02-05:02:41:36:INFO] Determined delimiter of CSV input is ','\u001b[0m\n",
      "\u001b[34m[2020-02-05:02:41:36:INFO] Sniff delimiter as ','\u001b[0m\n",
      "\u001b[34m[2020-02-05:02:41:36:INFO] Determined delimiter of CSV input is ','\u001b[0m\n",
      "\u001b[34m[2020-02-05:02:41:36:INFO] Sniff delimiter as ','\u001b[0m\n",
      "\u001b[34m[2020-02-05:02:41:36:INFO] Determined delimiter of CSV input is ','\u001b[0m\n",
      "\u001b[35m[2020-02-05:02:41:36:INFO] Sniff delimiter as ','\u001b[0m\n",
      "\u001b[35m[2020-02-05:02:41:36:INFO] Determined delimiter of CSV input is ','\u001b[0m\n",
      "\u001b[35m[2020-02-05:02:41:36:INFO] Sniff delimiter as ','\u001b[0m\n",
      "\u001b[35m[2020-02-05:02:41:36:INFO] Determined delimiter of CSV input is ','\u001b[0m\n",
      "\u001b[35m[2020-02-05:02:41:36:INFO] Sniff delimiter as ','\u001b[0m\n",
      "\u001b[35m[2020-02-05:02:41:36:INFO] Determined delimiter of CSV input is ','\u001b[0m\n",
      "\u001b[34m[2020-02-05:02:41:38:INFO] Sniff delimiter as ','\u001b[0m\n",
      "\u001b[34m[2020-02-05:02:41:38:INFO] Determined delimiter of CSV input is ','\u001b[0m\n",
      "\u001b[34m[2020-02-05:02:41:38:INFO] Sniff delimiter as ','\u001b[0m\n",
      "\u001b[34m[2020-02-05:02:41:38:INFO] Determined delimiter of CSV input is ','\u001b[0m\n",
      "\u001b[34m[2020-02-05:02:41:38:INFO] Sniff delimiter as ','\u001b[0m\n",
      "\u001b[34m[2020-02-05:02:41:38:INFO] Determined delimiter of CSV input is ','\u001b[0m\n",
      "\u001b[35m[2020-02-05:02:41:38:INFO] Sniff delimiter as ','\u001b[0m\n",
      "\u001b[35m[2020-02-05:02:41:38:INFO] Determined delimiter of CSV input is ','\u001b[0m\n",
      "\u001b[35m[2020-02-05:02:41:38:INFO] Sniff delimiter as ','\u001b[0m\n",
      "\u001b[35m[2020-02-05:02:41:38:INFO] Determined delimiter of CSV input is ','\u001b[0m\n",
      "\u001b[35m[2020-02-05:02:41:38:INFO] Sniff delimiter as ','\u001b[0m\n",
      "\u001b[35m[2020-02-05:02:41:38:INFO] Determined delimiter of CSV input is ','\u001b[0m\n",
      "\u001b[34m[2020-02-05:02:41:38:INFO] Sniff delimiter as ','\u001b[0m\n",
      "\u001b[35m[2020-02-05:02:41:38:INFO] Sniff delimiter as ','\u001b[0m\n",
      "\u001b[34m[2020-02-05:02:41:38:INFO] Determined delimiter of CSV input is ','\u001b[0m\n",
      "\u001b[35m[2020-02-05:02:41:38:INFO] Determined delimiter of CSV input is ','\u001b[0m\n",
      "\u001b[34m[2020-02-05:02:41:40:INFO] Sniff delimiter as ','\u001b[0m\n",
      "\u001b[34m[2020-02-05:02:41:40:INFO] Determined delimiter of CSV input is ','\u001b[0m\n",
      "\u001b[35m[2020-02-05:02:41:40:INFO] Sniff delimiter as ','\u001b[0m\n",
      "\u001b[35m[2020-02-05:02:41:40:INFO] Determined delimiter of CSV input is ','\u001b[0m\n",
      "\u001b[34m[2020-02-05:02:41:40:INFO] Sniff delimiter as ','\u001b[0m\n",
      "\u001b[35m[2020-02-05:02:41:40:INFO] Sniff delimiter as ','\u001b[0m\n",
      "\u001b[34m[2020-02-05:02:41:40:INFO] Determined delimiter of CSV input is ','\u001b[0m\n",
      "\u001b[34m[2020-02-05:02:41:41:INFO] Sniff delimiter as ','\u001b[0m\n",
      "\u001b[34m[2020-02-05:02:41:41:INFO] Determined delimiter of CSV input is ','\u001b[0m\n",
      "\u001b[34m[2020-02-05:02:41:41:INFO] Sniff delimiter as ','\u001b[0m\n",
      "\u001b[34m[2020-02-05:02:41:41:INFO] Determined delimiter of CSV input is ','\u001b[0m\n",
      "\u001b[35m[2020-02-05:02:41:40:INFO] Determined delimiter of CSV input is ','\u001b[0m\n",
      "\u001b[35m[2020-02-05:02:41:41:INFO] Sniff delimiter as ','\u001b[0m\n",
      "\u001b[35m[2020-02-05:02:41:41:INFO] Determined delimiter of CSV input is ','\u001b[0m\n",
      "\u001b[35m[2020-02-05:02:41:41:INFO] Sniff delimiter as ','\u001b[0m\n",
      "\u001b[35m[2020-02-05:02:41:41:INFO] Determined delimiter of CSV input is ','\u001b[0m\n",
      "\u001b[34m[2020-02-05:02:41:43:INFO] Sniff delimiter as ','\u001b[0m\n",
      "\u001b[34m[2020-02-05:02:41:43:INFO] Determined delimiter of CSV input is ','\u001b[0m\n",
      "\u001b[34m[2020-02-05:02:41:43:INFO] Sniff delimiter as ','\u001b[0m\n",
      "\u001b[34m[2020-02-05:02:41:43:INFO] Determined delimiter of CSV input is ','\u001b[0m\n",
      "\u001b[34m[2020-02-05:02:41:43:INFO] Sniff delimiter as ','\u001b[0m\n",
      "\u001b[34m[2020-02-05:02:41:43:INFO] Determined delimiter of CSV input is ','\u001b[0m\n",
      "\u001b[34m[2020-02-05:02:41:43:INFO] Sniff delimiter as ','\u001b[0m\n",
      "\u001b[34m[2020-02-05:02:41:43:INFO] Determined delimiter of CSV input is ','\u001b[0m\n",
      "\u001b[35m[2020-02-05:02:41:43:INFO] Sniff delimiter as ','\u001b[0m\n",
      "\u001b[35m[2020-02-05:02:41:43:INFO] Determined delimiter of CSV input is ','\u001b[0m\n",
      "\u001b[35m[2020-02-05:02:41:43:INFO] Sniff delimiter as ','\u001b[0m\n",
      "\u001b[35m[2020-02-05:02:41:43:INFO] Determined delimiter of CSV input is ','\u001b[0m\n",
      "\u001b[35m[2020-02-05:02:41:43:INFO] Sniff delimiter as ','\u001b[0m\n",
      "\u001b[35m[2020-02-05:02:41:43:INFO] Determined delimiter of CSV input is ','\u001b[0m\n",
      "\u001b[35m[2020-02-05:02:41:43:INFO] Sniff delimiter as ','\u001b[0m\n",
      "\u001b[35m[2020-02-05:02:41:43:INFO] Determined delimiter of CSV input is ','\u001b[0m\n"
     ]
    },
    {
     "name": "stdout",
     "output_type": "stream",
     "text": [
      "\n"
     ]
    }
   ],
   "source": [
    "xgb_transformer.wait()"
   ]
  },
  {
   "cell_type": "markdown",
   "metadata": {},
   "source": [
    "Now the transform job has executed and the result, the estimated sentiment of each review, has been saved on S3. Since we would rather work on this file locally we can perform a bit of notebook magic to copy the file to the `data_dir`."
   ]
  },
  {
   "cell_type": "code",
   "execution_count": 27,
   "metadata": {},
   "outputs": [
    {
     "name": "stdout",
     "output_type": "stream",
     "text": [
      "Completed 256.0 KiB/369.2 KiB (2.8 MiB/s) with 1 file(s) remaining\r",
      "Completed 369.2 KiB/369.2 KiB (3.9 MiB/s) with 1 file(s) remaining\r",
      "download: s3://sagemaker-ap-northeast-2-148514131281/xgboost-2020-02-05-02-37-35-041/test.csv.out to ../data/sentiment_web_app/test.csv.out\r\n"
     ]
    }
   ],
   "source": [
    "!aws s3 cp --recursive $xgb_transformer.output_path $data_dir"
   ]
  },
  {
   "cell_type": "markdown",
   "metadata": {},
   "source": [
    "The last step is now to read in the output from our model, convert the output to something a little more usable, in this case we want the sentiment to be either `1` (positive) or `0` (negative), and then compare to the ground truth labels."
   ]
  },
  {
   "cell_type": "code",
   "execution_count": 28,
   "metadata": {},
   "outputs": [],
   "source": [
    "predictions = pd.read_csv(os.path.join(data_dir, 'test.csv.out'), header=None)\n",
    "predictions = [round(num) for num in predictions.squeeze().values]"
   ]
  },
  {
   "cell_type": "code",
   "execution_count": 29,
   "metadata": {},
   "outputs": [
    {
     "data": {
      "text/plain": [
       "0.85576"
      ]
     },
     "execution_count": 29,
     "metadata": {},
     "output_type": "execute_result"
    }
   ],
   "source": [
    "from sklearn.metrics import accuracy_score\n",
    "accuracy_score(test_y, predictions)"
   ]
  },
  {
   "cell_type": "markdown",
   "metadata": {},
   "source": [
    "## Step 6: Deploying the model\n",
    "\n",
    "Once we construct and fit our model, SageMaker stores the resulting model artifacts and we can use those to deploy an endpoint (inference code). To see this, look in the SageMaker console and you should see that a model has been created along with a link to the S3 location where the model artifacts have been stored.\n",
    "\n",
    "Deploying an endpoint is a lot like training the model with a few important differences. The first is that a deployed model doesn't change the model artifacts, so as you send it various testing instances the model won't change. Another difference is that since we aren't performing a fixed computation, as we were in the training step or while performing a batch transform, the compute instance that gets started stays running until we tell it to stop. This is important to note as if we forget and leave it running we will be charged the entire time.\n",
    "\n",
    "In other words **If you are no longer using a deployed endpoint, shut it down!**"
   ]
  },
  {
   "cell_type": "code",
   "execution_count": 30,
   "metadata": {},
   "outputs": [
    {
     "name": "stderr",
     "output_type": "stream",
     "text": [
      "WARNING:sagemaker:Using already existing model: xgboost-2020-02-05-02-29-43-049\n"
     ]
    },
    {
     "name": "stdout",
     "output_type": "stream",
     "text": [
      "-------------!"
     ]
    }
   ],
   "source": [
    "xgb_predictor = xgb.deploy(initial_instance_count = 1, instance_type = 'ml.m4.xlarge')"
   ]
  },
  {
   "cell_type": "markdown",
   "metadata": {},
   "source": [
    "### Testing the model (again)\n",
    "\n",
    "Now that we have deployed our endpoint, we can send the testing data to it and get back the inference results. We already did this earlier using the batch transform functionality of SageMaker, however, we will test our model again using the newly deployed endpoint so that we can make sure that it works properly and to get a bit of a feel for how the endpoint works.\n",
    "\n",
    "When using the created endpoint it is important to know that we are limited in the amount of information we can send in each call so we need to break the testing data up into chunks and then send each chunk. Also, we need to serialize our data before we send it to the endpoint to ensure that our data is transmitted properly. Fortunately, SageMaker can do the serialization part for us provided we tell it the format of our data."
   ]
  },
  {
   "cell_type": "code",
   "execution_count": 31,
   "metadata": {},
   "outputs": [],
   "source": [
    "from sagemaker.predictor import csv_serializer\n",
    "\n",
    "# We need to tell the endpoint what format the data we are sending is in so that SageMaker can perform the serialization.\n",
    "xgb_predictor.content_type = 'text/csv'\n",
    "xgb_predictor.serializer = csv_serializer"
   ]
  },
  {
   "cell_type": "code",
   "execution_count": 32,
   "metadata": {},
   "outputs": [],
   "source": [
    "# We split the data into chunks and send each chunk seperately, accumulating the results.\n",
    "\n",
    "def predict(data, rows=512):\n",
    "    split_array = np.array_split(data, int(data.shape[0] / float(rows) + 1))\n",
    "    predictions = ''\n",
    "    for array in split_array:\n",
    "        predictions = ','.join([predictions, xgb_predictor.predict(array).decode('utf-8')])\n",
    "    \n",
    "    return np.fromstring(predictions[1:], sep=',')"
   ]
  },
  {
   "cell_type": "code",
   "execution_count": 33,
   "metadata": {},
   "outputs": [],
   "source": [
    "test_X = pd.read_csv(os.path.join(data_dir, 'test.csv'), header=None).values\n",
    "\n",
    "predictions = predict(test_X)\n",
    "predictions = [round(num) for num in predictions]"
   ]
  },
  {
   "cell_type": "markdown",
   "metadata": {},
   "source": [
    "Lastly, we check to see what the accuracy of our model is."
   ]
  },
  {
   "cell_type": "code",
   "execution_count": 34,
   "metadata": {},
   "outputs": [
    {
     "data": {
      "text/plain": [
       "0.85576"
      ]
     },
     "execution_count": 34,
     "metadata": {},
     "output_type": "execute_result"
    }
   ],
   "source": [
    "from sklearn.metrics import accuracy_score\n",
    "accuracy_score(test_y, predictions)"
   ]
  },
  {
   "cell_type": "markdown",
   "metadata": {},
   "source": [
    "And the results here should agree with the model testing that we did earlier using the batch transform job.\n",
    "\n",
    "### Cleaning up\n",
    "\n",
    "Now that we've determined that deploying our model works as expected, we are going to shut it down. Remember that the longer the endpoint is left running, the greater the cost and since we have a bit more work to do before we are able to use our endpoint with our simple web app, we should shut everything down."
   ]
  },
  {
   "cell_type": "code",
   "execution_count": null,
   "metadata": {},
   "outputs": [],
   "source": [
    "xgb_predictor.delete_endpoint()"
   ]
  },
  {
   "cell_type": "markdown",
   "metadata": {},
   "source": [
    "## Step 7: Putting our model to work\n",
    "\n",
    "As we've mentioned a few times now, our goal is to have our model deployed and then access it using a very simple web app. The intent is for this web app to take some user submitted data (a review), send it off to our endpoint (the model) and then display the result.\n",
    "\n",
    "However, there is a small catch. Currently the only way we can access the endpoint to send it data is using the SageMaker API. We can, if we wish, expose the actual URL that our model's endpoint is receiving data from, however, if we just send it data ourselves we will not get anything in return. This is because the endpoint created by SageMaker requires the entity accessing it have the correct permissions. So, we would need to somehow authenticate our web app with AWS.\n",
    "\n",
    "Having a website that authenticates to AWS seems a bit beyond the scope of this lesson so we will opt for an alternative approach. Namely, we will create a new endpoint which does not require authentication and which acts as a proxy for the SageMaker endpoint.\n",
    "\n",
    "As an additional constraint, we will try to avoid doing any data processing in the web app itself. Remember that when we constructed and tested our model we started with a movie review, then we simplified it by removing any html formatting and punctuation, then we constructed a bag of words embedding and the resulting vector is what we sent to our model. All of this needs to be done to our user input as well.\n",
    "\n",
    "Fortunately we can do all of this data processing in the backend, using Amazon's Lambda service.\n",
    "\n",
    "<img src=\"Web App Diagram.svg\">\n",
    "\n",
    "The diagram above gives an overview of how the various services will work together. On the far right is the model which we trained above and which will be deployed using SageMaker. On the far left is our web app that collects a user's movie review, sends it off and expects a positive or negative sentiment in return.\n",
    "\n",
    "In the middle is where some of the magic happens. We will construct a Lambda function, which you can think of as a straightforward Python function that can be executed whenever a specified event occurs. This Python function will do the data processing we need to perform on a user submitted review. In addition, we will give this function permission to send and recieve data from a SageMaker endpoint.\n",
    "\n",
    "Lastly, the method we will use to execute the Lambda function is a new endpoint that we will create using API Gateway. This endpoint will be a url that listens for data to be sent to it. Once it gets some data it will pass that data on to the Lambda function and then return whatever the Lambda function returns. Essentially it will act as an interface that lets our web app communicate with the Lambda function.\n",
    "\n",
    "### Processing a single review\n",
    "\n",
    "For now, suppose we are given a movie review by our user in the form of a string, like so:"
   ]
  },
  {
   "cell_type": "code",
   "execution_count": 35,
   "metadata": {},
   "outputs": [],
   "source": [
    "test_review = \"Nothing but a disgusting materialistic pageant of glistening abed remote control greed zombies, totally devoid of any heart or heat. A romantic comedy that has zero romantic chemestry and zero laughs!\""
   ]
  },
  {
   "cell_type": "markdown",
   "metadata": {},
   "source": [
    "How do we go from this string to the bag of words feature vector that is expected by our model?\n",
    "\n",
    "If we recall at the beginning of this notebook, the first step is to remove any unnecessary characters using the `review_to_words` method. Remember that we intentionally did this in a very simplistic way. This is because we are going to have to copy this method to our (eventual) Lambda function (we will go into more detail later) and this means it needs to be rather simplistic."
   ]
  },
  {
   "cell_type": "code",
   "execution_count": 36,
   "metadata": {},
   "outputs": [
    {
     "name": "stdout",
     "output_type": "stream",
     "text": [
      "nothing but a disgusting materialistic pageant of glistening abed remote control greed zombies totally devoid of any heart or heat a romantic comedy that has zero romantic chemestry and zero laughs\n"
     ]
    }
   ],
   "source": [
    "test_words = review_to_words(test_review)\n",
    "print(test_words)"
   ]
  },
  {
   "cell_type": "markdown",
   "metadata": {},
   "source": [
    "Next, we need to construct a bag of words embedding of the `test_words` string. To do this, remember that a bag of words embedding uses a `vocabulary` consisting of the most frequently appearing words in a set of documents. Then, for each word in the vocabulary we record the number of times that word appears in `test_words`. We constructed the `vocabulary` earlier using the training set for our problem so encoding `test_words` is relatively straightforward."
   ]
  },
  {
   "cell_type": "code",
   "execution_count": 37,
   "metadata": {},
   "outputs": [],
   "source": [
    "def bow_encoding(words, vocabulary):\n",
    "    bow = [0] * len(vocabulary) # Start by setting the count for each word in the vocabulary to zero.\n",
    "    for word in words.split():  # For each word in the string\n",
    "        if word in vocabulary:  # If the word is one that occurs in the vocabulary, increase its count.\n",
    "            bow[vocabulary[word]] += 1\n",
    "    return bow"
   ]
  },
  {
   "cell_type": "code",
   "execution_count": 38,
   "metadata": {},
   "outputs": [
    {
     "name": "stdout",
     "output_type": "stream",
     "text": [
      "[0, 0, 0, 0, 0, 0, 0, 0, 0, 0, 0, 0, 0, 0, 0, 0, 0, 0, 0, 0, 0, 0, 0, 0, 0, 0, 0, 0, 0, 0, 0, 0, 0, 0, 0, 0, 0, 0, 0, 0, 0, 0, 0, 0, 0, 0, 0, 0, 0, 0, 0, 0, 0, 0, 0, 0, 0, 0, 0, 0, 0, 0, 0, 0, 0, 0, 0, 0, 0, 0, 0, 0, 0, 0, 0, 0, 0, 0, 0, 0, 0, 0, 0, 0, 0, 0, 0, 0, 0, 0, 0, 0, 0, 0, 0, 0, 0, 0, 0, 0, 0, 0, 0, 0, 0, 0, 0, 0, 0, 0, 0, 0, 0, 0, 0, 0, 0, 0, 0, 0, 0, 0, 0, 0, 0, 0, 0, 0, 0, 0, 0, 0, 0, 0, 0, 0, 0, 0, 0, 0, 0, 0, 0, 0, 0, 0, 0, 0, 0, 0, 0, 0, 0, 0, 0, 0, 0, 0, 0, 0, 0, 0, 0, 0, 0, 0, 0, 0, 0, 0, 0, 0, 0, 0, 0, 0, 0, 0, 0, 0, 0, 0, 0, 0, 0, 0, 0, 0, 0, 0, 0, 0, 0, 0, 0, 0, 0, 0, 0, 0, 0, 0, 0, 0, 0, 0, 0, 0, 0, 0, 0, 0, 0, 0, 0, 0, 0, 0, 0, 0, 0, 0, 0, 0, 0, 0, 1, 0, 0, 0, 0, 0, 0, 0, 0, 0, 0, 0, 0, 0, 0, 0, 0, 0, 0, 0, 0, 0, 0, 0, 0, 0, 0, 0, 0, 0, 1, 0, 0, 0, 0, 0, 0, 0, 0, 0, 0, 0, 0, 0, 0, 0, 0, 0, 0, 0, 0, 0, 0, 0, 0, 0, 0, 0, 0, 0, 0, 0, 0, 0, 0, 0, 0, 0, 0, 0, 0, 0, 0, 0, 0, 0, 0, 0, 0, 0, 0, 0, 0, 0, 0, 0, 0, 0, 0, 0, 0, 0, 0, 0, 0, 0, 0, 0, 0, 0, 0, 0, 0, 0, 0, 0, 0, 0, 0, 0, 0, 0, 0, 0, 0, 0, 0, 0, 0, 0, 0, 0, 0, 0, 0, 0, 0, 0, 0, 0, 0, 0, 0, 0, 0, 0, 0, 0, 0, 0, 0, 0, 0, 0, 0, 0, 0, 0, 0, 0, 0, 0, 0, 0, 0, 0, 0, 0, 0, 0, 0, 0, 0, 0, 0, 0, 0, 0, 0, 0, 0, 0, 0, 0, 0, 0, 0, 0, 0, 0, 0, 0, 0, 0, 0, 0, 0, 0, 0, 0, 0, 0, 0, 0, 0, 0, 0, 0, 0, 0, 0, 0, 0, 0, 0, 0, 0, 0, 0, 0, 0, 0, 0, 0, 0, 0, 0, 0, 0, 0, 0, 0, 0, 0, 0, 0, 0, 0, 0, 0, 0, 0, 0, 0, 0, 0, 0, 0, 0, 0, 0, 0, 0, 0, 0, 0, 0, 0, 0, 0, 0, 0, 0, 0, 0, 0, 0, 0, 0, 0, 0, 0, 0, 0, 0, 0, 0, 0, 0, 0, 0, 0, 0, 0, 0, 0, 0, 0, 0, 0, 0, 0, 0, 0, 0, 0, 0, 0, 0, 0, 0, 0, 0, 0, 0, 0, 0, 0, 0, 0, 0, 0, 0, 0, 0, 0, 0, 0, 0, 0, 0, 0, 0, 0, 0, 0, 0, 0, 0, 0, 0, 0, 0, 0, 0, 0, 0, 0, 0, 0, 0, 0, 0, 0, 0, 0, 0, 0, 0, 0, 0, 0, 0, 0, 0, 0, 0, 0, 0, 0, 0, 0, 0, 0, 0, 0, 0, 0, 0, 0, 0, 0, 0, 0, 0, 0, 0, 0, 0, 0, 0, 0, 0, 0, 0, 0, 0, 0, 0, 0, 0, 0, 0, 0, 0, 0, 0, 0, 0, 0, 0, 0, 0, 0, 0, 0, 0, 0, 0, 0, 0, 0, 0, 0, 0, 0, 0, 0, 0, 0, 1, 0, 0, 0, 0, 0, 0, 0, 0, 0, 0, 0, 0, 0, 0, 0, 0, 0, 0, 0, 0, 0, 0, 0, 0, 0, 0, 0, 0, 0, 0, 0, 0, 0, 0, 0, 0, 0, 0, 0, 0, 0, 0, 0, 0, 0, 0, 0, 0, 0, 0, 0, 0, 0, 0, 0, 0, 0, 0, 0, 0, 0, 0, 0, 0, 0, 0, 0, 0, 0, 0, 0, 0, 0, 0, 0, 0, 0, 0, 0, 0, 0, 0, 0, 0, 0, 0, 0, 0, 0, 0, 0, 0, 0, 0, 0, 0, 0, 0, 0, 0, 0, 0, 0, 0, 0, 0, 0, 0, 0, 0, 0, 0, 0, 0, 0, 0, 0, 0, 0, 0, 0, 0, 0, 0, 0, 0, 0, 0, 0, 0, 0, 0, 0, 0, 0, 0, 0, 0, 0, 0, 0, 0, 0, 0, 0, 0, 0, 0, 0, 0, 0, 0, 0, 0, 0, 0, 0, 0, 0, 0, 0, 0, 0, 0, 0, 0, 0, 0, 0, 0, 0, 0, 0, 0, 0, 0, 0, 0, 0, 0, 0, 0, 0, 0, 0, 0, 0, 0, 0, 0, 0, 0, 0, 0, 0, 0, 0, 0, 0, 0, 0, 0, 0, 0, 0, 0, 0, 0, 0, 0, 0, 0, 0, 0, 0, 0, 0, 0, 0, 0, 0, 0, 0, 0, 0, 0, 0, 0, 0, 0, 0, 0, 0, 0, 0, 0, 0, 0, 0, 0, 0, 0, 0, 0, 0, 0, 0, 0, 0, 0, 0, 0, 0, 1, 0, 0, 0, 0, 0, 0, 0, 0, 0, 0, 0, 0, 0, 0, 0, 0, 0, 0, 0, 0, 0, 0, 0, 0, 0, 0, 0, 0, 0, 0, 0, 0, 0, 0, 0, 0, 0, 0, 0, 0, 0, 0, 0, 0, 0, 0, 0, 0, 0, 0, 0, 0, 0, 0, 0, 0, 0, 0, 0, 0, 0, 0, 0, 0, 0, 0, 0, 0, 0, 0, 0, 0, 0, 0, 0, 0, 0, 0, 0, 0, 0, 0, 0, 0, 0, 0, 1, 0, 0, 0, 0, 0, 0, 0, 0, 0, 0, 0, 0, 0, 0, 0, 0, 0, 0, 0, 0, 0, 0, 0, 0, 0, 0, 0, 0, 0, 0, 0, 0, 0, 0, 0, 0, 0, 0, 0, 0, 0, 0, 0, 0, 0, 0, 0, 0, 0, 0, 0, 0, 0, 0, 0, 0, 0, 0, 0, 0, 0, 0, 0, 0, 0, 0, 0, 0, 0, 0, 0, 0, 0, 0, 0, 0, 0, 0, 0, 0, 0, 0, 0, 0, 0, 0, 0, 0, 0, 0, 0, 0, 0, 0, 0, 0, 0, 0, 0, 0, 0, 0, 0, 0, 0, 0, 0, 0, 0, 0, 0, 0, 0, 0, 0, 0, 0, 0, 0, 0, 0, 0, 0, 0, 0, 0, 0, 0, 0, 0, 0, 0, 0, 0, 0, 0, 0, 0, 0, 0, 0, 0, 0, 0, 0, 0, 0, 0, 0, 0, 0, 0, 0, 0, 0, 0, 0, 0, 0, 0, 0, 0, 0, 0, 0, 0, 0, 0, 0, 0, 0, 0, 0, 0, 0, 0, 0, 0, 0, 0, 0, 0, 0, 0, 0, 0, 0, 0, 0, 0, 0, 0, 0, 0, 0, 0, 0, 0, 0, 0, 0, 0, 0, 0, 0, 0, 0, 0, 0, 0, 0, 0, 0, 0, 0, 0, 0, 0, 0, 0, 0, 0, 0, 0, 0, 0, 0, 0, 0, 0, 0, 0, 0, 0, 0, 0, 0, 0, 0, 0, 0, 0, 0, 0, 0, 0, 0, 0, 0, 0, 0, 0, 1, 0, 0, 0, 0, 0, 0, 0, 0, 0, 0, 0, 0, 0, 0, 0, 0, 0, 0, 0, 0, 0, 0, 0, 0, 0, 0, 0, 0, 0, 0, 0, 0, 0, 0, 0, 0, 0, 0, 0, 0, 0, 0, 0, 0, 0, 0, 0, 0, 0, 0, 0, 0, 0, 0, 0, 1, 0, 0, 0, 0, 0, 0, 0, 0, 0, 0, 0, 0, 0, 0, 0, 0, 0, 0, 0, 0, 0, 0, 0, 0, 0, 0, 0, 0, 0, 0, 0, 0, 0, 0, 0, 0, 0, 0, 0, 0, 0, 0, 0, 0, 0, 0, 0, 0, 0, 0, 0, 0, 0, 0, 0, 0, 0, 0, 0, 0, 0, 0, 0, 0, 0, 0, 0, 0, 0, 0, 0, 0, 0, 0, 0, 0, 0, 0, 0, 0, 0, 0, 0, 0, 0, 0, 0, 0, 0, 0, 0, 0, 0, 0, 0, 0, 0, 0, 0, 0, 0, 0, 0, 0, 0, 0, 0, 0, 0, 0, 0, 0, 0, 0, 0, 0, 0, 0, 0, 0, 0, 0, 0, 0, 0, 0, 0, 0, 0, 0, 0, 0, 0, 0, 0, 0, 0, 0, 0, 0, 0, 0, 0, 0, 0, 0, 0, 0, 0, 0, 0, 0, 0, 0, 0, 0, 0, 0, 0, 0, 0, 0, 0, 0, 0, 0, 0, 0, 0, 0, 0, 0, 0, 0, 0, 0, 0, 0, 0, 0, 0, 0, 0, 0, 0, 0, 0, 0, 0, 0, 0, 0, 0, 0, 0, 0, 0, 0, 0, 0, 0, 0, 0, 0, 0, 0, 0, 0, 0, 0, 0, 0, 0, 0, 0, 0, 0, 0, 0, 0, 0, 0, 0, 0, 0, 0, 0, 0, 0, 0, 0, 0, 0, 0, 0, 0, 0, 0, 0, 0, 0, 0, 0, 0, 0, 0, 0, 0, 0, 0, 0, 0, 0, 0, 0, 0, 0, 0, 0, 0, 0, 0, 0, 0, 0, 0, 0, 0, 0, 0, 0, 0, 0, 0, 0, 0, 0, 0, 0, 0, 0, 0, 0, 0, 0, 0, 0, 0, 0, 0, 0, 0, 0, 0, 0, 0, 0, 0, 0, 0, 0, 0, 0, 0, 0, 0, 0, 0, 0, 0, 0, 0, 0, 0, 0, 0, 0, 0, 0, 0, 0, 0, 0, 0, 0, 0, 0, 0, 0, 0, 0, 0, 0, 0, 0, 0, 0, 0, 0, 0, 0, 0, 0, 0, 0, 0, 0, 0, 0, 0, 0, 0, 0, 0, 0, 0, 0, 0, 0, 0, 0, 0, 0, 0, 0, 0, 0, 0, 0, 0, 0, 0, 0, 0, 0, 0, 0, 0, 0, 0, 0, 0, 0, 0, 0, 0, 0, 0, 0, 0, 0, 0, 0, 0, 0, 0, 0, 0, 0, 0, 0, 0, 0, 0, 0, 0, 0, 0, 0, 0, 0, 0, 0, 0, 0, 0, 0, 0, 0, 0, 0, 0, 0, 0, 0, 0, 0, 0, 0, 0, 0, 0, 0, 0, 0, 0, 0, 0, 0, 0, 0, 0, 0, 0, 0, 0, 0, 0, 0, 0, 0, 0, 0, 0, 0, 0, 0, 0, 0, 0, 0, 0, 0, 0, 0, 0, 0, 0, 0, 0, 0, 0, 0, 0, 0, 0, 0, 0, 0, 0, 0, 0, 0, 0, 0, 0, 0, 0, 0, 0, 0, 0, 0, 0, 0, 0, 0, 0, 0, 0, 0, 0, 0, 0, 0, 0, 0, 0, 0, 0, 0, 0, 0, 0, 0, 0, 0, 0, 0, 0, 0, 0, 0, 0, 0, 0, 0, 0, 0, 0, 0, 0, 0, 0, 0, 0, 0, 0, 0, 0, 0, 0, 0, 0, 0, 0, 0, 0, 0, 0, 0, 0, 0, 0, 0, 0, 0, 0, 0, 0, 0, 0, 0, 0, 0, 0, 0, 0, 0, 0, 0, 0, 0, 0, 0, 0, 0, 0, 0, 0, 0, 0, 0, 0, 0, 0, 0, 0, 0, 0, 0, 0, 0, 0, 0, 0, 0, 0, 0, 0, 0, 0, 0, 0, 0, 0, 0, 0, 0, 0, 0, 0, 0, 0, 0, 0, 0, 0, 0, 0, 0, 0, 0, 0, 0, 0, 0, 0, 0, 0, 0, 0, 0, 0, 0, 0, 0, 0, 0, 0, 0, 0, 0, 0, 0, 0, 0, 0, 0, 0, 0, 0, 0, 0, 0, 0, 0, 0, 0, 0, 0, 0, 0, 0, 0, 0, 0, 0, 0, 0, 0, 0, 0, 0, 0, 0, 0, 0, 0, 0, 0, 1, 0, 0, 0, 0, 0, 0, 0, 0, 0, 0, 0, 0, 0, 0, 0, 0, 0, 0, 0, 0, 0, 0, 0, 0, 0, 0, 0, 0, 0, 0, 0, 0, 0, 0, 0, 0, 0, 0, 0, 0, 0, 0, 0, 0, 0, 0, 0, 0, 0, 0, 0, 0, 0, 0, 0, 0, 0, 0, 0, 0, 0, 0, 0, 0, 0, 0, 0, 0, 0, 0, 0, 0, 0, 0, 1, 0, 0, 0, 0, 0, 0, 0, 0, 0, 0, 0, 0, 0, 0, 0, 0, 0, 0, 0, 0, 1, 0, 0, 1, 0, 0, 0, 0, 0, 0, 0, 0, 0, 0, 0, 0, 0, 0, 0, 0, 0, 0, 0, 0, 0, 0, 0, 0, 0, 0, 0, 0, 0, 0, 0, 0, 0, 0, 0, 0, 0, 0, 0, 0, 0, 0, 0, 0, 0, 0, 0, 0, 0, 0, 0, 0, 0, 0, 0, 0, 0, 0, 0, 0, 0, 0, 0, 0, 0, 0, 0, 0, 0, 0, 0, 0, 0, 0, 0, 0, 0, 0, 0, 0, 0, 0, 0, 0, 0, 0, 0, 0, 0, 0, 0, 0, 0, 0, 0, 0, 0, 0, 0, 0, 0, 0, 0, 0, 0, 0, 0, 0, 0, 0, 0, 0, 0, 0, 0, 0, 0, 0, 0, 0, 0, 0, 0, 0, 0, 0, 0, 0, 0, 0, 0, 0, 0, 0, 0, 0, 0, 0, 0, 0, 0, 0, 0, 0, 0, 0, 0, 0, 0, 0, 0, 0, 0, 0, 0, 0, 0, 0, 0, 0, 0, 0, 0, 0, 0, 0, 0, 0, 0, 0, 0, 0, 0, 0, 0, 0, 0, 0, 0, 0, 0, 0, 0, 0, 0, 0, 0, 0, 0, 0, 0, 0, 0, 0, 0, 0, 0, 0, 0, 0, 0, 0, 0, 0, 0, 0, 0, 0, 0, 0, 0, 0, 0, 0, 0, 0, 0, 0, 0, 0, 0, 0, 0, 0, 0, 0, 0, 0, 0, 0, 0, 0, 0, 0, 0, 0, 0, 0, 0, 0, 0, 0, 0, 0, 0, 0, 0, 0, 0, 0, 0, 0, 0, 0, 0, 0, 0, 0, 0, 0, 0, 0, 0, 0, 0, 0, 0, 0, 0, 0, 0, 0, 0, 0, 0, 0, 0, 0, 0, 0, 0, 0, 0, 0, 0, 0, 0, 0, 0, 0, 0, 0, 0, 0, 0, 0, 0, 0, 0, 0, 0, 0, 0, 0, 0, 0, 0, 0, 0, 0, 0, 0, 0, 0, 0, 0, 0, 0, 0, 0, 0, 0, 0, 0, 0, 0, 0, 0, 0, 0, 0, 0, 0, 0, 0, 0, 0, 0, 0, 0, 0, 0, 0, 0, 0, 0, 0, 0, 0, 0, 0, 0, 0, 0, 0, 0, 0, 0, 0, 0, 0, 0, 0, 0, 0, 0, 0, 0, 0, 0, 0, 0, 0, 0, 0, 0, 0, 0, 0, 0, 0, 0, 0, 0, 0, 0, 0, 0, 0, 0, 0, 0, 0, 0, 0, 0, 0, 0, 0, 0, 0, 0, 0, 0, 0, 0, 0, 0, 0, 0, 0, 0, 0, 0, 0, 0, 0, 0, 0, 0, 0, 0, 0, 0, 0, 0, 0, 0, 0, 0, 0, 0, 0, 0, 0, 0, 0, 0, 0, 0, 0, 0, 0, 0, 0, 0, 0, 0, 0, 0, 0, 0, 0, 0, 0, 0, 0, 0, 0, 0, 0, 0, 0, 0, 0, 0, 1, 0, 0, 0, 0, 0, 0, 0, 0, 0, 0, 0, 0, 0, 0, 0, 0, 0, 0, 0, 0, 0, 0, 0, 0, 0, 0, 0, 0, 0, 0, 0, 0, 0, 0, 0, 0, 0, 0, 0, 0, 0, 0, 0, 0, 0, 0, 0, 0, 0, 0, 0, 0, 0, 0, 0, 0, 0, 0, 0, 0, 0, 0, 0, 0, 0, 0, 0, 0, 0, 0, 0, 0, 0, 0, 0, 0, 0, 0, 0, 0, 0, 0, 0, 0, 0, 0, 0, 0, 0, 0, 0, 0, 0, 0, 0, 0, 0, 0, 0, 0, 0, 0, 0, 0, 0, 0, 0, 0, 0, 0, 0, 0, 0, 0, 0, 0, 0, 0, 0, 0, 0, 0, 0, 0, 0, 0, 0, 0, 0, 0, 0, 0, 0, 0, 0, 0, 0, 0, 0, 0, 0, 0, 0, 0, 0, 0, 0, 0, 0, 0, 0, 0, 0, 0, 0, 0, 0, 0, 0, 0, 0, 0, 0, 0, 0, 0, 0, 0, 0, 0, 0, 0, 0, 0, 0, 0, 0, 0, 0, 0, 0, 0, 0, 0, 0, 0, 0, 0, 0, 0, 0, 0, 0, 0, 0, 0, 0, 0, 0, 0, 0, 0, 0, 0, 0, 0, 0, 0, 0, 0, 0, 0, 0, 0, 0, 0, 0, 0, 0, 0, 0, 0, 0, 0, 0, 0, 0, 0, 0, 0, 0, 0, 0, 0, 0, 0, 0, 0, 0, 0, 0, 0, 0, 0, 0, 0, 0, 0, 0, 0, 0, 0, 0, 0, 0, 0, 0, 0, 0, 0, 0, 0, 0, 0, 0, 0, 0, 0, 0, 0, 0, 0, 0, 0, 0, 0, 0, 0, 0, 0, 0, 0, 0, 0, 0, 0, 0, 0, 0, 0, 0, 0, 0, 0, 0, 0, 0, 0, 0, 0, 0, 0, 0, 0, 0, 0, 0, 0, 0, 0, 0, 0, 0, 0, 0, 0, 0, 0, 0, 0, 0, 0, 0, 0, 0, 0, 0, 0, 0, 0, 0, 0, 0, 0, 0, 0, 0, 0, 0, 0, 0, 0, 0, 0, 0, 0, 0, 0, 0, 0, 0, 0, 0, 0, 0, 0, 0, 0, 0, 0, 0, 0, 0, 0, 0, 0, 0, 0, 0, 0, 0, 0, 0, 0, 0, 0, 0, 0, 0, 0, 0, 0, 0, 0, 0, 0, 0, 0, 0, 0, 0, 0, 0, 0, 0, 0, 0, 0, 0, 0, 0, 0, 0, 0, 0, 0, 0, 0, 0, 0, 0, 0, 0, 0, 0, 0, 0, 0, 0, 0, 0, 0, 0, 0, 0, 0, 0, 0, 0, 0, 0, 0, 0, 0, 0, 0, 0, 0, 0, 0, 0, 0, 0, 0, 0, 0, 0, 0, 0, 0, 0, 0, 0, 0, 0, 0, 0, 0, 0, 0, 0, 0, 0, 0, 0, 0, 0, 0, 0, 0, 0, 0, 0, 0, 0, 0, 0, 0, 0, 0, 0, 0, 0, 0, 0, 0, 0, 0, 0, 0, 0, 0, 0, 0, 0, 0, 0, 0, 0, 0, 0, 0, 0, 0, 0, 0, 0, 0, 0, 0, 0, 0, 1, 0, 0, 0, 0, 0, 0, 0, 0, 0, 0, 0, 0, 0, 0, 0, 0, 0, 0, 0, 0, 0, 0, 0, 0, 0, 0, 0, 0, 0, 0, 0, 0, 0, 0, 0, 2, 0, 0, 0, 0, 0, 0, 0, 0, 0, 0, 0, 0, 0, 0, 0, 0, 0, 0, 0, 0, 0, 0, 0, 0, 0, 0, 0, 0, 0, 0, 0, 0, 0, 0, 0, 0, 0, 0, 0, 0, 1, 0, 0, 0, 0, 0, 0, 0, 0, 0, 0, 0, 0, 0, 0, 0, 0, 0, 0, 0, 0, 0, 0, 0, 0, 0, 0, 0, 0, 0, 0, 0, 0, 0, 0, 0, 0, 0, 0, 0, 0, 0, 0, 0, 0, 0, 0, 0, 0, 0, 0, 0, 0, 0, 0, 0, 0, 0, 0, 0, 0, 0, 0, 0, 0, 0, 0, 0, 0, 0, 0, 0, 0, 0, 0, 0, 0, 0, 0, 0, 0, 0, 0, 0, 0, 0, 0, 0, 0, 0, 0, 0, 0, 0, 0, 0, 0, 0, 0, 0, 0, 0, 0, 0, 0, 0, 0, 0, 0, 0, 0, 0, 0, 0, 0, 0, 0, 0, 0, 0, 0, 0, 0, 0, 0, 0, 0, 0, 0, 0, 0, 0, 0, 0, 0, 0, 0, 0, 0, 0, 0, 0, 0, 0, 0, 0, 0, 0, 0, 0, 0, 0, 0, 0, 0, 0, 0, 0, 0, 0, 0, 0, 0, 0, 0, 0, 0, 0, 0, 0, 0, 0, 0, 0, 0, 0, 0, 0, 0, 0, 0, 0, 0, 0, 0, 0, 0, 0, 0, 0, 0, 0, 0, 0, 0, 0, 0, 0, 0, 0, 0, 0, 0, 0, 0, 0, 0, 0, 0, 0, 0, 0, 0, 0, 0, 0, 0, 0, 0, 0, 0, 0, 0, 0, 0, 0, 0, 0, 0, 0, 0, 0, 0, 0, 0, 0, 0, 0, 0, 0, 0, 0, 0, 0, 0, 0, 0, 0, 0, 0, 0, 0, 0, 0, 0, 0, 0, 0, 0, 0, 0, 0, 0, 0, 0, 0, 0, 0, 0, 0, 0, 0, 0, 0, 0, 0, 0, 0, 0, 0, 0, 0, 0, 0, 0, 0, 0, 0, 0, 0, 0, 0, 0, 0, 0, 0, 0, 0, 0, 0, 0, 0, 0, 0, 0, 0, 0, 0, 0, 0, 0, 0, 0, 0, 0, 0, 0, 0, 0, 0, 0, 0, 0, 0, 0, 0, 0, 0, 0, 0, 0, 0, 0, 0, 0, 0, 0, 0, 0, 0, 0, 0, 0, 0, 0, 0, 0, 0, 0, 0, 0, 0, 0, 0, 0, 0, 0, 0, 0, 0, 0, 0, 0, 0, 0, 0, 0, 0, 0, 0, 0, 0, 0, 0, 0, 0, 0, 0, 0, 0, 0, 0, 0, 0, 0, 0, 0, 0, 0, 0, 0, 0, 0, 0, 0, 0, 0, 0, 0, 0, 0, 0, 0, 0, 0, 0, 0, 0, 0, 0, 0, 0, 0, 0, 0, 0, 0, 0, 0, 0, 0, 0, 0, 0, 0, 0, 0, 0, 0, 0, 0, 0, 0, 0, 0, 0, 0, 0, 0, 0, 0, 0, 0, 0, 0, 0, 0, 0, 0, 0, 0, 0, 0, 0, 0, 0, 0, 0, 0, 0, 0, 0, 0, 0, 0, 0, 0, 0, 0, 0, 0, 0, 0, 0, 0, 0, 0, 0, 0, 0, 0, 0, 0, 0, 0, 0, 0, 0, 0, 0, 0, 0, 0, 0, 0, 0, 0, 0, 1, 0, 0, 0, 0, 0, 0, 0, 0, 0, 0, 0, 0, 0, 0, 0, 0, 0, 0, 0, 0, 0, 0, 0, 0, 0, 0, 0, 0, 0, 0, 0, 0, 0, 0, 0, 0, 0, 0, 0, 0, 0, 0, 0, 0, 0, 0, 0, 0, 0, 0, 0, 0, 0, 0, 0, 0, 0, 0, 0, 0, 0, 0, 0, 0, 0, 0, 0, 0, 0, 0, 0, 0, 0, 0, 0, 0, 0, 0, 0, 0, 0, 0, 0, 0, 0, 0, 0, 0, 0, 0, 0, 0, 0, 0, 0, 0, 0, 0, 0, 0, 0, 0, 0, 0, 0, 0, 0, 0, 0, 0, 2, 0, 0, 0, 0, 0, 0, 0, 0, 0, 0, 0, 0, 0, 0, 0, 0, 0, 0, 0, 0, 0, 0, 0, 0, 0, 0, 0, 0, 0, 0, 0, 0, 0, 0, 0, 0, 0, 0, 0, 0, 0, 0, 0, 0, 0, 0, 0, 0, 0, 0, 0, 0, 0, 0, 0, 0, 0, 0, 0, 0, 0, 0, 0, 0, 0, 0, 0, 0, 0, 0, 0, 0, 0, 0, 0, 0, 0, 0, 0, 0, 0, 0, 0, 0, 0, 0, 0, 0, 0, 0, 0, 0, 0, 0, 0, 0, 0, 0, 0, 0, 0, 0, 0, 0, 0, 0, 0, 0, 0, 0, 0, 0, 0, 0, 0, 0, 0, 0, 0, 0, 0, 0, 0, 0, 0, 0, 0, 0, 0, 0, 0, 0, 0, 0, 0, 0, 0, 0, 0, 0, 0, 0, 0, 0, 0, 0, 0, 0, 0, 0, 0, 0, 0, 0, 0, 0, 0, 0, 0, 0, 0, 0, 0, 0, 0, 0, 0, 0, 0, 0, 0, 0, 0, 0, 0, 0, 0, 0, 0, 0, 0, 0, 0, 0, 0, 0, 0, 0, 0, 0, 0, 0, 0, 0, 0, 0, 0, 0, 0, 0, 0, 0, 0, 0, 0, 0, 0, 0, 0, 0, 0, 0, 0, 0, 0, 0, 0, 0, 0, 0, 0, 0, 0, 0, 0, 0, 0, 0, 0, 0, 0, 0, 0, 0, 0, 0, 0, 0, 0, 0, 0, 0, 0, 0, 0, 0, 0, 0, 0, 0, 0, 0, 0, 0, 0, 0, 0, 0, 0, 0, 0, 0, 0, 0, 0, 0, 0, 0, 0, 0, 0, 0, 0, 0, 0, 0, 0, 0, 0, 0, 0, 0, 0, 0, 0, 0, 0, 0, 0, 0, 0, 0, 0, 0, 0, 0, 0, 0, 0, 0, 0, 0, 0, 0, 0, 0, 0, 0, 0, 0, 0, 0, 0, 0, 0, 0, 0, 0, 0, 0, 0, 0, 0, 0, 0, 0, 0, 0, 0, 0, 0, 0, 0, 0, 0, 0, 0, 0, 0, 0, 0, 0, 0, 0, 0, 0, 0, 0, 0, 0, 0, 0, 0, 0, 0, 0, 0, 0, 0, 0, 0, 0, 0, 0, 0, 0, 0, 0, 0, 0, 0, 0, 0, 0, 0, 0, 0, 0, 0, 0, 0, 0, 0, 0, 0, 0, 0, 0, 0, 0, 0, 0, 0, 0, 0, 0, 0, 0, 0, 0, 0, 0, 0, 0, 0, 0, 0, 0, 0, 0, 0, 0, 0, 0, 0, 0, 0, 0, 0, 0, 0, 0, 0, 0, 0, 0, 0, 0, 0, 0, 0, 0, 0, 0, 0, 0, 0, 0, 0, 0, 0, 0, 0, 0, 0, 0, 0, 0, 0, 0, 0, 0, 0, 0, 0, 0, 0, 0, 0, 0, 0, 0, 0, 0, 0, 0, 0, 0, 0, 0, 0, 0, 0, 0, 0, 0, 0, 0, 0, 0, 0, 0, 0, 0, 0, 0, 0, 0, 0, 0, 0, 0, 0, 0, 0, 0, 0, 0, 0, 0, 0, 0, 0, 0, 0, 0, 0, 0, 0, 0, 0, 0, 0, 0, 0, 0, 0, 0, 0, 0, 0, 0, 0, 0, 0, 0, 0, 0, 0, 0, 0, 0, 0, 0, 0, 0, 0, 0, 0, 0, 0, 0, 0, 0, 0, 0, 0, 0, 0, 0, 0, 0, 0, 0, 0, 0, 0, 0, 0, 0, 0, 0, 0, 0, 0, 0, 0, 0, 0, 0, 0, 0, 0, 0, 0, 0, 0, 0, 0, 0, 0, 0, 0, 0, 0, 0, 0, 0, 0, 0, 0, 0, 0, 0, 0, 0, 0, 0, 0, 0, 0, 0, 0, 0, 0, 0, 0, 0, 0, 0, 0, 0, 0, 0, 0, 0, 0, 0, 0, 0, 0, 0, 0, 0, 0, 0, 0, 0, 0, 0, 0, 0, 0, 0, 0, 0, 0, 0, 0, 0, 0, 0, 0, 0, 0, 0, 0, 0, 0, 0, 0, 0, 0, 0, 0, 0, 0, 0, 0, 0, 0, 0, 0, 0, 0, 0, 0, 0, 0, 0, 0, 0, 0, 0, 0, 0, 0, 0, 0, 0, 0, 0, 0, 0, 0, 0, 0, 0, 0, 0, 1, 0, 0, 0, 0, 0, 0, 0, 0, 0, 0, 0, 0, 0, 0, 0, 0, 0, 0, 0, 0, 0, 0, 0, 0, 0, 0, 0, 0, 0, 0, 0, 0, 0, 0, 0, 0, 0, 0, 0, 0, 0, 0, 0, 0, 0, 0, 0, 0, 0, 0, 0, 0, 0, 0, 0, 0, 0, 0, 0, 0, 0, 0, 0, 0, 0, 0, 0, 0, 0, 0, 0, 0, 0, 0, 0, 0, 0, 0, 0, 0, 0, 0, 0, 0, 0, 0, 0, 0, 0, 0, 0, 0, 0, 0, 0, 0, 0, 0, 0, 0, 0, 0, 0, 0, 0, 0, 0, 1, 0, 0, 0, 0, 0, 0, 0, 0, 0, 0, 0, 0, 0, 0, 0, 0, 0, 0, 0, 0, 0, 0, 0, 0, 0, 0, 0, 0, 0, 0, 0, 0, 0, 0, 0, 0, 0, 0, 0, 0, 0, 0, 0, 0, 0, 0, 0, 0, 0, 0, 0, 0, 0, 0, 0, 0, 0, 0, 0, 0, 0, 0, 0, 0, 0, 0, 0, 0, 0, 0, 0, 0, 0, 0, 0, 0, 0, 0, 0, 0, 0, 0, 0, 0, 0, 0, 0, 0, 0, 0, 0, 0, 0, 0, 0, 0, 0, 0, 0, 0, 0, 0, 0, 0, 0, 0, 0, 0, 0, 0, 0, 0, 0, 0, 0, 0, 0, 0, 0, 0, 0, 0, 0, 0, 0, 0, 0, 0, 0, 0, 0, 0, 0, 0, 0, 0, 0, 0, 0, 0, 0, 0, 0, 0, 0, 0, 0, 0, 0, 0, 0, 0, 0, 0, 0, 0, 0, 0, 0, 0, 0, 0, 0, 0, 0, 0, 0, 0, 0, 0, 0, 0, 0, 0, 0, 0, 0, 0, 0, 0, 0, 0, 0, 0, 0, 0, 0, 0, 0, 0, 0, 0, 0, 0, 0, 0, 0, 0, 0, 0, 0, 0, 0, 0, 0, 0, 0, 0, 0, 0, 0, 0, 0, 0, 0, 0, 0, 0, 0, 0, 0, 0, 0, 0, 0, 0, 0, 0, 0, 0, 0, 0, 0, 0, 0, 0, 0, 0, 0, 0, 0, 0, 0, 0, 0, 0, 0, 0, 0, 0, 0, 0, 0, 0, 0, 0, 0, 0, 0, 0, 0, 0, 0, 0, 0, 0, 0, 0, 0, 0, 0, 0, 0, 0, 0, 0, 0, 0, 0, 0, 0, 0, 0, 0, 0, 0, 0, 0, 0, 0, 0, 0, 0, 0, 0, 0, 0, 0, 0, 0, 0, 0, 0, 0, 0, 0, 0, 0, 0, 0, 0, 0, 0, 0, 0, 0, 0, 0, 0, 0, 0, 0, 0, 0, 0, 0, 0, 0, 0, 0, 0, 0, 0, 0, 0, 0, 0, 0, 0, 0, 0, 0, 0, 0, 0, 0, 0, 0, 0, 0, 0, 0, 0, 0, 0, 0, 0, 0, 0, 0, 0, 0, 0, 0, 0, 0, 0, 0, 0, 0, 0, 0, 0, 0, 0, 0, 0, 0, 0, 0, 0, 0, 0, 0, 0, 0, 0, 0, 0, 0, 0, 0, 0, 0, 0, 0, 0, 0, 0, 0, 0, 0, 0, 0, 0, 0, 0, 0, 0, 0, 0, 0, 0, 0, 0, 0, 0, 0, 0, 0, 0, 0, 0, 0, 0, 0, 0, 0, 0, 0, 0, 0, 0, 0, 0, 0, 0, 0, 0, 0, 0, 0, 0, 0, 0, 0, 0, 0, 0, 0, 0, 0, 0, 0, 0, 0, 0, 0, 0, 0, 0, 0, 0, 2, 0, 1, 0]\n"
     ]
    }
   ],
   "source": [
    "test_bow = bow_encoding(test_words, vocabulary)\n",
    "print(test_bow)"
   ]
  },
  {
   "cell_type": "code",
   "execution_count": 39,
   "metadata": {},
   "outputs": [
    {
     "data": {
      "text/plain": [
       "5000"
      ]
     },
     "execution_count": 39,
     "metadata": {},
     "output_type": "execute_result"
    }
   ],
   "source": [
    "len(test_bow)"
   ]
  },
  {
   "cell_type": "markdown",
   "metadata": {},
   "source": [
    "So now we know how to construct a bag of words encoding of a user provided review, how to we send it to our endpoint? First, we need to start the endpoint back up."
   ]
  },
  {
   "cell_type": "code",
   "execution_count": null,
   "metadata": {},
   "outputs": [],
   "source": [
    "xgb_predictor = xgb.deploy(initial_instance_count = 1, instance_type = 'ml.m4.xlarge')"
   ]
  },
  {
   "cell_type": "markdown",
   "metadata": {},
   "source": [
    "At this point we could just do the same thing that we did earlier when we tested our deployed model and send `test_bow` to our endpoint using the `xgb_predictor` object. However, when we eventually construct our Lambda function we won't have access to this object, so how do we call a SageMaker endpoint?\n",
    "\n",
    "It turns out that Python functions that are used in Lambda have access to another Amazon library called `boto3`. This library provides an API for working with Amazon services, including SageMaker. To start with, we need to get a handle to the SageMaker runtime."
   ]
  },
  {
   "cell_type": "code",
   "execution_count": 40,
   "metadata": {},
   "outputs": [],
   "source": [
    "import boto3\n",
    "\n",
    "runtime = boto3.Session().client('sagemaker-runtime')"
   ]
  },
  {
   "cell_type": "markdown",
   "metadata": {},
   "source": [
    "And now that we have access to the SageMaker runtime, we can ask it to make use of (invoke) an endpoint that has already been created. However, we need to provide SageMaker with the name of the deployed endpoint. To find this out we can print it out using the `xgb_predictor` object."
   ]
  },
  {
   "cell_type": "code",
   "execution_count": 41,
   "metadata": {},
   "outputs": [
    {
     "data": {
      "text/plain": [
       "'xgboost-2020-02-05-02-29-43-049'"
      ]
     },
     "execution_count": 41,
     "metadata": {},
     "output_type": "execute_result"
    }
   ],
   "source": [
    "xgb_predictor.endpoint"
   ]
  },
  {
   "cell_type": "markdown",
   "metadata": {},
   "source": [
    "Using the SageMaker runtime and the name of our endpoint, we can invoke the endpoint and send it the `test_bow` data."
   ]
  },
  {
   "cell_type": "code",
   "execution_count": 43,
   "metadata": {},
   "outputs": [],
   "source": [
    "response = runtime.invoke_endpoint(EndpointName = xgb_predictor.endpoint, # The name of the endpoint we created\n",
    "                                       ContentType = 'text/csv',                     # The data format that is expected\n",
    "                                       Body = test_bow)"
   ]
  },
  {
   "cell_type": "markdown",
   "metadata": {},
   "source": [
    "So why did we get an error?\n",
    "\n",
    "Because we tried to send the endpoint a list of integers but it expected us to send data of type `text/csv`. So, we need to convert it."
   ]
  },
  {
   "cell_type": "code",
   "execution_count": 44,
   "metadata": {},
   "outputs": [],
   "source": [
    "response = runtime.invoke_endpoint(EndpointName = xgb_predictor.endpoint, # The name of the endpoint we created\n",
    "                                       ContentType = 'text/csv',                     # The data format that is expected\n",
    "                                       Body = ','.join([str(val) for val in test_bow]).encode('utf-8'))"
   ]
  },
  {
   "cell_type": "code",
   "execution_count": 45,
   "metadata": {},
   "outputs": [
    {
     "name": "stdout",
     "output_type": "stream",
     "text": [
      "{'ResponseMetadata': {'RequestId': 'b3fef831-8519-4e61-8ba4-17b6257c7a64', 'HTTPStatusCode': 200, 'HTTPHeaders': {'x-amzn-requestid': 'b3fef831-8519-4e61-8ba4-17b6257c7a64', 'x-amzn-invoked-production-variant': 'AllTraffic', 'date': 'Wed, 5 Feb 2020 02:53:56 GMT', 'content-type': 'text/csv; charset=utf-8', 'content-length': '13'}, 'RetryAttempts': 0}, 'ContentType': 'text/csv; charset=utf-8', 'InvokedProductionVariant': 'AllTraffic', 'Body': <botocore.response.StreamingBody object at 0x7f252dd9b8d0>}\n"
     ]
    }
   ],
   "source": [
    "print(response)"
   ]
  },
  {
   "cell_type": "markdown",
   "metadata": {},
   "source": [
    "As we can see, the response from our model is a somewhat complicated looking dict that contains a bunch of information. The bit that we are most interested in is `'Body'` object which is a streaming object that we need to `read` in order to make use of."
   ]
  },
  {
   "cell_type": "code",
   "execution_count": 46,
   "metadata": {},
   "outputs": [
    {
     "name": "stdout",
     "output_type": "stream",
     "text": [
      "0.46541544795\n"
     ]
    }
   ],
   "source": [
    "response = response['Body'].read().decode('utf-8')\n",
    "print(response)"
   ]
  },
  {
   "cell_type": "markdown",
   "metadata": {},
   "source": [
    "Now that we know how to process the incoming user data we can start setting up the infrastructure to make our simple web app work. To do this we will make use of two different services. Amazon's Lambda and API Gateway services.\n",
    "\n",
    "Lambda is a service which allows someone to write some relatively simple code and have it executed whenever a chosen trigger occurs. For example, you may want to update a database whenever new data is uploaded to a folder stored on S3.\n",
    "\n",
    "API Gateway is a service that allows you to create HTTP endpoints (url addresses) which are connected to other AWS services. One of the benefits to this is that you get to decide what credentials, if any, are required to access these endpoints.\n",
    "\n",
    "In our case we are going to set up an HTTP endpoint through API Gateway which is open to the public. Then, whenever anyone sends data to our public endpoint we will trigger a Lambda function which will send the input (in our case a review) to our model's endpoint and then return the result."
   ]
  },
  {
   "cell_type": "markdown",
   "metadata": {},
   "source": [
    "### Setting up a Lambda function\n",
    "\n",
    "The first thing we are going to do is set up a Lambda function. This Lambda function will be executed whenever our public API has data sent to it. When it is executed it will receive the data, perform any sort of processing that is required, send the data (the review) to the SageMaker endpoint we've created and then return the result.\n",
    "\n",
    "#### Part A: Create an IAM Role for the Lambda function\n",
    "\n",
    "Since we want the Lambda function to call a SageMaker endpoint, we need to make sure that it has permission to do so. To do this, we will construct a role that we can later give the Lambda function.\n",
    "\n",
    "Using the AWS Console, navigate to the **IAM** page and click on **Roles**. Then, click on **Create role**. Make sure that the **AWS service** is the type of trusted entity selected and choose **Lambda** as the service that will use this role, then click **Next: Permissions**.\n",
    "\n",
    "In the search box type `sagemaker` and select the check box next to the **AmazonSageMakerFullAccess** policy. Then, click on **Next: Review**.\n",
    "\n",
    "Lastly, give this role a name. Make sure you use a name that you will remember later on, for example `LambdaSageMakerRole`. Then, click on **Create role**."
   ]
  },
  {
   "cell_type": "markdown",
   "metadata": {},
   "source": [
    "#### Part B: Create a Lambda function\n",
    "\n",
    "Now it is time to actually create the Lambda function. Remember from earlier that in order to process the user provided input and send it to our endpoint we need to gather two pieces of information:\n",
    "\n",
    " - The name of the endpoint, and\n",
    " - the vocabulary object.\n",
    "\n",
    "We will copy these pieces of information to our Lambda function after we create it.\n",
    "\n",
    "To start, using the AWS Console, navigate to the AWS Lambda page and click on **Create a function**. When you get to the next page, make sure that **Author from scratch** is selected. Now, name your Lambda function, using a name that you will remember later on, for example `sentiment_analysis_xgboost_func`. Make sure that the **Python 3.6** runtime is selected and then choose the role that you created in the previous part. Then, click on **Create Function**.\n",
    "\n",
    "On the next page you will see some information about the Lambda function you've just created. If you scroll down you should see an editor in which you can write the code that will be executed when your Lambda function is triggered. Collecting the code we wrote above to process a single review and adding it to the provided example `lambda_handler` we arrive at the following.\n",
    "\n",
    "```python\n",
    "# We need to use the low-level library to interact with SageMaker since the SageMaker API\n",
    "# is not available natively through Lambda.\n",
    "import boto3\n",
    "\n",
    "# And we need the regular expression library to do some of the data processing\n",
    "import re\n",
    "\n",
    "REPLACE_NO_SPACE = re.compile(\"(\\.)|(\\;)|(\\:)|(\\!)|(\\')|(\\?)|(\\,)|(\\\")|(\\()|(\\))|(\\[)|(\\])\")\n",
    "REPLACE_WITH_SPACE = re.compile(\"(<br\\s*/><br\\s*/>)|(\\-)|(\\/)\")\n",
    "\n",
    "def review_to_words(review):\n",
    "    words = REPLACE_NO_SPACE.sub(\"\", review.lower())\n",
    "    words = REPLACE_WITH_SPACE.sub(\" \", words)\n",
    "    return words\n",
    "    \n",
    "def bow_encoding(words, vocabulary):\n",
    "    bow = [0] * len(vocabulary) # Start by setting the count for each word in the vocabulary to zero.\n",
    "    for word in words.split():  # For each word in the string\n",
    "        if word in vocabulary:  # If the word is one that occurs in the vocabulary, increase its count.\n",
    "            bow[vocabulary[word]] += 1\n",
    "    return bow\n",
    "\n",
    "\n",
    "def lambda_handler(event, context):\n",
    "    \n",
    "    vocab = \"*** ACTUAL VOCABULARY GOES HERE ***\"\n",
    "    \n",
    "    words = review_to_words(event['body'])\n",
    "    bow = bow_encoding(words, vocab)\n",
    "\n",
    "    # The SageMaker runtime is what allows us to invoke the endpoint that we've created.\n",
    "    runtime = boto3.Session().client('sagemaker-runtime')\n",
    "\n",
    "    # Now we use the SageMaker runtime to invoke our endpoint, sending the review we were given\n",
    "    response = runtime.invoke_endpoint(EndpointName = '***ENDPOINT NAME HERE***',# The name of the endpoint we created\n",
    "                                       ContentType = 'text/csv',                 # The data format that is expected\n",
    "                                       Body = ','.join([str(val) for val in bow]).encode('utf-8')) # The actual review\n",
    "\n",
    "    # The response is an HTTP response whose body contains the result of our inference\n",
    "    result = response['Body'].read().decode('utf-8')\n",
    "    \n",
    "    # Round the result so that our web app only gets '1' or '0' as a response.\n",
    "    result = round(float(result))\n",
    "\n",
    "    return {\n",
    "        'statusCode' : 200,\n",
    "        'headers' : { 'Content-Type' : 'text/plain', 'Access-Control-Allow-Origin' : '*' },\n",
    "        'body' : str(result)\n",
    "    }\n",
    "```"
   ]
  },
  {
   "cell_type": "markdown",
   "metadata": {},
   "source": [
    "Once you have copy and pasted the code above into the Lambda code editor, replace the `**ENDPOINT NAME HERE**` portion with the name of the endpoint that we deployed earlier. You can determine the name of the endpoint using the code cell below."
   ]
  },
  {
   "cell_type": "code",
   "execution_count": 47,
   "metadata": {},
   "outputs": [
    {
     "data": {
      "text/plain": [
       "'xgboost-2020-02-05-02-29-43-049'"
      ]
     },
     "execution_count": 47,
     "metadata": {},
     "output_type": "execute_result"
    }
   ],
   "source": [
    "xgb_predictor.endpoint"
   ]
  },
  {
   "cell_type": "markdown",
   "metadata": {},
   "source": [
    "In addition, you will need to copy the vocabulary dict to the appropriate place in the code at the beginning of the `lambda_handler` method. The cell below prints out the vocabulary dict in a way that is easy to copy and paste."
   ]
  },
  {
   "cell_type": "code",
   "execution_count": 48,
   "metadata": {},
   "outputs": [
    {
     "name": "stdout",
     "output_type": "stream",
     "text": [
      "{'too': 4522, 'much': 2934, 'of': 3083, 'something': 4066, 'borrowed': 545, 'grade': 1951, 'super': 4295, 'sunday': 4293, 'is': 2360, 'one': 3107, 'the': 4426, 'days': 1130, 'at': 331, 'movie': 2926, 'theaters': 4428, 'every': 1539, 'year': 4978, 'because': 432, 'this': 4457, 'studios': 4241, 'tend': 4400, 'to': 4507, 'avoid': 363, 'bigger': 479, 'films': 1721, 'that': 4424, 'weekend': 4838, 'few': 1700, 'years': 4979, 'studio': 4240, 'counter': 1011, 'female': 1693, 'wedding': 4836, 'with': 4911, 'big': 478, 'game': 1864, 'similarly': 3980, 'titled': 4505, 'date': 1118, 'will': 4886, 'try': 4600, 'find': 1726, 'success': 4265, 'and': 226, 'viewers': 4739, 'not': 3040, 'watching': 4815, 'sick': 3963, 'people': 3221, 'feeling': 1685, 'sorry': 4076, 'for': 1784, 'her': 2085, 'single': 3996, 'woman': 4921, 'grace': 1950, 'male': 2719, 'nick': 3012, 'about': 67, 'as': 311, 'boyfriend': 558, 'sisters': 4002, 'in': 2257, 'london': 2641, 'family': 1645, 'has': 2043, 'been': 438, 'giving': 1915, 'hard': 2033, 'time': 4495, 'being': 448, 'married': 2744, 'ex': 1549, 'seven': 3903, 'who': 4871, 'without': 4913, 'reason': 3557, 'best': 469, 'man': 2721, 'make': 2713, 'him': 2110, 'jealous': 2388, 'around': 297, 'see': 3855, 'what': 4858, 'he': 2056, 'missing': 2869, 'but': 636, 'ultimately': 4628, 'helps': 2082, 'realize': 3552, 'she': 3923, 'can': 665, 'open': 3112, 'up': 4683, 'let': 2579, 'someone': 4064, 'love': 2669, 'film': 1716, 'from': 1840, 'similar': 3978, 'movies': 2927, 'it': 2366, 'almost': 193, 'copy': 994, 'picture': 3269, 'perfect': 3224, 'scenes': 3811, 'my': 2951, 'friends': 1837, 'also': 199, 'pretty': 3384, 'women': 4923, 'theme': 4433, 'going': 1931, 'knowing': 2490, 'audience': 352, 'director': 1264, 'makes': 2716, 'clever': 841, 'references': 3583, 'other': 3135, 'all': 187, 'clichéd': 845, 'elements': 1443, 'typical': 4623, 'there': 4438, 'stereotypical': 4180, 'mother': 2911, 'taylor': 4372, 'blonde': 511, 'practically': 3362, 'by': 642, 'dinner': 1254, 'twist': 4617, 'ending': 1471, 'done': 1322, 'before': 440, 'was': 4805, 'wasnt': 4807, 'completely': 922, 'expected': 1577, 'real': 3547, 'why': 4878, 'comes': 891, 'surprise': 4312, 'changes': 751, 'direction': 1261, 'last': 2521, 'half': 2007, 'hour': 2176, 'even': 1533, 'though': 4461, 'predictable': 3367, 'able': 66, 'stand': 4143, 'on': 3105, 'its': 2370, 'own': 3158, 'first': 1736, 'lead': 2545, 'role': 3726, 'proves': 3447, 'be': 418, 'charming': 768, 'funny': 1852, 'great': 1964, 'chemistry': 782, 'most': 2909, 'his': 2118, 'dialogue': 1234, 'corny': 997, 'unrealistic': 4677, 'given': 1913, 'character': 758, 'use': 4692, 'many': 2732, 'often': 3095, 'sexual': 3908, 'actually': 109, 'although': 201, 'primarily': 3393, 'chick': 786, 'flick': 1754, 'everyone': 1542, 'enjoy': 1484, 'feel': 1684, 'good': 1937, 'story': 4207, 'humor': 2192, 'released': 3603, 'long': 2644, 'are': 285, 'sometimes': 4067, 'we': 4823, 'should': 3951, 'just': 2437, 'sit': 4003, 'back': 378, 'attempting': 342, 'review': 3676, 'whole': 4873, 'thing': 4450, 'together': 4511, 'when': 4862, 'decides': 1150, 'pull': 3461, 'target': 4366, 'still': 4188, 'goes': 1930, 'down': 1335, 'then': 4436, 'fun': 1848, 'begins': 444, 'go': 1924, 'think': 4452, 'associated': 327, 'any': 256, 'way': 4820, 'whos': 4876, 'lives': 2628, 'ended': 1470, 'questionable': 3488, 'ways': 4822, 'youll': 4988, 'appreciate': 279, 'an': 223, 'excellent': 1555, 'interpretation': 2328, 'may': 2775, 'well': 4843, 'have': 2052, 'occurred': 3077, 'exact': 1550, 'line': 2610, 'followed': 1773, 'here': 2086, 'after': 143, 'reading': 3544, 'jim': 2402, 'interest': 2323, 'id': 2212, 'get': 1899, 'view': 4736, 'again': 146, 'light': 2595, 'known': 2492, 'today': 4508, 'domino': 1319, 'right': 3696, 'little': 2624, 'edie': 1419, 'characters': 760, 'anyone': 259, 'their': 4431, 'house': 2178, 'somehow': 4063, 'understandable': 4644, 'considering': 952, 'mental': 2808, 'illness': 2230, 'message': 2819, 'board': 522, 'poster': 3353, 'wrote': 4974, 'skills': 4014, 'eight': 1436, 'old': 3100, 'reminded': 3619, 'me': 2778, 'version': 4720, 'says': 3801, 'if': 2222, 'youre': 4992, 'stuck': 4237, 'only': 3110, 'yourself': 4993, 'these': 4441, 'had': 2003, 'everything': 1544, 'beauty': 430, 'talent': 4354, 'intelligence': 2313, 'belief': 451, 'opinions': 3119, 'actions': 101, 'perhaps': 3235, 'so': 4046, 'herself': 2092, 'things': 4451, 'didnt': 1242, 'work': 4940, 'out': 3141, 'losing': 2658, 'hair': 2005, 'job': 2405, 'life': 2592, 'would': 4957, 'made': 2697, 'ties': 4490, 'into': 2332, 'believe': 454, 'pick': 3265, 'times': 4497, 'lie': 2590, 'ahead': 159, 'world': 4946, 'never': 3001, 'know': 2489, 'happened': 2027, 'listen': 2619, 'come': 886, 'home': 2142, 'take': 4349, 'care': 684, 'you': 4986, 'yet': 4984, 'manage': 2722, 'brilliant': 583, 'lovable': 2668, 'extremely': 1610, 'were': 4848, 'extraordinary': 1607, 'interaction': 2322, 'each': 1395, 'bring': 585, 'sadness': 3770, 'emotional': 1459, 'could': 1007, 'or': 3124, 'how': 2181, 'wants': 4791, 'feels': 1687, 'like': 2599, 'girl': 1909, 'gets': 1900, 'intense': 2316, 'urge': 4689, 'tell': 4395, 'okay': 3099, 'documentary': 1307, '10': 0, 'king': 2479, 'kong': 2494, 'vs': 4767, 'godzilla': 1929, 'which': 4867, 'recall': 3562, 'having': 2054, 'rated': 3527, 'bomb': 531, 'introduction': 2339, 'cult': 1077, 'isnt': 2362, 'necessarily': 2983, 'better': 472, 'ive': 2372, 'learned': 2551, 'more': 2904, 'towards': 4540, 'such': 4268, 'fare': 1655, 'two': 4620, 'price': 3389, 'ugly': 4625, 'looking': 2648, 'giant': 1905, 'ape': 266, 'robot': 3717, 'looks': 2649, 'worse': 4951, 'creature': 1045, 'island': 2361, 'where': 4864, 'shown': 3959, 'fighting': 1709, 'couple': 1016, 'monsters': 2893, 'trio': 4587, 'humans': 2190, 'naturally': 2974, 'falls': 1640, 'bland': 500, 'heroine': 2091, 'fact': 1621, 'intriguing': 2335, 'mad': 2696, 'genius': 1887, 'called': 652, 'dr': 1340, 'look': 2646, 'usually': 4700, 'vampire': 4711, 'order': 3126, 'element': 1442, 'north': 3036, 'apparently': 270, 'than': 4420, 'mechanical': 2788, 'full': 1846, 'co': 867, 'operation': 3117, 'captures': 678, 'three': 4469, 'agent': 150, 'change': 749, 'heart': 2064, 'heroes': 2089, 'whom': 4875, 'typically': 4624, 'american': 213, 'killed': 2469, 'eventually': 1537, 'escapes': 1519, 'final': 1722, 'showdown': 3955, 'doctor': 1304, 'sub': 4252, 'slightly': 4029, 'title': 4504, 'some': 4061, 'comment': 898, 'say': 3799, 'dont': 1324, 'relationship': 3597, 'series': 3890, 'really': 3556, 'did': 1241, 'liked': 2600, 'interesting': 2325, 'cliché': 844, 'acting': 99, 'case': 707, 'dialogs': 1233, 'rather': 3528, 'rare': 3523, 'cross': 1066, 'less': 2575, 'random': 3514, 'influence': 2286, 'others': 3136, 'unfortunately': 4654, 'our': 3139, 'country': 1014, 'do': 1302, 'recognize': 3569, 'us': 4690, 'got': 1944, 'end': 1468, 'season': 3843, 'sure': 4308, 'always': 203, 'true': 4596, 'expect': 1575, 'saw': 3798, 'dvd': 1391, 'cover': 1022, 'mean': 2779, 'brosnan': 597, 'grey': 1973, 'beautifully': 429, 'photographed': 3258, 'paced': 3162, 'surprised': 4313, 'basically': 407, 'want': 4788, 'read': 3543, 'fascinating': 1658, 'means': 2783, 'purpose': 3474, 'hysterical': 2208, 'havent': 2053, 'laughed': 2532, 'hunting': 2201, 'supposed': 4306, 'went': 4847, 'advanced': 128, 'screening': 3830, 'expecting': 1578, 'lot': 2661, 'pleasantly': 3303, 'comedy': 890, 'hits': 2125, 'fairly': 1631, 'constant': 957, 'amanda': 205, 'hot': 2174, 'awesome': 371, 'entire': 1502, 'seemed': 3862, 'enjoying': 1487, 'im': 2232, 'alone': 194, 'superman': 4301, 'richard': 3686, 'executed': 1565, 'am': 204, 'brings': 587, 'cut': 1089, 'same': 3778, 'sadly': 3769, 'absolute': 71, 'disbelief': 1277, 'required': 3641, 'strong': 4229, 'far': 1653, 'doesnt': 1309, 'matter': 2769, 'directed': 1259, 'script': 3834, 'sense': 3877, 'no': 3020, 'plot': 3309, 'zero': 4996, 'motivation': 2914, 'act': 97, 'they': 4442, 'unlike': 4670, 'original': 3129, 'powers': 3361, 'strength': 4219, 'lack': 2502, 'handled': 2019, 'least': 2554, 'believable': 453, 'manner': 2729, 'bother': 548, 'slapstick': 4019, 'appropriate': 283, 'moronic': 2907, 'based': 404, 'bad': 382, 'another': 250, 'unbelievable': 4634, 'non': 3027, 'piece': 3272, 'hollywood': 2137, 'kurt': 2499, 'russell': 3761, 'snake': 4042, 'business': 633, 'suit': 4284, '2nd': 41, 'ray': 3533, 'psychotic': 3459, 'cop': 991, 'totally': 4532, 'absurd': 73, 'usual': 4699, 'cardboard': 682, 'self': 3869, 'does': 1308, 'convincing': 985, 'victim': 4729, 'scene': 3809, 'absolutely': 72, 'everybody': 1540, 'except': 1556, 'knows': 2493, 'menace': 2806, 'course': 1019, 'entirely': 1503, 'unnecessary': 4672, 'violence': 4747, 'add': 115, 'ramones': 3512, 'consider': 949, 'modern': 2882, 'punk': 3468, 'rock': 3720, 'unique': 4662, 'sounds': 4084, 'twisted': 4618, 'fan': 1648, 'faces': 1618, 'off': 3084, 'against': 147, 'principal': 3398, 'mary': 2751, 'featuring': 1681, 'soundtrack': 4085, 'incredible': 2269, 'music': 2946, 'concept': 930, 'execution': 1566, 'sight': 3969, 'gags': 1862, 'mouse': 2919, 'experiment': 1583, 'teenage': 4389, 'spirit': 4113, 'probably': 3407, 'favorite': 1671, 'opening': 3114, 'bizarre': 492, 'wall': 4781, 'moments': 2887, 'seems': 3864, 'pure': 3471, 'level': 2584, 'further': 1853, 'nice': 3008, 'dramatic': 1348, 'epic': 1506, 'maybe': 2776, 'bit': 488, 'roll': 3728, 'high': 2100, 'school': 3813, 'cinema': 816, 'kids': 2467, '12': 3, '45': 50, 'total': 4531, 'mention': 2810, 'gas': 1874, 'popcorn': 3331, 'asked': 317, 'return': 3665, '3d': 46, 'special': 4097, 'leaving': 2557, 'theater': 4427, 'forced': 1787, 'watch': 4811, 'masterpiece': 2759, 'proved': 3446, 'cold': 872, 'war': 4792, 'propaganda': 3435, 'none': 3028, 'seen': 3865, 'during': 1387, '20': 29, 'children': 792, 'name': 2960, 'ps': 3453, 'average': 362, 'working': 4944, 'greek': 1970, 'month': 2896, 'happen': 2026, 'animation': 242, 'fantastic': 1651, 'gives': 1914, 'tried': 4584, 'twice': 4613, 'both': 547, 'couldnt': 1008, 'credits': 1050, 'managed': 2723, 'through': 4477, 'fight': 1707, 'sequence': 3887, 'lost': 2660, 'second': 3846, 'force': 1786, 'myself': 2953, 'over': 3148, 'hours': 2177, 'worth': 4953, 'lame': 2510, 'poor': 3328, 'comparison': 914, 'ever': 1538, 'hear': 2061, 'et': 1526, 'those': 4460, 'fill': 1714, 'biggest': 480, 'box': 555, 'office': 3091, 'release': 3602, 'tie': 4488, 'system': 4345, 'painful': 3171, 'short': 3946, 'thousands': 4466, 'upon': 4684, 'games': 1865, 'give': 1912, 'them': 4432, 'away': 369, 'sell': 3871, 'universal': 4665, 'soldier': 4053, 'rating': 3529, 'figure': 1711, 'awful': 372, 'low': 2676, 'wish': 4904, 'show': 3953, 'unusual': 4681, 'dumb': 1385, 'boring': 543, 'conventional': 979, 'wife': 4884, 'along': 195, 'idiotic': 2219, 'sidekick': 3966, 'comic': 893, 'relief': 3605, 'needs': 2990, 'jokes': 2415, 'reactions': 3542, 'lines': 2612, 'leave': 2555, 'either': 1438, 'physically': 3263, 'ill': 2228, 'deep': 1154, 'sleep': 4024, 'might': 2835, 'while': 4868, 'truly': 4597, 'regular': 3592, 'guy': 2000, 'live': 2625, 'southern': 4088, 'opposite': 3123, 'obnoxious': 3067, 'everywhere': 1545, 'form': 1798, 'television': 4394, 'brutal': 603, 'seeing': 3857, 'turner': 4607, 'classic': 835, 'dangerous': 1110, 'your': 4991, 'appreciation': 281, 'must': 2950, 'getting': 1901, 'paid': 3169, 'hope': 2155, 'remembered': 3617, 'dentist': 1180, 'actor': 103, 'mr': 2929, 'deliver': 1169, 'individual': 2277, 'nothing': 3047, 'set': 3898, 'changing': 752, 'roles': 3727, 'peter': 3247, 'essential': 1522, 'remake': 3612, 'sam': 3777, 'ruth': 3763, 'cant': 671, 'exactly': 1551, 'lies': 2591, 'ham': 2011, 'chief': 788, 'value': 4709, 'scale': 3802, 'rate': 3526, 'mainly': 2708, 'camera': 659, 'supporting': 4304, 'players': 3299, 'painfully': 3172, 'unfunny': 4655, 'seem': 3861, 'forever': 1792, 'day': 1129, 'mind': 2849, 'freddy': 1826, 'reality': 3551, 'features': 1680, 'worst': 4952, 'clown': 862, 'offensive': 3086, 'anybody': 257, 'politically': 3325, 'correct': 1000, 'song': 4071, 'parody': 3192, 'put': 3480, 'arnold': 296, 'literally': 2622, 'clue': 864, 'karen': 2444, 'black': 493, 'star': 4150, 'reasons': 3560, 'watched': 4813, 'place': 3282, 'mildly': 2840, 'amusing': 221, 'conclusion': 936, 'recommend': 3571, 'making': 2718, 'mission': 2870, 'bottom': 551, 'site': 4005, 'pathetic': 3210, 'notable': 3041, 'plus': 3311, 'church': 813, 'hates': 2048, 'started': 4157, 'lose': 2654, 'faith': 1633, 'recent': 3566, 'genre': 1888, 'fail': 1625, 'merely': 2815, 'taste': 4369, 'storyline': 4208, 'color': 877, 'white': 4870, 'visually': 4758, 'narrator': 2967, 'max': 2774, 'von': 4765, 'takes': 4351, 'journey': 2421, 'step': 4175, 'death': 1141, 'screen': 3829, 'hundred': 2195, 'thousand': 4465, 'slow': 4031, 'moving': 2928, 'moment': 2886, 'leads': 2548, 'showing': 3958, 'example': 1553, 'knife': 2487, 'forces': 1788, 'mans': 2730, 'different': 1248, 'trying': 4601, 'definitely': 1162, 'taking': 4352, 'talk': 4358, 'depth': 1190, 'wishes': 4906, 'send': 3875, 'fancy': 1649, 'james': 2378, 'very': 4723, 'several': 3905, 'names': 2963, 'rise': 3702, 'linda': 2609, 'hamilton': 2012, 'cox': 1026, 'namely': 2962, 'already': 197, 'simple': 3983, 'door': 1328, 'however': 2183, 'told': 4513, 'hearted': 2065, 'important': 2247, 'eg': 1434, 'taken': 4350, 'etc': 1527, 'tells': 4397, 'minute': 2858, 'details': 1219, 'reminds': 3620, 'careful': 688, 'side': 3965, 'now': 3054, 'considered': 951, 'superb': 4296, 'wonderful': 4928, 'sets': 3899, 'clothes': 860, 'itself': 2371, 'amazed': 208, 'arent': 288, 'reviews': 3679, 'certainly': 738, '1980s': 21, 'crisis': 1060, 'middle': 2833, 'aged': 149, 'unknown': 4668, 'english': 1483, 'officer': 3092, 'hospital': 2172, 'toward': 4539, 'close': 853, 'suffering': 4277, 'shell': 3927, 'shock': 3938, 'complete': 921, 'idea': 2213, 'anywhere': 263, 'belongs': 460, 'wealthy': 4827, 'established': 1524, 'remember': 3616, 'thanks': 4423, 'particularly': 3195, 'actors': 104, 'ian': 2209, 'alan': 171, 'ann': 244, 'surprising': 4315, 'casting': 711, 'choice': 797, 'jackson': 2375, 'julie': 2428, 'stays': 4169, 'eating': 1413, 'initially': 2291, 'provides': 3450, 'mess': 2818, 'toy': 4542, 'factory': 1623, 'evil': 1548, 'possible': 3350, 'basic': 406, 'robin': 3715, 'williams': 4888, 'turns': 4609, 'badly': 383, 'appearance': 274, 'substance': 4258, 'whatsoever': 4861, 'terrible': 4407, 'beginning': 443, 'career': 686, 'cost': 1003, 'fortune': 1806, 'enough': 1491, 'money': 2888, 'left': 2561, 'hire': 2116, 'writers': 4969, 'joke': 2414, 'provide': 3448, 'sort': 4077, 'entertainment': 1500, 'glory': 1922, 'utter': 4701, 'rubbish': 3748, 'historical': 2119, 'field': 1704, 'keep': 2449, 'ok': 3098, 'budget': 610, 'used': 4693, 'quotes': 3497, 'shot': 3949, 'video': 4733, 'horrid': 2165, 'makeup': 2717, 'laughable': 2530, 'blood': 512, 'came': 656, 'halloween': 2010, 'lighting': 2596, 'generally': 1881, 'someones': 4065, 'shine': 3931, 'forgive': 1795, 'actual': 108, 'content': 966, 'attempt': 340, 'collection': 874, 'footage': 1782, 'worry': 4950, 'spoilers': 4124, 'cause': 723, 'theres': 4440, 'spoil': 4121, 'thrown': 4481, 'adds': 119, 'ludicrous': 2685, 'laugh': 2529, 'premise': 3370, 'promising': 3433, 'hands': 2020, 'la': 2500, 'land': 2511, 'prison': 3401, 'serving': 3897, 'mistress': 2874, 'nightmares': 3015, 'cell': 730, 'mate': 2765, 'neighbor': 2992, 'himself': 2111, 'drops': 1372, 'quickly': 3491, 'weak': 4824, 'guys': 2001, 'ah': 158, 'thats': 4425, 'once': 3106, 'insulting': 2310, 'attention': 345, 'next': 3007, 'wont': 4932, 'bore': 540, 'endless': 1473, 'follows': 1775, 'trapped': 4564, 'train': 4556, 'tape': 4365, 'boss': 546, 'cops': 993, 'guns': 1998, 'drawn': 1351, 'ready': 3546, 'rescue': 3643, 'kill': 2468, 'front': 1841, 'chasing': 772, 'hello': 2078, 'killing': 2472, 'public': 3460, 'hell': 2077, 'mall': 2720, 'shooting': 3943, 'exist': 1569, 'witnesses': 4916, 'desperate': 1208, 'heres': 2087, 'chance': 747, 'gold': 1932, 'wrestling': 4966, 'hang': 2022, 'plans': 3292, 'jail': 2376, 'start': 4156, 'happens': 2029, 'die': 1243, 'daughter': 1121, 'caught': 722, 'imagine': 2238, 'below': 462, 'par': 3184, 'annoying': 249, 'rap': 3520, 'poorly': 3329, 'edited': 1420, 'stars': 4155, 'action': 100, 'thriller': 4472, 'massive': 2756, 'stuff': 4243, 'warned': 4798, 'paul': 3214, 'aka': 168, 'panic': 3181, 'attack': 337, 'channel': 753, 'god': 1926, 'adam': 111, 'comedian': 887, 'played': 3297, 'sandler': 3781, 'cruise': 1071, 'ship': 3934, 'thought': 4462, 'encounters': 1467, 'history': 2121, 'part': 3193, 'engaged': 1480, 'cannibal': 669, 'daddy': 1096, 'billy': 482, '50': 51, 'drew': 1360, 'red': 3576, 'aint': 163, 'adorable': 124, 'domestic': 1318, 'parents': 3188, 'heard': 2062, 'cute': 1090, 'wait': 4770, 'need': 2987, 'refreshing': 3586, 'generations': 1884, 'embarrassed': 1453, 'since': 3990, 'fat': 1663, 'loved': 2670, 'howard': 2182, 'hilarious': 2106, 'holds': 2131, 'enjoyed': 1486, 'kind': 2476, 'independent': 2272, 'hurts': 2203, 'else': 1448, 'fears': 1677, 'inner': 2292, 'feelings': 1686, 'thus': 4486, 'lets': 2580, 'hurt': 2202, 'blunt': 520, 'comments': 901, 'figures': 1713, 'ease': 1404, 'new': 3003, 'normal': 3033, 'japanese': 2382, 'drama': 1346, 'cable': 644, 'stereotype': 4178, 'police': 3322, 'jay': 2386, 'kid': 2464, 'car': 680, 'compare': 911, 'rush': 3759, 'local': 2634, 'partner': 3198, 'asian': 314, 'solve': 4060, 'chase': 769, 'market': 2740, 'memories': 2803, 'enjoyable': 1485, 'drivel': 1364, 'michael': 2829, 'holiday': 2134, 'stay': 4166, 'wooden': 4934, 'effects': 1431, 'comedic': 888, 'highlight': 2103, 'whilst': 4869, 'alien': 183, 'hero': 2088, 'soon': 4074, 'nude': 3058, 'sex': 3907, 'within': 4912, '30': 42, 'opportunity': 3121, 'decent': 1147, 'bar': 396, 'seconds': 3848, 'military': 2844, 'joe': 2407, 'drinking': 1362, 'coffee': 870, 'cup': 1080, 'handle': 2018, 'wears': 4832, 'four': 1812, 'obviously': 3072, 'planet': 3289, 'notice': 3048, 'difference': 1246, 'between': 475, 'strange': 4211, 'cannot': 670, 'point': 3316, 'prequel': 3372, 'sequel': 3885, 'match': 2762, 'naive': 2958, 'meant': 2784, '1st': 28, 'dies': 1245, 'changed': 750, 'round': 3742, 'opinion': 3118, 'post': 3352, 'please': 3304, 'judging': 2425, 'hype': 2207, 'horror': 2168, 'focusing': 1769, 'crap': 1031, 'wonder': 4926, 'main': 2707, 'struck': 4232, 'written': 4972, 'acted': 98, 'spent': 4108, 'head': 2057, 'stupidity': 4248, 'drug': 1373, 'favor': 1670, 'rent': 3626, 'cabin': 643, 'fever': 1699, 'animated': 241, 'anything': 260, 'hate': 2046, 'felt': 1692, 'profound': 3423, 'century': 736, 'somewhere': 4069, 'accomplished': 87, 'secondly': 3847, 'ball': 388, 'honestly': 2147, 'wanted': 4789, 'wouldnt': 4958, 'shouldnt': 3952, 'entertaining': 1499, 'culture': 1079, 'finished': 1733, 'page': 3167, 'ten': 4399, 'section': 3853, 'youve': 4995, 'noticed': 3049, 'dated': 1119, 'timing': 4498, 'points': 3319, 'later': 2525, 'flicks': 1755, 'bill': 481, 'problem': 3408, '80s': 59, 'tends': 4402, 'themselves': 4435, 'cutting': 1092, 'edge': 1418, 'fashion': 1659, 'worked': 4941, 'fine': 1729, 'dead': 1132, 'wearing': 4831, 'ted': 4386, 'dude': 1381, 'hole': 2132, 'wanna': 4786, 'play': 3296, 'questions': 3489, 'nostalgia': 3038, 'grew': 1972, 'six': 4010, 'growing': 1983, 'facial': 1619, 'bed': 436, 'trek': 4578, 'episode': 1507, 'traveling': 4568, 'phone': 3255, 'hide': 2097, 'creators': 1044, 'homage': 2141, 'saying': 3800, 'appreciated': 280, 'society': 4050, 'child': 789, 'anti': 254, 'smoking': 4040, 'terrorist': 4413, 'paranoia': 3186, 'media': 2789, 'fear': 1676, 'screaming': 3827, 'trees': 4577, 'cd': 728, 'face': 1616, 'beach': 419, 'depression': 1189, 'intellectual': 2312, 'corporate': 998, 'proof': 3434, 'honest': 2146, 'succeed': 4262, 'despite': 1211, 'theyre': 4445, 'wrong': 4973, 'luck': 2681, 'friend': 1835, 'boat': 523, 'sea': 3838, 'storm': 4206, 'breaks': 571, 'luckily': 2682, 'aids': 161, 'rebel': 3561, 'legs': 2566, 'drugs': 1374, 'beat': 423, 'young': 4989, 'addition': 118, 'product': 3418, 'emotionally': 1460, 'manipulative': 2727, 'empty': 1465, 'sci': 3815, 'fi': 1701, 'dinosaur': 1255, 'meat': 2787, 'quote': 3496, 'pot': 3354, 'dream': 1354, 'night': 3013, 'playing': 3300, 'dance': 1103, 'revolution': 3680, 'putting': 3482, 'ideas': 2215, 'space': 4090, 'dinosaurs': 1256, 'houses': 2180, 'protect': 3443, 'science': 3816, 'team': 4378, 'fits': 1741, 'travel': 4567, 'buy': 640, 'keaton': 2448, 'tom': 4514, 'scott': 3824, 'quality': 3484, 'writing': 4971, 'impossible': 2249, 'decided': 1149, 'wreck': 4965, 'turn': 4605, 'hoped': 2156, 'apparent': 269, 'meaning': 2780, 'effort': 1432, 'convoluted': 987, 'tale': 4353, 'credit': 1049, 'human': 2188, 'brain': 562, 'finding': 1727, 'involved': 2346, 'simply': 3986, 'passion': 3205, 'existent': 1572, 'tv': 4610, 'whereas': 4865, 'primary': 3394, 'past': 3207, 'present': 3374, 'producers': 3416, 'advertising': 132, 'dorothy': 1330, '11': 2, 'ago': 154, 'directing': 1260, 'cinematography': 820, 'emma': 1457, 'book': 535, 'reduced': 3579, 'severe': 3906, 'focus': 1766, 'appear': 273, 'understand': 4643, 'difficult': 1249, 'kate': 2446, 'pulls': 3464, 'plays': 3301, 'elizabeth': 1445, 'flaws': 1752, 'burns': 628, 'john': 2409, 'masters': 2761, 'yes': 4982, 'cheap': 774, 'mouth': 2920, 'madness': 2698, 'quite': 3495, 'pro': 3406, 'solid': 4057, 'carpenter': 694, 'production': 3419, 'clear': 839, 'holes': 2133, 're': 3535, 'worthwhile': 4955, 'instead': 2307, 'hardcore': 2034, 'fans': 1650, 'slightest': 4028, 'enjoyment': 1488, 'wow': 4962, 'brought': 600, 'challenge': 743, '1930s': 11, 'french': 1830, 'musical': 2947, 'colour': 880, 'voice': 4761, 'titles': 4506, 'touch': 4533, 'opens': 3115, 'hand': 2015, 'suddenly': 4273, 'surprisingly': 4316, 'elegant': 1441, 'table': 4346, 'tea': 4373, 'party': 3200, '60': 53, 'starts': 4159, 'forgettable': 1794, 'unconvincing': 4638, 'chorus': 803, 'girls': 1911, 'nonsense': 3030, 'speak': 4094, 'blame': 499, 'subtitles': 4259, 'replaced': 3634, 'break': 569, 'finally': 1724, 'appears': 278, '15': 7, 'minutes': 2859, 'intended': 2315, 'starting': 4158, 'waste': 4808, 'effect': 1428, 'viewer': 4738, 'intent': 2318, 'expensive': 1579, 'scenery': 3810, 'stage': 4139, 'unable': 4631, 'particular': 3194, 'person': 3238, 'brady': 561, 'bunch': 623, 'songs': 4072, 'kept': 2456, 'techniques': 4384, 'admit': 122, 'hold': 2129, 'kidding': 2465, 'skip': 4016, 'problems': 3409, 'continuity': 972, 'editing': 1421, 'vhs': 4725, 'college': 875, 'constructed': 959, 'longer': 2645, 'standard': 4144, 'theatrical': 4430, 'viewing': 4740, 'narrative': 2966, 'development': 1225, 'especially': 1520, 'seriously': 3892, 'possibly': 3351, 'previous': 3387, 'zombie': 4997, 'successful': 4266, 'early': 1400, 'monster': 2892, 'mummy': 2937, 'dracula': 1341, 'america': 212, 'popular': 3333, 'zombies': 4998, 'contrary': 974, 'politics': 3326, 'explain': 1586, 'dean': 1139, 'explains': 1589, 'besides': 468, 'frightening': 1839, 'orders': 3127, 'soldiers': 4054, 'weve': 4856, 'equal': 1509, 'dislike': 1288, 'ought': 3138, 'educational': 1425, 'stupid': 4247, 'garbo': 1871, 'said': 3774, 'accent': 78, 'exaggerated': 1552, 'douglas': 1334, 'meanwhile': 2785, 'screams': 3828, 'disappeared': 1271, 'gordon': 1940, 'crazy': 1035, 'late': 2523, '60s': 54, 'wise': 4903, 'stunt': 4245, 'doing': 1312, 'amazing': 209, 'pretending': 3382, 'falling': 1639, 'humorous': 2193, 'overall': 3150, 'drags': 1345, 'knew': 2486, 'robert': 3713, 'author': 359, 'psycho': 3457, 'werent': 4849, 'paying': 3217, 'scripted': 3835, 'terror': 4412, 'walk': 4775, 'miles': 2843, 'dark': 1115, 'resort': 3650, 'held': 2074, 'test': 4416, 'scary': 3807, 'warn': 4797, 'hint': 2112, 'become': 433, 'ignore': 2224, 'introduced': 2337, 'actress': 105, 'becomes': 434, 'wasted': 4809, 'earned': 1401, 'unless': 4669, 'noise': 3024, 'struggle': 4234, 'remotely': 3623, 'performances': 3229, 'disaster': 1276, 'senseless': 3878, 'assume': 328, 'word': 4937, 'eccentric': 1414, 'writer': 4968, 'artist': 307, 'until': 4680, 'fellow': 1691, 'turned': 4606, 'realise': 3548, 'thin': 4449, 'bag': 384, 'clearly': 840, 'suggest': 4280, 'victims': 4730, 'stretched': 4222, 'weeks': 4839, 'months': 2897, 'silver': 3977, 'ripped': 3701, 'rest': 3657, 'whats': 4860, 'write': 4967, 'news': 3005, 'plane': 3288, 'crash': 1033, 'professional': 3421, 'assistant': 326, 'killings': 2473, 'makers': 2715, 'rip': 3700, 'deserve': 1199, 'uncle': 4636, 'tony': 4521, 'scream': 3826, 'huge': 2185, 'involving': 2349, 'running': 3756, 'dan': 1102, 'riding': 3695, 'station': 4164, 'safety': 3772, 'accurate': 90, 'small': 4033, 'town': 4541, '1980': 20, 'stands': 4147, 'fiction': 1702, 'remarkable': 3613, 'filmmakers': 1720, 'subtle': 4260, 'depicting': 1184, 'nuclear': 3057, 'weapons': 4829, 'models': 2881, 'sad': 3767, 'broken': 594, 'theyd': 4443, 'raymond': 3534, 'multiple': 2936, 'pilot': 3276, 'civilization': 827, 'tries': 4585, 'win': 4892, 'minded': 2850, 'effective': 1429, 'performance': 3228, 'ralph': 3510, 'richardson': 3688, 'covers': 1024, '100': 1, 'somewhat': 4068, 'reminiscent': 3621, 'material': 2766, 'visuals': 4759, 'third': 4455, 'indeed': 2271, 'stunning': 4244, 'ends': 1474, 'thinking': 4453, 'future': 1856, 'serious': 3891, 'buff': 611, 'bear': 420, 'repeated': 3631, 'viewings': 4741, 'excessive': 1560, 'couldve': 1009, '17': 9, 'gore': 1941, 'pg': 3250, '13': 4, 'boy': 557, 'scarecrow': 3804, 'mindless': 2851, 'overly': 3155, 'higher': 2101, 'twelve': 4611, 'large': 2517, 'number': 3060, 'teacher': 4375, 'trash': 4565, 'hood': 2151, 'draw': 1349, 'class': 833, 'throw': 4479, 'deserved': 1200, 'gruesome': 1986, 'suspenseful': 4331, 'heads': 2059, 'wouldve': 4959, 'describe': 1194, 'body': 527, 'explained': 1587, 'stomach': 4196, 'losers': 2656, 'stunts': 4246, 'renting': 3629, 'five': 1743, 'bored': 541, 'interested': 2324, 'famous': 1647, 'international': 2326, 'daniel': 1111, 'busy': 635, 'sensitive': 3879, 'falk': 1636, 'shy': 3962, 'refuses': 3587, 'community': 908, 'attracted': 349, 'lena': 2568, 'hearts': 2066, 'members': 2801, 'daily': 1097, 'sexuality': 3909, 'helen': 2075, 'attitude': 346, 'abusive': 75, 'violent': 4748, 'husband': 2204, 'frustrated': 1842, 'businessman': 634, 'loving': 2675, 'contest': 967, 'finds': 1728, 'touching': 4536, 'beautiful': 428, 'impressive': 2253, 'kay': 2447, 'screenplay': 3831, 'develop': 1222, 'top': 4525, 'notch': 3043, 'magnificent': 2705, 'score': 3822, 'sings': 3997, 'concert': 935, 'stranger': 4213, 'conservative': 948, 'european': 1530, 'died': 1244, 'reaching': 3539, 'peace': 3219, 'eyes': 1613, 'became': 431, 'wet': 4855, 'vote': 4766, 'nine': 3017, 'brazil': 568, 'neighbors': 2994, 'easily': 1406, 'cartoons': 705, 'took': 4523, 'mistake': 2871, 'hey': 2095, 'paint': 3173, 'exciting': 1563, 'till': 4493, 'free': 1827, 'access': 83, 'band': 391, 'sound': 4081, 'track': 4544, 'road': 3709, 'sounded': 4082, 'according': 88, 'shoot': 3942, 'supposedly': 4307, 'plots': 3310, 'developed': 1223, 'climax': 849, 'trite': 4589, 'pace': 3161, 'disjointed': 1287, 'george': 1893, 'matt': 2768, 'damon': 1101, 'carefully': 689, 'crafted': 1029, 'oil': 3097, 'east': 1407, 'documentaries': 1306, 'excitement': 1562, 'lesser': 2576, 'broadway': 592, 'musicals': 2948, 'run': 3755, 'nevertheless': 3002, 'minor': 2857, 'rich': 3685, 'bought': 552, 'rights': 3697, 'jimmy': 2403, 'mostly': 2910, 'francis': 1818, 'albert': 174, 'sinatra': 3989, 'feature': 1678, 'debut': 1143, 'cameos': 658, 'singing': 3995, 'rival': 3706, 'broadcast': 591, 'frank': 1821, 'behind': 447, 'jack': 2373, 'morgan': 2905, 'hes': 2093, 'butler': 637, 'shes': 3930, 'hasnt': 2044, 'help': 2079, 'chapter': 757, 'staff': 4138, 'delightful': 1168, 'soul': 4079, 'pool': 3327, 'resources': 3651, 'hopes': 2159, 'slight': 4027, 'cast': 710, 'barbara': 397, 'suspect': 4327, 'victor': 4731, 'seeking': 3859, 'account': 89, 'wilson': 4891, 'mel': 2796, 'household': 2179, 'commercial': 902, 'stopped': 4202, 'lovely': 2671, 'spend': 4105, 'evening': 1534, 'nominated': 3025, 'oscar': 3133, 'alice': 182, 'union': 4661, 'strike': 4224, 'recording': 3575, 'industry': 2280, 'recorded': 3574, 'president': 3378, 'settle': 3902, 'broke': 593, 'ranks': 3519, 'earlier': 1399, 'record': 3573, 'provided': 3449, 'tommy': 4516, 'closed': 854, 'needed': 2988, 'whether': 4866, 'prove': 3445, 'move': 2921, 'fortunately': 1805, 'received': 3564, 'legend': 2564, 'danes': 1108, 'workers': 4943, 'department': 1182, 'obsessed': 3069, 'training': 4558, 'sees': 3866, 'disturbed': 1299, 'asks': 319, 'list': 2617, 'crimes': 1056, 'keeps': 2451, 'behavior': 446, 'hence': 2083, 'gone': 1935, 'discover': 1279, 'fetched': 1698, 'building': 615, 'disturbing': 1300, 'kidnapped': 2466, 'call': 651, 'thrillers': 4473, 'serial': 3889, 'killers': 2471, 'snl': 4044, 'ones': 3108, 'driven': 1365, 'oddly': 3081, 'avoided': 364, 'suppose': 4305, 'larry': 2520, 'heights': 2073, 'doubt': 1332, 'hit': 2122, 'tim': 4494, '2004': 34, 'suggests': 4282, 'cartoon': 704, 'network': 3000, 'shows': 3960, 'imaginative': 2237, 'approach': 282, 'todays': 4509, 'engaging': 1481, 'lately': 2524, 'absence': 70, 'originality': 3130, 'childrens': 793, 'splendid': 4119, 'underrated': 4642, 'found': 1811, 'funnier': 1850, 'props': 3439, 'gag': 1861, 'ben': 463, 'stiller': 4189, 'christopher': 811, 'walken': 4777, 'blacks': 494, 'dog': 1310, 'disappear': 1270, 'under': 4639, 'ass': 323, 'horrendous': 2162, 'plague': 3285, 'mood': 2898, 'soft': 4051, 'porn': 3336, 'shower': 3957, 'throughout': 4478, 'swear': 4334, 'crew': 1053, 'lessons': 2578, 'hoping': 2160, 'heck': 2071, 'experience': 1580, 'anyway': 261, 'killer': 2470, 'sympathetic': 4342, 'aspect': 321, 'celebrity': 729, 'wacky': 4769, 'foreign': 1790, 'comedies': 889, 'catch': 714, 'frequently': 1832, 'pleasant': 3302, 'surprises': 4314, 'south': 4087, 'park': 3190, 'nearly': 2981, 'social': 4049, 'abuse': 74, 'speed': 4103, 'suicide': 4283, 'murder': 2939, 'topic': 4526, 'mom': 2885, 'son': 4070, 'looked': 2647, 'men': 2805, 'directly': 1263, 'related': 3594, 'library': 2589, 'argument': 291, 'among': 217, 'students': 4239, 'stereotypes': 4179, 'capable': 672, 'romance': 3732, 'tracy': 4546, 'awkward': 374, 'shocking': 3940, 'horrors': 2169, 'using': 4698, 'unaware': 4632, 'impressed': 2251, 'horrific': 2166, 'focuses': 1768, 'won': 4925, 'due': 1382, 'enormous': 1490, 'charisma': 762, 'immediately': 2242, 'sympathy': 4343, 'certain': 737, 'allowed': 190, 'per': 3223, 'provoking': 3452, 'positive': 3346, 'tragic': 4552, 'donald': 1321, 'portrayal': 3341, 'cruel': 1070, 'captain': 674, 'receive': 3563, 'deserves': 1201, 'creating': 1039, 'speaking': 4095, 'portrayed': 3342, 'ellen': 1446, 'whose': 4877, 'style': 4249, 'remind': 3618, 'alive': 186, 'impact': 2244, 'tension': 4404, 'unexpected': 4650, 'poetic': 3313, 'tragedy': 4551, 'tears': 4380, 'realized': 3553, 'image': 2233, 'recently': 3567, 'wondered': 4927, 'fake': 1635, 'costumes': 1006, 'jessica': 2398, 'tired': 4501, 'saving': 3797, 'accents': 79, 'capture': 676, 'essence': 1521, 'americans': 214, 'buying': 641, 'eye': 1611, 'taught': 4370, 'raise': 3507, 'include': 2261, 'teenagers': 4391, 'adult': 125, 'nature': 2975, 'novel': 3052, 'worthless': 4954, 'follow': 1772, 'closely': 855, 'novels': 3053, 'versions': 4721, 'uninteresting': 4660, 'clichés': 846, 'stick': 4185, 'filmed': 1717, 'inside': 2297, 'imagination': 2236, 'spoiler': 4123, 'decide': 1148, 'witch': 4909, '90s': 61, 'central': 735, 'greatest': 1966, 'saturday': 3792, 'glorious': 1921, 'golden': 1934, 'age': 148, 'chris': 806, 'david': 1124, 'exposed': 1598, 'passed': 3202, 'horrible': 2163, 'bathroom': 412, 'ms': 2931, 'talents': 4356, 'alex': 179, 'talented': 4355, 'ha': 2002, 'idiots': 2220, 'miss': 2866, 'press': 3379, 'festival': 1697, 'ultra': 4629, 'canadian': 667, 'starring': 4154, 'sign': 3970, 'woody': 4936, 'allen': 188, 'respected': 3653, 'expectations': 1576, 'disappointment': 1275, 'turkey': 4604, 'claims': 830, 'respect': 3652, 'survivors': 4325, 'lay': 2542, 'wes': 4851, 'outstanding': 3147, 'currently': 1085, 'twists': 4619, 'confusion': 943, 'answer': 251, 'honesty': 2148, 'thank': 4421, 'devil': 1228, 'jaw': 2384, 'dropping': 1371, 'carried': 698, 'overwhelming': 3157, 'kelly': 2452, 'sidney': 3968, 'lumet': 2688, 'brothers': 599, 'philip': 3252, 'hoffman': 2128, 'ethan': 1528, 'rob': 3710, 'store': 4204, 'noted': 3045, 'charlie': 765, 'robbery': 3711, 'confused': 941, 'device': 1227, 'perfectly': 3226, 'adding': 117, 'affair': 135, 'question': 3487, 'hardly': 2036, 'save': 3794, 'cheesy': 781, 'extra': 1606, 'brother': 598, 'father': 1666, 'caused': 724, 'pain': 3170, 'cagney': 646, 'charm': 767, 'spare': 4093, 'spoof': 4127, '30s': 44, '40s': 49, 'gangster': 1868, 'ground': 1979, 'constantly': 958, 'remarkably': 3614, 'yeah': 4977, 'elsewhere': 1449, 'roman': 3731, 'pet': 3246, 'owner': 3159, 'johnny': 2410, 'tag': 4348, 'gun': 1996, 'warning': 4800, 'latin': 2527, 'shop': 3945, 'machine': 2693, 'parts': 3199, 'conversation': 980, 'decade': 1144, 'coming': 896, 'bone': 533, 'patient': 3211, 'odds': 3082, 'rolling': 3730, 'floor': 1759, 'gothic': 1945, 'italian': 2367, 'castle': 712, 'talking': 4360, 'doors': 1329, 'eerie': 1427, 'dying': 1393, 'wind': 4893, 'smoke': 4039, 'heavy': 2070, 'terms': 4406, 'atmosphere': 333, 'masterful': 2758, 'tiny': 4500, 'league': 2549, 'curse': 1086, 'crying': 1074, 'directors': 1266, 'duo': 1386, 'silence': 3974, 'fish': 1738, 'areas': 287, 'including': 2264, 'powerful': 3360, 'genuinely': 1892, 'nightmare': 3014, 'inducing': 2279, 'sinister': 3998, 'filming': 1718, 'locations': 2636, 'stylish': 4251, 'photography': 3260, 'chilling': 794, 'performers': 3232, 'aforementioned': 139, 'shines': 3932, 'surrounded': 4318, 'depiction': 1185, 'edgar': 1417, 'involves': 2348, 'countryside': 1015, 'challenging': 744, 'journalist': 2420, 'accept': 80, 'foster': 1809, 'survive': 4321, 'spending': 4106, 'infamous': 2284, 'receives': 3565, 'newspaper': 3006, 'interview': 2329, 'needless': 2989, 'somebody': 4062, 'ghosts': 1903, 'vampires': 4712, 'meets': 2795, 'dreams': 1355, 'gradually': 1952, 'learns': 2553, 'previously': 3388, 'deceased': 1146, 'proud': 3444, 'web': 4833, 'spider': 4109, 'handful': 2017, 'general': 1880, 'superior': 4300, 'thoroughly': 4459, 'unsettling': 4679, 'arms': 294, 'neck': 2985, 'circumstances': 822, 'lit': 2621, 'room': 3735, 'definition': 1163, 'offer': 3087, 'un': 4630, 'genuine': 1891, 'food': 1778, 'altogether': 202, 'fall': 1637, 'flat': 1748, 'lowest': 2678, 'potential': 3355, 'ruin': 3750, 'trilogy': 4586, 'rushed': 3760, 'mixture': 2878, 'traditional': 4550, 'painted': 3174, 'distracting': 1297, 'disappointing': 1274, 'battle': 414, 'letter': 2581, 'dragon': 1344, 'terrific': 4409, 'immensely': 2243, 'appealing': 272, 'motion': 2913, 'added': 116, 'overacting': 3149, 'boredom': 542, 'result': 3660, 'checking': 778, 'finale': 1723, 'mistaken': 2872, 'natural': 2973, 'understanding': 4645, 'extreme': 1609, 'plan': 3287, 'treasure': 4571, 'ask': 316, 'hadnt': 2004, 'gave': 1875, 'design': 1202, 'spectacular': 4101, 'designed': 1203, 'strongly': 4231, 'air': 164, 'royal': 3746, 'area': 286, 'forms': 1801, 'works': 4945, 'fantasy': 1652, 'rules': 3754, 'british': 589, 'stanley': 4148, 'ran': 3513, 'throwing': 4480, 'uk': 4626, 'happy': 2032, 'remain': 3609, 'ages': 152, 'tear': 4379, 'animals': 240, 'nicely': 3009, 'mixed': 2877, 'personalities': 3241, 'shadow': 3912, 'filled': 1715, 'wisdom': 4902, 'witty': 4917, 'comical': 894, 'cat': 713, 'lee': 2559, 'presence': 3373, 'suffers': 4278, 'values': 4710, 'favourite': 1673, 'anime': 243, 'unlikely': 4671, 'background': 380, 'near': 2979, 'crime': 1055, 'philosophy': 3254, 'city': 825, 'cars': 702, 'criminals': 1058, 'loose': 2650, 'equally': 1510, 'twin': 4615, 'existence': 1571, 'involve': 2345, 'state': 4160, 'art': 304, 'otherwise': 3137, 'fit': 1740, 'dubbing': 1380, 'lots': 2662, 'album': 175, 'situations': 4009, 'highly': 2105, 'recommended': 3572, 'upper': 4685, 'classes': 834, 'differences': 1247, 'lively': 2627, 'dull': 1384, '14': 6, 'murdered': 2940, 'ingredients': 2289, 'private': 3404, 'mystery': 2956, 'exotic': 1574, 'setting': 3900, 'blue': 518, 'nose': 3037, 'club': 863, 'locked': 2637, 'key': 2458, 'plenty': 3307, 'suspects': 4328, 'detective': 1220, 'type': 4621, 'william': 4887, 'stayed': 4167, 'mgm': 2828, 'beyond': 476, 'words': 4938, '1970s': 17, 'damn': 1100, 'possessed': 3347, 'easy': 1410, 'omen': 3104, 'baby': 376, 'german': 1896, 'heat': 2067, 'satan': 3787, 'youd': 4987, 'lord': 2652, 'darkness': 1117, 'model': 2880, 'grows': 1985, 'charismatic': 763, 'animal': 239, 'lucky': 2683, 'dogs': 1311, 'teachers': 4376, 'arm': 292, 'chosen': 805, 'travels': 4569, 'search': 3841, 'ancient': 225, 'painting': 3175, 'advice': 133, 'speaks': 4096, 'guess': 1989, 'living': 2629, 'mountain': 2917, 'curtis': 1087, 'ruby': 3749, 'desperately': 1209, 'create': 1036, 'mysterious': 2955, 'fire': 1734, 'spanish': 4092, 'bullets': 621, 'spooky': 4128, 'tunes': 4603, 'utterly': 4702, 'loads': 2633, 'brief': 579, 'sister': 4001, 'hyde': 2206, 'terrifying': 4410, 'queen': 3485, 'pack': 3165, 'blown': 516, 'ice': 2210, 'assault': 324, 'kinda': 2477, 'cool': 989, 'creepy': 1052, 'shame': 3918, 'regret': 3591, 'missed': 2867, 'rented': 3628, 'korean': 2495, 'thrills': 4475, 'dragged': 1343, 'pop': 3330, 'ridiculous': 3693, 'ring': 3698, 'compared': 912, 'measure': 2786, 'hook': 2152, 'haunting': 2051, 'psychological': 3458, 'improved': 2255, '1999': 27, 'gonna': 1936, 'oh': 3096, 'concern': 931, 'irritating': 2359, 'sappy': 3784, 'bruce': 602, 'stop': 4201, 'surely': 4309, 'boys': 559, 'laughing': 2533, 'akshay': 169, 'dating': 1120, 'suspicious': 4332, 'thinks': 4454, 'lacking': 2504, 'mark': 2739, 'award': 366, 'laughs': 2534, 'everyones': 1543, 'welcome': 4842, 'warm': 4794, 'grown': 1984, 'struggles': 4235, 'builds': 617, 'resolution': 3649, 'matthau': 2771, 'waited': 4771, 'robbins': 3712, 'goofy': 1939, 'silly': 3976, 'theyve': 4446, 'hat': 2045, 'pants': 3182, 'tight': 4492, 'blows': 517, 'western': 4853, 'forget': 1793, 'horses': 2171, 'westerns': 4854, 'camp': 662, 'therefore': 4439, 'above': 68, 'appeal': 271, 'armed': 293, 'teeth': 4393, 'officers': 3093, 'pay': 3216, 'charles': 764, '50s': 52, 'sent': 3880, 'earth': 1403, 'mid': 2832, 'continues': 971, 'urban': 4688, 'trouble': 4592, 'denzel': 1181, 'washington': 4806, 'civil': 826, 'lawyer': 2541, 'academy': 77, 'african': 142, 'chose': 804, 'direct': 1258, 'fisher': 1739, 'derek': 1192, 'luke': 2687, 'guest': 1992, 'appearances': 275, 'appearing': 277, 'undoubtedly': 4648, 'believed': 455, 'navy': 2976, 'fights': 1710, 'psychiatrist': 3455, 'named': 2961, 'deal': 1135, 'troubled': 4593, 'learn': 2550, 'birth': 486, 'melodramatic': 2798, 'affect': 136, 'carrying': 701, 'closing': 859, 'born': 544, 'response': 3654, 'obvious': 3071, 'realistic': 3550, 'common': 906, 'stories': 4205, 'complain': 919, 'davis': 1126, 'barely': 399, 'elaborate': 1439, 'heaven': 2068, 'steven': 4182, 'scientist': 3818, 'doomed': 1327, 'craft': 1028, 'expression': 1602, 'definite': 1161, 'leading': 2547, 'nonetheless': 3029, 'directorial': 1265, 'critical': 1062, 'fame': 1642, 'popularity': 3334, 'lawrence': 2539, 'garbage': 1870, 'familiar': 1643, 'pre': 3365, 'prefer': 3368, 'excuse': 1564, 'lab': 2501, 'failed': 1626, 'franchise': 1817, 'lying': 2690, 'experiences': 1582, 'warrior': 4802, 'september': 3884, 'garden': 1872, 'spot': 4131, 'vietnam': 4735, 'jungle': 2434, 'pit': 3278, 'accepted': 82, 'necessary': 2984, 'defense': 1159, 'widmark': 4882, 'veteran': 4724, 'assigned': 325, 'troops': 4591, 'praise': 3364, 'recognized': 3570, 'army': 295, 'keeping': 2450, 'smart': 4035, 'becoming': 435, 'confidence': 938, 'weapon': 4828, 'worried': 4949, 'arthur': 305, 'texas': 4418, 'government': 1948, 'conflicts': 940, 'authority': 360, 'brooks': 596, 'ned': 2986, 'fresh': 1833, 'nomination': 3026, 'vivid': 4760, 'jackie': 2374, 'chan': 746, 'kung': 2498, 'fu': 1844, 'fast': 1661, 'creative': 1041, 'eastern': 1408, 'methods': 2825, 'ie': 2221, 'kicking': 2462, 'remaining': 3610, 'reaches': 3538, 'europe': 1529, 'vague': 4705, 'dear': 1140, 'twenty': 4612, 'descent': 1193, 'ourselves': 3140, 'statement': 4162, 'issues': 2365, 'reference': 3582, 'seeks': 3860, 'portray': 3340, 'disgusting': 1286, 'retarded': 3663, 'innocent': 2294, 'beings': 449, 'jesus': 2399, 'torture': 4529, 'mentally': 2809, 'stone': 4197, 'burn': 625, 'contains': 964, 'various': 4715, 'horribly': 2164, 'persons': 3244, 'water': 4816, 'beaten': 424, 'birds': 485, 'staged': 4140, 'acts': 107, 'following': 1774, 'negative': 2991, 'shut': 3961, 'truth': 4599, 'brad': 560, 'guarantee': 1987, 'reviewer': 3677, 'lisa': 2616, 'campy': 664, 'radio': 3504, 'producer': 3415, 'sat': 3786, 'christian': 808, 'instance': 2304, 'bible': 477, 'context': 968, 'text': 4419, 'telling': 4396, 'attempts': 343, 'christ': 807, 'evidence': 1546, 'christians': 809, 'historically': 2120, 'critics': 1064, 'images': 2235, 'hammer': 2014, 'ironically': 2356, 'massacre': 2754, 'versus': 4722, 'bothered': 549, 'subject': 4253, 'york': 4985, 'movement': 2923, 'holy': 2140, 'commentary': 899, 'proceeds': 3411, 'convinced': 984, 'throws': 4482, 'describes': 1196, 'witnessed': 4915, 'examples': 1554, 'straight': 4210, 'childhood': 790, 'fool': 1779, 'passes': 3203, 'intelligent': 2314, 'load': 2631, 'facts': 1624, 'weakest': 4825, 'kenneth': 2455, 'branagh': 564, 'efforts': 1433, 'messed': 2821, 'sequences': 3888, 'shakespeare': 3915, 'cole': 873, 'books': 536, 'adaptation': 113, 'major': 2711, 'bridge': 578, 'larger': 2519, 'orson': 3132, 'welles': 4844, 'repeatedly': 3632, 'womans': 4922, 'centered': 733, 'fully': 1847, 'pamela': 3179, 'gotten': 1947, 'funeral': 1849, 'generation': 1883, 'overrated': 3156, 'available': 361, 'dollar': 1314, 'personally': 3243, 'quit': 3494, 'allowing': 191, 'bringing': 586, 'scores': 3823, 'exploitation': 1592, 'extent': 1605, 'feminist': 1695, 'majority': 2712, 'protagonist': 3441, 'sadistic': 3768, 'lesbian': 2573, 'similarities': 3979, 'treat': 4572, 'period': 3236, 'italy': 2368, 'wounded': 4961, 'muslim': 2949, 'hatred': 2049, 'neither': 2996, 'endings': 1472, 'nasty': 2968, 'explicit': 1591, 'detail': 1217, 'settings': 3901, 'productions': 3420, 'giallo': 1904, '1972': 18, 'delivers': 1172, 'fitting': 1742, 'deeply': 1156, 'depressing': 1188, '75': 57, 'sequels': 3886, 'suck': 4269, 'research': 3644, 'choices': 798, 'eric': 1514, 'roberts': 3714, 'forward': 1808, 'complicated': 925, 'slowly': 4032, 'revealing': 3672, 'balance': 387, 'ensemble': 1492, 'summer': 4291, 'fabulous': 1615, 'innocence': 2293, 'implausible': 2245, 'cinderella': 815, 'unbelievably': 4635, 'length': 2569, 'reveals': 3673, 'fault': 1668, 'wonders': 4931, 'likely': 2601, 'possibilities': 3348, 'incredibly': 2270, 'resist': 3648, 'contained': 963, 'jason': 2383, 'weird': 4841, 'flashbacks': 1747, 'tooth': 4524, 'santa': 3783, 'moves': 2925, 'brains': 563, 'prince': 3396, 'satisfying': 3791, 'attempted': 341, 'marketing': 2741, 'purposes': 3475, 'contrived': 976, 'porno': 3337, 'expressions': 1603, 'childish': 791, 'womens': 4924, 'conspiracy': 956, 'overdone': 3152, 'speech': 4102, 'remarks': 3615, 'redeeming': 3577, 'attractive': 351, 'scared': 3805, 'contain': 962, 'separate': 3883, 'nicholson': 3011, 'touches': 4535, 'andy': 230, 'terry': 4415, 'danny': 1112, 'pieces': 3273, 'court': 1020, 'tribute': 4581, 'spike': 4111, 'lees': 2560, 'raw': 3532, 'former': 1800, 'spy': 4135, 'cia': 814, 'led': 2558, 'bitter': 491, 'mexico': 2827, 'comfortable': 892, 'providing': 3451, 'guard': 1988, 'service': 3896, 'financial': 1725, 'anthony': 253, 'mitchell': 2875, 'sexy': 3911, 'range': 3516, 'worthy': 4956, 'across': 96, 'drives': 1367, 'bond': 532, 'directs': 1267, 'visual': 4757, 'icon': 2211, 'status': 4165, 'connection': 946, 'loves': 2674, 'dad': 1095, 'swimming': 4338, 'competition': 918, 'friendship': 1838, 'thick': 4447, 'tour': 4538, 'de': 1131, 'possibility': 3349, 'brand': 565, 'anger': 235, 'responsible': 3656, 'justice': 2438, 'mexican': 2826, 'brilliance': 582, 'kinds': 2478, 'bullet': 620, 'brian': 576, 'information': 2288, 'loses': 2657, 'finger': 1731, 'answers': 252, 'placed': 3283, 'places': 3284, 'pulled': 3462, 'loaded': 2632, 'bonus': 534, 'tracks': 4545, 'faithful': 1634, 'jones': 2418, 'blake': 498, 'dick': 1239, 'perry': 3237, 'creation': 1040, 'murders': 2943, 'leaves': 2556, 'sold': 4052, 'nancy': 2964, 'beloved': 461, 'horse': 2170, 'babe': 375, 'trial': 4580, 'portraying': 3343, 'gem': 1877, 'invisible': 2344, 'karloff': 2445, 'reads': 3545, 'events': 1536, 'africa': 141, 'lugosi': 2686, 'romantic': 3733, 'cooper': 990, 'maria': 2736, 'bold': 528, 'episodes': 1508, 'handsome': 2021, 'mothers': 2912, 'law': 2538, 'desert': 1198, 'entertained': 1498, 'teach': 4374, 'qualities': 3483, 'cliche': 843, 'united': 4664, 'states': 4163, 'junk': 2436, 'relate': 3593, 'hollywoods': 2138, 'audiences': 353, 'originally': 3131, 'goldberg': 1933, 'political': 3324, 'discussion': 1284, 'rex': 3683, 'appalling': 268, 'illegal': 2229, 'hideous': 2098, 'convincingly': 986, 'mike': 2838, 'silent': 3975, 'created': 1037, 'technique': 4383, 'louise': 2666, 'unfolds': 4651, 'afterwards': 145, 'fairy': 1632, 'resembles': 3646, 'window': 4894, 'doll': 1313, 'greater': 1965, 'princess': 3397, 'returns': 3668, 'reunion': 3669, 'ability': 65, 'lovers': 2673, 'despair': 1207, 'routine': 3743, 'wild': 4885, 'matched': 2763, 'marriage': 2743, 'photographer': 3259, 'mirror': 2861, 'dawn': 1127, 'quest': 3486, 'freedom': 1828, 'kills': 2474, 'celluloid': 731, 'beneath': 464, 'worker': 4942, 'serve': 3893, 'butt': 638, 'smile': 4036, 'gifted': 1907, 'intention': 2319, 'darker': 1116, 'protagonists': 3442, 'inept': 2281, 'revenge': 3675, 'met': 2822, 'attacks': 339, 'allow': 189, 'normally': 3034, 'pushing': 3479, '70': 55, 'concerning': 933, 'nobody': 3022, 'fighter': 1708, 'families': 1644, 'skin': 4015, 'anymore': 258, 'carter': 703, 'driving': 1368, 'seasons': 3844, 'forth': 1804, 'elvis': 1451, 'apart': 264, 'streisand': 4218, 'gift': 1906, 'redemption': 3578, 'gary': 1873, 'levels': 2585, 'produced': 3414, 'tall': 4362, 'criminal': 1057, 'warner': 4799, 'note': 3044, 'sitting': 4007, 'thrill': 4471, 'dancers': 1105, 'card': 681, 'presentation': 3375, 'controversial': 978, 'national': 2970, 'hed': 2072, 'nation': 2969, 'chinese': 796, 'watches': 4814, 'feet': 1688, 'dances': 1106, 'code': 869, 'regard': 3588, 'suits': 4287, 'bus': 631, 'square': 4136, 'lights': 2597, 'spread': 4133, 'shots': 3950, '35': 45, 'walks': 4780, 'scheme': 3812, 'stealing': 4171, '1968': 16, 'manages': 2725, 'computer': 927, 'expert': 1585, 'cash': 709, 'knowledge': 2491, 'puts': 3481, 'suspend': 4329, 'maggie': 2702, 'smith': 4038, 'million': 2847, 'confusing': 942, 'guessing': 1991, 'magical': 2704, 'bob': 524, 'treatment': 4574, 'helped': 2080, 'disappointed': 1273, 'ruined': 3751, 'treated': 4573, 'express': 1600, 'hollow': 2135, 'brave': 567, 'prepared': 3371, 'scare': 3803, 'arrive': 300, 'filmmaker': 1719, 'lady': 2507, 'prime': 3395, 'noir': 3023, 'structure': 4233, 'ride': 3692, 'vision': 4754, 'latter': 2528, 'executive': 1567, 'harry': 2039, 'gorgeous': 1942, 'irish': 2353, 'angry': 238, 'mrs': 2930, 'citizen': 824, 'kane': 2442, 'accompanied': 86, 'glenn': 1918, 'control': 977, 'agrees': 157, 'planning': 3291, 'results': 3662, 'dare': 1113, 'reveal': 3670, 'whatever': 4859, 'remains': 3611, 'striking': 4226, 'jr': 2423, 'covered': 1023, 'shadows': 3913, 'angles': 237, 'path': 3209, 'buffs': 612, 'repeat': 3630, 'underlying': 4641, 'motives': 2916, 'sink': 3999, 'unintentional': 4658, 'prior': 3400, 'blow': 514, 'communist': 907, 'era': 1513, 'secret': 3849, 'funniest': 1851, 'delivered': 1170, 'trained': 4557, 'solution': 4059, 'group': 1980, 'mst3k': 2932, 'wars': 4804, 'transformation': 4560, 'caring': 691, 'scrooge': 3837, 'christmas': 810, 'carol': 693, 'inspector': 2299, 'finest': 1730, 'robinson': 3716, 'pokemon': 3320, 'mediocre': 2791, 'aimed': 162, 'fields': 1705, 'aside': 315, 'greatly': 1967, 'sweet': 4336, 'installment': 2303, 'marks': 2742, 'intensity': 2317, 'likable': 2598, 'dolph': 1317, 'villain': 4744, 'menacing': 2807, 'wished': 4905, 'student': 4238, 'bloody': 513, 'kicks': 2463, 'rage': 3505, 'laughably': 2531, 'annoyed': 248, 'kick': 2460, 'jennifer': 2392, 'retired': 3664, 'cases': 708, 'younger': 4990, 'focused': 1767, 'quirky': 3493, 'moved': 2922, 'promised': 3431, 'learning': 2552, 'grandfather': 1954, 'demons': 1178, 'conflict': 939, 'heavily': 2069, 'personal': 3240, 'university': 4667, 'racial': 3501, 'occur': 3076, 'overcome': 3151, 'sudden': 4272, 'schools': 3814, 'build': 614, 'sorts': 4078, 'size': 4012, 'built': 618, 'failure': 1629, 'travesty': 4570, 'california': 650, 'bush': 632, 'villains': 4745, 'raped': 3522, 'gang': 1867, 'aid': 160, 'meet': 2793, 'cube': 1076, 'miscast': 2862, 'professor': 3422, 'race': 3499, 'fly': 1763, 'complex': 923, 'alike': 185, 'disappoint': 1272, 'entertain': 1497, 'devoid': 1230, 'warmth': 4796, 'moore': 2901, 'secretly': 3851, 'older': 3101, 'sleazy': 4023, 'toys': 4543, 'sticks': 4186, 'beliefs': 452, 'combination': 883, 'crocodile': 1065, 'surfing': 4311, 'foot': 1781, 'females': 1694, 'flash': 1745, 'deaths': 1142, 'pointless': 3318, 'swedish': 4335, 'lived': 2626, 'process': 3412, 'plain': 3286, 'unintentionally': 4659, 'technical': 4381, 'furthermore': 1854, 'florida': 1761, 'multi': 2935, 'depicted': 1183, 'aware': 368, 'regarding': 3589, 'useless': 4695, 'flop': 1760, '18': 10, 'power': 3359, 'intentions': 2321, 'twilight': 4614, 'zone': 4999, 'ghost': 1902, 'tough': 4537, 'happening': 2028, 'escape': 1517, 'center': 732, 'cared': 685, 'unbearable': 4633, 'blockbuster': 509, 'devoted': 1231, 'energy': 1478, 'creativity': 1042, 'doo': 1325, 'ruthless': 3764, 'gripping': 1976, 'suspense': 4330, 'rachel': 3500, 'hotel': 2175, 'manager': 2724, 'unfortunate': 4653, 'murphy': 2944, 'batman': 413, 'airport': 167, 'flight': 1757, 'bay': 416, 'fails': 1628, 'demands': 1175, 'everyday': 1541, 'fashioned': 1660, 'desperation': 1210, 'decision': 1151, 'position': 3345, 'cry': 1073, 'trailer': 4554, 'ultimate': 4627, 'transition': 4561, 'persona': 3239, 'identity': 2217, 'kicked': 2461, 'overlook': 3153, 'pictures': 3270, 'girlfriend': 1910, 'jump': 2429, 'trademark': 4548, 'pleasure': 3306, 'craven': 1034, 'arrived': 301, 'lasted': 2522, 'false': 1641, 'winning': 4898, 'prize': 3405, 'began': 441, 'drawing': 1350, 'wondering': 4930, 'rarely': 3524, '1950s': 14, 'rings': 3699, 'source': 4086, 'inspiration': 2300, 'equivalent': 1512, 'exploration': 1593, 'gender': 1878, 'fascinated': 1657, 'construction': 960, 'afraid': 140, 'relevant': 3604, 'rural': 3758, 'allows': 192, 'passionate': 3206, 'mighty': 2836, 'appeared': 276, 'green': 1971, 'cg': 739, 'minds': 2852, 'kevin': 2457, '3000': 43, 'thankfully': 4422, 'watchable': 4812, 'featured': 1679, 'monk': 2889, 'hunter': 2199, 'captivating': 675, 'unit': 4663, 'exception': 1557, 'formula': 1802, 'supernatural': 4302, 'situation': 4008, '24': 39, 'personality': 3242, 'goal': 1925, 'frankly': 1823, 'waiting': 4772, 'fair': 1630, 'share': 3920, 'restored': 3659, 'print': 3399, 'winters': 4901, 'kudos': 2497, 'agree': 155, 'liberal': 2588, 'represents': 3639, 'backgrounds': 381, 'folks': 1771, 'calling': 653, 'forgotten': 1797, 'judge': 2424, 'ignorant': 2223, 'individuals': 2278, 'shallow': 3917, 'introduces': 2338, 'flashback': 1746, 'seemingly': 3863, 'ladies': 2506, 'oscars': 3134, 'dozen': 1338, 'competent': 917, 'lewis': 2586, 'brown': 601, 'rain': 3506, 'honor': 2150, 'formulaic': 1803, 'shelley': 3928, 'theatre': 4429, 'eve': 1532, 'wicked': 4879, 'matthew': 2772, 'jean': 2389, 'characterization': 759, 'steve': 4181, 'martin': 2748, 'flow': 1762, 'happily': 2030, 'continue': 969, 'eager': 1396, 'mine': 2853, 'shocked': 3939, 'ad': 110, 'acceptable': 81, 'satire': 3788, 'alas': 172, 'realism': 3549, 'surviving': 4323, '40': 48, 'scripts': 3836, 'offers': 3090, 'crappy': 1032, 'generous': 1886, 'glimpse': 1919, 'hip': 2114, 'slasher': 4020, 'picks': 3268, 'downright': 1337, 'awards': 367, 'steals': 4172, 'scares': 3806, 'location': 2635, 'mansion': 2731, 'shape': 3919, 'burt': 629, 'reynolds': 3684, 'stinks': 4192, 'pass': 3201, 'sons': 4073, 'savage': 3793, 'destroy': 1213, 'fbi': 1675, 'bare': 398, 'minimum': 2856, 'jeremy': 2394, 'pan': 3180, 'event': 1535, 'strangely': 4212, 'overlooked': 3154, 'nelson': 2997, 'lower': 2677, 'holmes': 2139, 'agents': 151, 'committed': 905, 'richards': 3687, 'gay': 1876, 'carries': 699, 'matrix': 2767, 'millions': 2848, 'humanity': 2189, 'battles': 415, 'sellers': 3872, 'chances': 748, 'sheer': 3925, 'kirk': 2482, 'cameron': 661, 'reflect': 3584, 'strictly': 4223, 'briefly': 580, 'showed': 3956, 'nyc': 3065, 'pages': 3168, 'bet': 470, 'manhattan': 2726, 'check': 777, 'religious': 3608, 'saved': 3795, 'hooked': 2153, 'gotta': 1946, 'types': 4622, 'arguably': 289, 'hated': 2047, 'masses': 2755, 'logical': 2639, 'offended': 3085, 'presented': 3376, 'picked': 3266, 'program': 3424, 'groups': 1981, 'poem': 3312, 'harder': 2035, 'climactic': 848, 'marry': 2745, 'mass': 2753, 'marvelous': 2750, 'weight': 4840, 'fate': 1665, 'hall': 2009, 'object': 3066, 'visits': 4756, 'hidden': 2096, 'mentioned': 2811, 'explosion': 1596, 'lily': 2605, 'stanwyck': 4149, 'bank': 394, 'lover': 2672, 'relationships': 3598, 'subtlety': 4261, 'newly': 3004, 'sends': 3876, 'paris': 3189, 'reached': 3537, 'wealth': 4826, 'subjects': 4254, 'achieve': 92, 'alfred': 181, 'hints': 2113, 'jazz': 2387, 'essentially': 1523, '70s': 56, 'dollars': 1315, 'memorable': 2802, 'bottle': 550, 'graphic': 1958, 'emphasis': 1463, 'territory': 4411, 'bird': 484, 'inventive': 2341, 'runs': 3757, 'outside': 3146, 'influenced': 2287, 'blade': 495, 'shall': 3916, 'language': 2516, 'extras': 1608, 'underground': 4640, 'amateurish': 207, 'bat': 410, 'clark': 832, 'virgin': 4749, 'figured': 1712, 'deals': 1137, 'witches': 4910, 'deliberately': 1166, 'root': 3737, 'odd': 3080, 'physical': 3262, 'touched': 4534, 'tender': 4401, 'troubles': 4594, 'perspective': 3245, 'react': 3540, 'spends': 4107, 'realizes': 3554, 'thoughts': 4464, 'dimensional': 1253, 'dancer': 1104, 'master': 2757, 'imdb': 2240, 'likes': 2602, 'del': 1165, 'soap': 4047, 'opera': 3116, 'cuts': 1091, 'freak': 1824, 'count': 1010, 'hilariously': 2107, 'preview': 3386, 'insult': 2309, 'ratings': 3530, 'slap': 4018, 'moral': 2902, 'insane': 2296, 'excited': 1561, 'japan': 2381, 'nervous': 2999, 'tons': 4520, 'imagery': 2234, '2005': 35, 'grinch': 1975, 'sophisticated': 4075, 'bits': 490, 'creates': 1038, 'blend': 504, 'jeffrey': 2391, 'polished': 3323, 'wed': 4835, 'bbc': 417, 'dramas': 1347, 'costume': 1005, 'amazingly': 210, 'england': 1482, 'lucy': 2684, 'prisoner': 3402, 'tree': 4576, 'laughter': 2535, 'teen': 4388, 'easier': 1405, 'divorce': 1301, 'reviewers': 3678, 'street': 4216, 'usa': 4691, 'torn': 4528, 'west': 4852, 'walking': 4779, 'vincent': 4746, 'cares': 690, 'don': 1320, 'vengeance': 4719, 'perform': 3227, 'magic': 2703, 'trick': 4582, 'solo': 4058, 'contract': 973, 'property': 3438, 'company': 910, 'inevitably': 2283, 'double': 1331, 'grand': 1953, 'gross': 1978, 'player': 3298, 'contemporary': 965, 'properly': 3437, 'triumph': 4590, 'legendary': 2565, 'starred': 4153, 'depicts': 1186, 'pity': 3281, 'support': 4303, 'murderous': 2942, 'humble': 2191, 'winter': 4900, 'adventure': 130, 'warriors': 4803, 'brilliantly': 584, 'irony': 2357, 'technically': 4382, 'flawless': 1751, 'breathtaking': 574, 'moon': 2900, 'rising': 3703, 'sword': 4340, 'colors': 879, 'emotion': 1458, 'represent': 3637, 'simplicity': 3984, 'offering': 3089, 'rocks': 3722, 'spielberg': 4110, 'handed': 2016, 'kiss': 2483, 'finish': 1732, 'summary': 4290, 'cheese': 780, 'theory': 4437, 'breaking': 570, 'capturing': 679, 'explanation': 1590, 'pat': 3208, 'hill': 2108, 'dutch': 1389, 'secretary': 3850, 'seek': 3858, 'security': 3854, 'norman': 3035, 'steal': 4170, 'pair': 3176, 'rubber': 3747, 'equipment': 1511, 'peoples': 3222, 'misery': 2865, 'alcohol': 176, 'legal': 2563, 'laws': 2540, 'thru': 4483, 'realizing': 3555, 'timeless': 4496, 'smooth': 4041, 'dialogues': 1235, 'dancing': 1107, 'dirty': 1268, 'clint': 850, 'eastwood': 1409, 'native': 2972, 'san': 3780, 'francisco': 1819, 'hamlet': 2013, 'mix': 2876, 'portrait': 3339, 'deadly': 1133, 'leader': 2546, 'advantage': 129, 'visible': 4753, 'motivations': 2915, 'bound': 553, 'wit': 4908, 'courage': 1018, 'consequences': 947, 'riveting': 3708, 'succeeds': 4264, 'erotic': 1515, 'online': 3109, 'whoever': 4872, 'editor': 1423, 'uses': 4697, 'cities': 823, 'folk': 1770, 'angle': 236, 'distance': 1294, 'timothy': 4499, 'talked': 4359, 'loud': 2664, 'pacing': 3163, 'backdrop': 379, 'generic': 1885, 'matters': 2770, 'basis': 408, 'discovers': 1281, 'rose': 3739, 'occasion': 3073, 'tone': 4517, 'trade': 4547, 'storytelling': 4209, 'determined': 1221, 'jonathan': 2417, 'numerous': 3062, 'seat': 3845, 'calm': 655, 'wore': 4939, 'virtually': 4751, 'factor': 1622, 'shining': 3933, 'writes': 4970, 'wholly': 4874, 'ideal': 2214, 'spirited': 4114, 'vulnerable': 4768, 'highlights': 2104, 'pride': 3391, 'ocean': 3079, 'lazy': 2543, 'joy': 2422, 'village': 4743, 'talks': 4361, 'afternoon': 144, 'ruins': 3752, 'pitch': 3279, 'anyways': 262, 'roger': 3724, '3rd': 47, 'disc': 1278, 'regardless': 3590, 'adapted': 114, 'fathers': 1667, 'inspired': 2301, 'stiff': 4187, 'danger': 1109, 'exercise': 1568, 'split': 4120, 'leo': 2571, 'current': 1084, 'steel': 4173, 'dawson': 1128, 'walter': 4784, 'lengthy': 2570, 'albeit': 173, 'task': 4368, 'haunted': 2050, 'dressed': 1358, 'dreadful': 1353, 'dire': 1257, 'proper': 3436, 'mentioning': 2812, 'gratuitous': 1961, 'dropped': 1370, 'meaningless': 2782, 'embarrassment': 1455, 'category': 718, 'elvira': 1450, 'quick': 3490, 'tongue': 4518, 'cheek': 779, 'tap': 4364, 'combined': 885, 'cave': 727, 'werewolf': 4850, 'sheriff': 3929, 'week': 4837, 'caliber': 649, 'flawed': 1750, 'tarzan': 4367, 'loyal': 2679, 'jane': 2380, 'parker': 3191, 'calls': 654, 'remote': 3622, 'searching': 3842, 'claim': 828, 'hunt': 2198, 'sake': 3775, 'elephant': 1444, 'attacked': 338, 'saves': 3796, 'wizard': 4919, 'neil': 2995, 'harvey': 2042, 'metal': 2823, 'balls': 390, 'atrocious': 335, 'logic': 2638, 'scientific': 3817, 'lonely': 2643, 'spiritual': 4116, 'discovery': 1282, 'aspects': 322, 'henry': 2084, 'assumed': 329, 'opposed': 3122, 'philosophical': 3253, 'parallel': 3185, 'worlds': 4947, 'alternate': 200, 'martial': 2747, 'arts': 310, 'thirty': 4456, 'neo': 2998, 'draws': 1352, 'worn': 4948, 'fest': 1696, 'bucks': 606, 'nor': 3032, 'nazi': 2977, 'believing': 457, 'classics': 837, 'outer': 3143, 'vacation': 4704, 'winds': 4895, 'apartment': 265, 'notion': 3050, '1990s': 25, 'suffered': 4276, 'forgot': 1796, 'internet': 2327, 'choose': 799, 'latest': 2526, 'souls': 4080, 'term': 4405, 'amateur': 206, 'yelling': 4980, 'myers': 2952, 'behave': 445, 'standing': 4146, 'hanging': 2023, 'terribly': 4408, 'idiot': 2218, 'cameras': 660, 'hundreds': 2196, 'bodies': 526, 'daughters': 1122, 'occurs': 3078, 'amount': 219, 'spoken': 4126, 'bin': 483, 'accident': 84, 'carry': 700, 'machines': 2694, 'rats': 3531, 'project': 3427, 'corrupt': 1001, 'failing': 1627, 'stops': 4203, 'included': 2262, 'ups': 4686, 'aired': 165, 'nights': 3016, '2006': 36, 'causes': 725, 'ironic': 2355, 'cried': 1054, 'vehicle': 4718, 'kitchen': 2485, 'performing': 3233, 'crack': 1027, 'command': 897, 'americas': 215, 'admittedly': 123, 'trip': 4588, 'described': 1195, 'stewart': 4184, 'partly': 3197, 'huh': 2187, 'nurse': 3063, 'throat': 4476, 'listed': 2618, 'report': 3635, 'merit': 2816, 'begin': 442, 'nearby': 2980, 'medical': 2790, 'develops': 1226, 'careers': 687, 'reasonably': 3559, 'relies': 3606, 'ryan': 3765, 'clean': 838, 'complaint': 920, 'halfway': 2008, 'antics': 255, 'thoughtful': 4463, 'scientists': 3819, 'innovative': 2295, 'adequate': 120, 'unhappy': 4656, '2000': 30, 'closer': 856, 'colorful': 878, 'chuck': 812, 'contact': 961, 'continued': 970, 'grow': 1982, 'complexity': 924, 'impression': 2252, 'messages': 2820, 'alright': 198, 'repetitive': 3633, 'copies': 992, 'downhill': 1336, 'gory': 1943, 'jumps': 2432, 'alcoholic': 177, 'surreal': 4317, 'da': 1094, 'fell': 1690, 'argue': 290, 'friendly': 1836, 'melodrama': 2797, 'solely': 4056, 'arrival': 299, 'defined': 1160, 'birthday': 487, 'promises': 3432, 'homeless': 2143, 'paper': 3183, 'cake': 648, 'successfully': 4267, 'amounts': 220, 'semi': 3874, 'headed': 2058, 'blew': 505, 'directions': 1262, 'errors': 1516, 'purchase': 3469, 'hong': 2149, 'wwii': 4975, 'nations': 2971, 'abraham': 69, 'june': 2433, 'kim': 2475, 'powell': 3358, 'universe': 4666, 'disney': 1289, 'rape': 3521, 'experienced': 1581, 'defend': 1158, 'petty': 3249, 'loser': 2655, 'superbly': 4297, 'macy': 2695, 'madonna': 2699, 'spots': 4132, 'safe': 3771, 'baseball': 403, 'join': 2412, 'sports': 4130, 'grant': 1956, 'concerned': 932, 'wing': 4896, 'superficial': 4298, 'van': 4713, 'closest': 857, 'ignored': 2225, 'composed': 926, 'theyll': 4444, 'crucial': 1068, 'uneven': 4649, 'numbers': 3061, 'pays': 3218, 'wonderfully': 4929, 'gritty': 1977, '2003': 33, 'bands': 392, 'wound': 4960, 'adults': 126, 'buck': 605, 'styles': 4250, 'depressed': 1187, 'teenager': 4390, 'fay': 1674, 'grim': 1974, 'indie': 2276, 'ginger': 1908, 'jeff': 2390, 'delight': 1167, 'portrays': 3344, 'pleased': 3305, '90': 60, 'charlotte': 766, 'fifteen': 1706, 'enemy': 1477, 'eat': 1411, 'godfather': 1927, 'reasonable': 3558, 'blowing': 515, 'wallace': 4782, 'joan': 2404, 'mask': 2752, 'plastic': 3294, 'oz': 3160, 'cgi': 740, 'aunt': 355, 'beast': 422, 'artistic': 308, 'presumably': 3380, 'lacks': 2505, 'scope': 3821, 'buildings': 616, 'passing': 3204, 'insight': 2298, 'potentially': 3356, 'tedious': 4387, 'incomprehensible': 2267, 'ford': 1789, 'sleeping': 4025, 'chair': 742, 'stock': 4193, 'ed': 1415, 'wood': 4933, 'emotions': 1461, 'waitress': 4773, 'presents': 3377, 'dignity': 1252, 'signs': 3973, 'occasional': 3074, 'empathy': 1462, 'incident': 2260, 'walked': 4776, 'shed': 3924, 'stale': 4141, 'drop': 1369, 'holding': 2130, 'nuts': 3064, 'drive': 1363, 'explore': 1594, 'mini': 2854, 'bright': 581, 'modesty': 2883, 'charge': 761, 'gangsters': 1869, 'planned': 3290, 'introduce': 2336, 'education': 1424, 'pulp': 3465, 'brutally': 604, 'includes': 2263, 'nudity': 3059, 'understood': 4647, 'ashamed': 312, 'ireland': 2352, 'dealing': 1136, 'montage': 2894, 'extended': 1604, 'singer': 3993, 'via': 4726, 'awake': 365, 'satisfy': 3790, 'candy': 668, 'topless': 4527, 'demand': 1174, 'montana': 2895, 'desire': 1205, 'highest': 2102, 'pacino': 3164, 'greed': 1968, 'lust': 2689, 'streets': 4217, 'dialog': 1232, 'michelle': 2830, 'waters': 4817, 'faced': 1617, 'ambitious': 211, 'oliver': 3102, 'saga': 3773, 'wolf': 4920, 'memory': 2804, 'shortly': 3947, 'compelling': 916, 'rat': 3525, 'morris': 2908, 'arrested': 298, 'hearing': 2063, 'drag': 1342, 'escaped': 1518, 'aliens': 184, 'intentionally': 2320, 'fatal': 1664, 'chaos': 755, 'poetry': 3314, 'joey': 2408, 'grab': 1949, 'nail': 2957, 'sucks': 4271, 'crowd': 1067, 'wins': 4899, 'championship': 745, 'kennedy': 2454, 'reaction': 3541, 'unreal': 4676, 'ashley': 313, 'letting': 2583, 'chaplin': 756, 'lacked': 2503, 'exceptionally': 1559, 'sneak': 4043, 'chased': 770, 'benefit': 465, 'creatures': 1046, 'prom': 3429, 'lou': 2663, 'justin': 2440, 'louis': 2665, 'russian': 3762, 'entry': 1504, 'soviet': 4089, 'destruction': 1216, 'daring': 1114, 'truck': 4595, 'curious': 1083, 'enemies': 1476, 'damage': 1099, 'requires': 3642, 'button': 639, 'graphics': 1959, 'translation': 4562, 'desired': 1206, 'mistakes': 2873, 'gain': 1863, 'frustration': 1843, 'contrast': 975, 'useful': 4694, 'countries': 1013, 'favorites': 1672, 'narration': 2965, 'wake': 4774, 'morning': 2906, 'fix': 1744, 'dress': 1357, 'reputation': 3640, 'maker': 2714, 'movements': 2924, 'sloppy': 4030, 'simplistic': 3985, 'morality': 2903, 'standards': 4145, 'tad': 4347, 'lloyd': 2630, 'le': 2544, 'hiding': 2099, 'raised': 3508, 'naked': 2959, 'dust': 1388, 'widow': 4883, 'fonda': 1777, 'trust': 4598, 'credible': 1048, 'consistent': 953, 'method': 2824, 'quiet': 3492, 'centers': 734, 'fictional': 1703, 'surrounding': 4319, 'creep': 1051, 'clues': 865, 'revelation': 3674, 'tortured': 4530, 'rogers': 3725, 'museum': 2945, 'display': 1291, 'mile': 2842, 'jon': 2416, 'upset': 4687, 'pitt': 3280, 'bargain': 400, 'portion': 3338, 'chicks': 787, 'nowhere': 3056, 'glad': 1916, '2007': 37, 'seventies': 3904, 'meaningful': 2781, 'woods': 4935, 'randomly': 3515, 'wandering': 4785, 'credibility': 1047, 'dolls': 1316, 'indian': 2274, 'beats': 426, 'shirt': 3937, 'chest': 784, 'forty': 1807, 'thrilling': 4474, 'pretentious': 3383, 'inappropriate': 2259, 'artists': 309, 'forest': 1791, 'spirits': 4115, 'cousin': 1021, 'guts': 1999, 'breasts': 572, 'opened': 3113, 'causing': 726, 'cameo': 657, 'unoriginal': 4673, 'stress': 4220, 'issue': 2364, 'ii': 2226, 'edward': 1426, 'bride': 577, 'companion': 909, 'nostalgic': 3039, 'corner': 996, 'sentimental': 3882, 'sue': 4274, 'basement': 405, 'poverty': 3357, 'channels': 754, 'synopsis': 4344, 'skill': 4013, 'inspiring': 2302, 'cuba': 1075, 'reporter': 3636, 'blah': 496, 'anne': 246, 'doc': 1303, 'magazine': 2701, 'heroic': 2090, 'combat': 882, 'ron': 3734, 'eva': 1531, 'lake': 2509, 'bell': 458, 'psychic': 3456, 'grave': 1962, 'rental': 3627, '1996': 26, 'hart': 2041, '1990': 24, 'thomas': 4458, 'fired': 1735, 'virginia': 4750, 'gene': 1879, 'leslie': 2574, 'alongside': 196, 'nowadays': 3055, 'purple': 3473, 'racist': 3503, 'commit': 904, 'boxing': 556, 'claimed': 829, 'mickey': 2831, 'attitudes': 347, 'campbell': 663, 'germany': 1898, 'screenwriter': 3833, 'discovered': 1280, 'nazis': 2978, 'purely': 3472, 'degree': 1164, 'staring': 4152, 'meeting': 2794, 'cynical': 1093, 'chicago': 785, 'invasion': 2340, 'threat': 4467, 'walker': 4778, 'hitting': 2126, 'videos': 4734, 'claire': 831, 'rendition': 3625, 'los': 2653, 'angeles': 233, 'admire': 121, 'cage': 645, 'vaguely': 4706, 'promise': 3430, 'miracle': 2860, 'identify': 2216, 'corruption': 1002, 'reach': 3536, 'eaten': 1412, 'discuss': 1283, 'helping': 2081, 'paulie': 3215, 'hopefully': 2157, 'produce': 3413, 'parent': 3187, 'vast': 4716, 'earl': 1398, '1960s': 15, 'guilt': 1994, 'mild': 2839, 'achieved': 93, 'cinemas': 817, 'succeeded': 4263, 'comparing': 913, 'britain': 588, 'represented': 3638, 'anderson': 227, '1984': 23, 'dickens': 1240, 'valuable': 4708, 'lesson': 2577, 'projects': 3428, 'frame': 1815, 'sharp': 3922, 'inane': 2258, 'ordinary': 3128, 'bears': 421, 'toilet': 4512, 'mere': 2814, 'limited': 2606, 'sarah': 3785, 'humour': 2194, 'member': 2800, 'increasingly': 2268, 'fond': 1776, 'occasionally': 3075, 'voices': 4763, 'whenever': 4863, 'fourth': 1813, 'costs': 1004, 'youth': 4994, 'subsequent': 4257, 'boom': 537, 'guilty': 1995, 'cary': 706, 'warren': 4801, 'strip': 4228, 'beatty': 427, 'al': 170, 'sing': 3992, 'stephen': 4176, 'dedicated': 1153, 'atmospheric': 334, 'lips': 2615, 'jaws': 2385, 'cultural': 1078, 'asking': 318, 'ears': 1402, 'lifestyle': 2593, 'asleep': 320, 'spell': 4104, 'bakshi': 386, 'effectively': 1430, 'photo': 3257, 'designs': 1204, 'choreographed': 801, 'delivery': 1173, 'obsession': 3070, 'showcase': 3954, 'progresses': 3426, 'flesh': 1753, 'virus': 4752, 'unwatchable': 4682, 'illogical': 2231, 'exceptional': 1558, 'serves': 3895, 'india': 2273, 'thumbs': 4485, 'intrigued': 2334, 'suitable': 4285, 'largely': 2518, 'judy': 2426, 'spring': 4134, 'guide': 1993, 'revealed': 3671, 'chain': 741, 'progress': 3425, 'mature': 2773, 'miserably': 2864, 'spoke': 4125, 'pushed': 3478, 'description': 1197, 'hitler': 2124, 'simon': 3982, 'sentence': 3881, 'captured': 677, '1983': 22, 'dvds': 1392, 'miller': 2846, 'blair': 497, 'core': 995, 'clothing': 861, '1933': 12, 'mars': 2746, 'inevitable': 2282, 'spain': 4091, 'facing': 1620, 'intrigue': 2333, 'dreary': 1356, 'dynamic': 1394, 'duty': 1390, 'bobby': 525, 'enterprise': 1495, 'chases': 771, 'analysis': 224, 'harsh': 2040, 'relation': 3595, 'environment': 1505, 'masterpieces': 2760, 'bacall': 377, 'ridden': 3691, 'compelled': 915, 'convey': 982, 'thief': 4448, 'criticism': 1063, 'broad': 590, 'lyrics': 2692, 'onto': 3111, 'bull': 619, 'raising': 3509, 'australia': 356, 'coach': 868, 'abysmal': 76, 'catholic': 720, 'limits': 2607, 'views': 4742, 'surface': 4310, 'segments': 3868, 'sitcom': 4004, 'farce': 1654, 'lol': 2640, 'base': 402, 'endearing': 1469, 'kissing': 2484, 'conversations': 981, 'host': 2173, 'packed': 3166, 'clips': 852, 'sky': 4017, 'chooses': 800, 'happiness': 2031, 'laid': 2508, 'matches': 2764, 'genres': 1889, 'notes': 3046, 'restaurant': 3658, 'photos': 3261, 'mill': 2845, 'stated': 4161, 'stilted': 4190, 'sean': 3840, 'choreography': 802, 'sincere': 3991, 'ballet': 389, 'atlantis': 332, 'empire': 1464, 'wear': 4830, 'flies': 1756, 'stargate': 4151, 'wide': 4880, 'doubts': 1333, 'france': 1816, 'patients': 3212, 'buried': 624, 'angels': 234, 'hired': 2117, 'snow': 4045, 'stinker': 4191, 'lousy': 2667, 'wannabe': 4787, 'imitation': 2241, 'prevent': 3385, 'spite': 4117, 'bela': 450, 'roy': 3745, 'pointed': 3317, 'explosions': 1597, 'performs': 3234, 'stooges': 4200, 'offered': 3088, 'advance': 127, 'themes': 4434, 'symbolism': 4341, 'lion': 2614, 'impress': 2250, 'crush': 1072, 'unforgettable': 4652, 'tomatoes': 4515, 'rotten': 3740, 'loosely': 2651, 'lucas': 2680, 'inferior': 2285, 'carrie': 697, 'iii': 2227, 'defeat': 1157, 'embarrassing': 1454, 'cheated': 775, 'connect': 944, 'link': 2613, 'orange': 3125, 'familys': 1646, 'affected': 137, 'specific': 4099, 'generated': 1882, 'hugh': 2186, 'willing': 4889, '25': 40, 'responsibility': 3655, 'landing': 2512, 'viewed': 4737, 'study': 4242, 'cats': 721, 'eddie': 1416, 'adventures': 131, 'sin': 3988, 'ticket': 4487, 'purchased': 3470, 'blatant': 502, 'mainstream': 2709, 'accidentally': 85, 'unseen': 4678, 'priest': 3392, 'mob': 2879, 'sides': 3967, 'boot': 538, 'connected': 945, 'user': 4696, 'suffer': 4275, 'harris': 2038, 'baker': 385, 'stellar': 4174, 'superhero': 4299, 'selfish': 3870, 'faults': 1669, 'performer': 3231, 'cowboy': 1025, 'hills': 2109, 'firstly': 1737, 'abandoned': 62, 'tradition': 4549, 'importantly': 2248, 'jobs': 2406, 'instantly': 2306, 'pile': 3275, 'shorts': 3948, 'scottish': 3825, 'jewish': 2401, 'cringe': 1059, 'arrogant': 303, 'jamie': 2379, 'initial': 2290, 'species': 4098, 'misses': 2868, 'reflection': 3585, 'spoiled': 4122, 'suffice': 4279, 'sole': 4055, 'rule': 3753, 'river': 3707, 'prostitute': 3440, 'destiny': 1212, 'imagined': 2239, 'gandhi': 1866, 'banned': 395, 'winner': 4897, 'satisfied': 3789, 'stolen': 4195, 'likewise': 2603, 'titanic': 4503, 'sutherland': 4333, 'stood': 4199, 'homer': 2144, 'football': 1783, 'blind': 506, 'berlin': 467, 'picking': 3267, 'hudson': 2184, '2002': 32, 'instinct': 2308, 'catherine': 719, 'fred': 1825, 'diamond': 1236, 'push': 3477, 'existed': 1570, 'maintain': 2710, 'smaller': 4034, 'switch': 4339, 'struggling': 4236, 'resemblance': 3645, 'marie': 2737, 'kingdom': 2480, 'variety': 4714, 'widely': 4881, 'creator': 1043, 'incoherent': 2265, 'bang': 393, 'digital': 1251, 'displays': 1293, 'annie': 247, 'dub': 1378, 'diane': 1238, 'ear': 1397, 'poignant': 3315, 'uninspired': 4657, 'gerard': 1895, 'elderly': 1440, 'strangers': 4214, 'wave': 4818, 'punishment': 3467, 'uncomfortable': 4637, 'rid': 3690, 'angel': 231, 'fox': 1814, 'bite': 489, 'smiling': 4037, 'distinct': 1296, 'displayed': 1292, 'nonsensical': 3031, 'enters': 1496, 'pregnant': 3369, 'fallen': 1638, 'jumping': 2431, 'jumped': 2430, 'cinematic': 818, 'moody': 2899, 'seed': 3856, 'devils': 1229, 'eyed': 1612, 'loss': 2659, 'performed': 3230, 'georges': 1894, 'barry': 401, 'piano': 3264, 'emily': 1456, 'intimate': 2331, 'chess': 783, 'border': 539, 'flaw': 1749, 'buddy': 609, 'demon': 1177, 'hung': 2197, 'terrorists': 4414, 'enter': 1494, 'specifically': 4100, 'mountains': 2918, 'dalton': 1098, 'phony': 3256, 'pretend': 3381, 'segment': 3867, 'countless': 1012, 'scenario': 3808, 'beer': 439, 'spin': 4112, 'sucked': 4270, 'breath': 573, 'colonel': 876, 'disease': 1285, 'melting': 2799, 'feed': 1683, 'drink': 1361, 'turning': 4608, 'rick': 3689, 'commented': 900, 'achievement': 94, 'witness': 4914, 'abc': 63, 'bette': 471, 'suited': 4286, 'accused': 91, 'dig': 1250, 'justify': 2439, 'beating': 425, 'glass': 1917, 'hal': 2006, 'secrets': 3852, 'drunk': 1375, 'grandmother': 1955, 'sir': 4000, 'march': 2734, 'plausible': 3295, 'doctors': 1305, 'risk': 3704, 'evident': 1547, 'lincoln': 2608, 'exists': 1573, 'stronger': 4230, 'stole': 4194, 'coherent': 871, 'khan': 2459, 'recognition': 3568, 'staying': 4168, 'bugs': 613, 'pursuit': 3476, 'official': 3094, 'dozens': 1339, 'consistently': 954, 'gentle': 1890, 'involvement': 2347, 'developing': 1224, 'investigation': 2343, 'doom': 1326, 'bud': 607, 'tense': 4403, 'proceedings': 3410, 'susan': 4326, 'acid': 95, 'lifetime': 2594, 'hop': 2154, 'st': 4137, 'sun': 4292, 'sacrifice': 3766, 'commercials': 903, 'fulci': 1845, 'medium': 2792, 'revolves': 3682, 'parties': 3196, 'decades': 1145, 'walls': 4783, 'lane': 2515, 'wishing': 4907, 'wanting': 4790, 'elm': 1447, 'fx': 1858, 'distant': 1295, 'fooled': 1780, 'capital': 673, 'flying': 1764, 'splatter': 4118, 'dry': 1377, 'notably': 3042, 'actresses': 106, 'simmons': 3981, 'cliff': 847, 'blank': 501, 'aging': 153, 'deeper': 1155, 'basketball': 409, 'endure': 1475, 'teens': 4392, 'neat': 2982, 'freeman': 1829, '80': 58, 'vegas': 4717, 'considerable': 950, 'explaining': 1588, 'instant': 2305, 'critic': 1061, 'priceless': 3390, 'punch': 3466, 'donna': 1323, 'shelf': 3926, 'alexander': 180, 'dubbed': 1379, 'technology': 4385, 'abilities': 64, 'destroying': 1215, 'cook': 988, 'treats': 4575, 'granted': 1957, 'sunshine': 4294, 'taxi': 4371, 'trailers': 4555, 'em': 1452, 'believes': 456, 'plight': 3308, 'mentions': 2813, 'outcome': 3142, 'crude': 1069, 'practice': 3363, 'itll': 2369, 'todd': 4510, 'rambo': 3511, 'willis': 4890, 'pulling': 3463, 'con': 928, 'served': 3894, 'dressing': 1359, 'cleverly': 842, 'selling': 3873, 'wayne': 4821, 'amy': 222, 'adams': 112, 'cards': 683, 'delivering': 1171, 'australian': 357, 'rangers': 3517, 'brenda': 575, 'survived': 4322, 'neighborhood': 2993, 'activities': 102, 'soccer': 4048, 'teaching': 4377, 'joseph': 2419, 'trashy': 4566, 'sum': 4289, 'thugs': 4484, 'visit': 4755, 'hank': 2024, 'belong': 459, 'bollywood': 530, 'notorious': 3051, 'bettie': 473, 'combine': 884, 'homosexual': 2145, 'wives': 4918, 'clumsy': 866, 'ya': 4976, 'vice': 4727, 'concerns': 934, 'outfit': 3144, 'disneys': 1290, 'april': 284, 'yellow': 4981, '1940s': 13, 'julia': 2427, 'isolated': 2363, 'listening': 2620, 'sexually': 3910, 'condition': 937, 'outrageous': 3145, 'afford': 138, 'enjoys': 1489, 'grasp': 1960, '2001': 31, 'awfully': 373, 'reed': 3580, 'margaret': 2735, 'tame': 4363, 'murderer': 2941, 'knock': 2488, 'victoria': 4732, 'relatives': 3601, 'arrives': 302, 'map': 2733, 'experiments': 1584, 'interviews': 2330, 'germans': 1897, 'ho': 2127, 'jerry': 2396, 'whale': 4857, 'liking': 2604, 'explored': 1595, 'pink': 3277, '20th': 38, 'string': 4227, 'futuristic': 1857, 'perfection': 3225, 'curiosity': 1082, 'awe': 370, 'revolutionary': 3681, 'enthusiasm': 1501, 'engage': 1479, 'noble': 3021, 'steps': 4177, 'der': 1191, 'resident': 3647, 'strikes': 4225, 'olivier': 3103, 'importance': 2246, 'lemmon': 2567, 'heston': 2094, 'burning': 627, 'tied': 4489, 'sally': 3776, 'convince': 983, 'lynch': 2691, 'astaire': 330, 'dealt': 1138, 'rocket': 3721, 'ego': 1435, 'dennis': 1179, 'hopper': 2161, 'attend': 344, 'stevens': 4183, 'ensues': 1493, 'producing': 3417, 'encounter': 1466, 'trap': 4563, 'friday': 1834, 'clip': 851, 'kings': 2481, 'estate': 1525, 'catching': 716, 'greedy': 1969, 'relations': 3596, 'precious': 3366, 'guessed': 1990, 'tonight': 4519, 'juvenile': 2441, 'fury': 1855, 'midnight': 2834, 'duke': 1383, 'hunters': 2200, 'sport': 4129, 'demented': 1176, 'catchy': 717, 'trail': 4553, 'attorney': 348, 'hanks': 2025, 'seagal': 3839, 'horrifying': 2167, 'row': 3744, 'couples': 1017, 'website': 4834, 'china': 795, 'frequent': 1831, 'wrapped': 4964, 'betty': 474, 'attached': 336, 'johnson': 2411, 'monkeys': 2891, 'improvement': 2256, 'cinematographer': 819, 'tricks': 4583, 'mtv': 2933, 'floating': 1758, 'testament': 4417, 'wasting': 4810, 'tales': 4357, 'leg': 2562, 'temple': 4398, 'sid': 3964, 'simpson': 3987, 'blond': 510, 'screens': 3832, 'literature': 2623, 'iron': 2354, 'junior': 2435, 'swim': 4337, 'canada': 666, 'pie': 3271, 'format': 1799, 'signed': 3971, 'burton': 630, 'ken': 2453, 'destroyed': 1214, 'joined': 2413, 'rank': 3518, 'cure': 1081, 'incompetent': 2266, '16': 8, 'alert': 178, 'pearl': 3220, 'global': 1920, 'gray': 1963, 'farm': 1656, 'shirley': 3936, 'opportunities': 3120, 'resulting': 3661, 'authentic': 358, 'singers': 3994, 'gabriel': 1859, 'paltrow': 3178, 'understated': 4646, 'hopeless': 2158, 'obscure': 3068, 'population': 3335, 'bergman': 466, 'wendy': 4846, 'bedroom': 437, 'tune': 4602, 'patrick': 3213, 'ships': 3935, 'exposure': 1599, 'gods': 1928, 'che': 773, 'disagree': 1269, 'merits': 2817, 'circle': 821, 'sixties': 4011, 'hitchcock': 2123, 'sullivan': 4288, 'attraction': 350, 'rooms': 3736, 'wrap': 4963, 'audio': 354, 'cheating': 776, 'iran': 2350, 'bleak': 503, 'liners': 2611, 'iraq': 2351, 'nicholas': 3010, 'jesse': 2397, 'landscape': 2513, 'sandra': 3782, 'mysteries': 2954, 'molly': 2884, 'bath': 411, 'eighties': 1437, 'slaughter': 4021, 'apes': 267, 'forbidden': 1785, 'stretch': 4221, 'relative': 3599, 'robots': 3718, 'landscapes': 2514, 'uwe': 4703, 'boll': 529, 'tiger': 4491, 'airplane': 166, 'husbands': 2205, 'helicopter': 2076, 'threw': 4470, 'slave': 4022, 'removed': 3624, 'shake': 3914, 'cusack': 1088, 'racism': 3502, 'leonard': 2572, '1973': 19, 'burned': 626, 'twins': 4616, 'samurai': 3779, 'plant': 3293, 'significant': 3972, 'edition': 1422, 'returning': 3667, 'pig': 3274, 'improve': 2254, 'caine': 647, 'investigate': 2342, 'roots': 3738, 'subplot': 4255, 'peters': 3248, 'ritter': 3705, 'subplots': 4256, 'monkey': 2890, 'diana': 1237, 'survival': 4320, 'survivor': 4324, 'unpredictable': 4675, 'relatively': 3600, 'amitabh': 216, 'phantom': 3251, 'pal': 3177, 'ninja': 3018, 'tiresome': 4502, 'indians': 2275, 'shoots': 3944, 'streep': 4215, 'bumbling': 622, 'unpleasant': 4674, 'rocky': 3723, 'warming': 4795, 'rough': 3741, 'reel': 3581, 'health': 2060, 'vicious': 4728, 'mundane': 2938, 'goodness': 1938, 'shoes': 3941, 'distribution': 1298, 'suggested': 4281, 'mail': 2706, 'tremendous': 4579, 'closet': 858, 'yesterday': 4983, 'block': 508, 'jet': 2400, 'amongst': 218, 'dave': 1123, 'detailed': 1218, 'decisions': 1152, 'anna': 245, 'conceived': 929, 'fed': 1682, 'blues': 519, 'buddies': 608, 'kubrick': 2496, 'valley': 4707, 'angela': 232, 'rabbit': 3498, 'andrew': 228, 'andrews': 229, 'pops': 3332, 'blob': 507, 'integrity': 2311, 'jerk': 2395, 'voiced': 4762, 'jenny': 2393, 'hbo': 2055, 'holly': 2136, 'driver': 1366, 'li': 2587, 'religion': 3607, 'brando': 566, 'slick': 4026, 'polanski': 3321, 'hippie': 2115, '13th': 5, 'returned': 3666, 'laura': 2536, 'prisoners': 3403, 'ward': 4793, 'voight': 4764, 'jake': 2377, 'faster': 1662, 'lone': 2642, 'minimal': 2855, 'comics': 895, 'stan': 4142, 'advise': 134, 'flynn': 1765, 'bourne': 554, 'carradine': 695, 'ridiculously': 3694, 'classical': 836, 'foul': 1810, 'glover': 1923, 'brooklyn': 595, 'craig': 1030, 'waves': 4819, 'carl': 692, 'transfer': 4559, 'letters': 2582, 'columbo': 881, 'threatening': 4468, 'carrey': 696, 'corpse': 999, 'stones': 4198, 'drunken': 1376, 'felix': 1689, 'miserable': 2863, 'pseudo': 3454, 'consists': 955, 'irrelevant': 2358, 'hardy': 2037, 'expressed': 1601, 'rolled': 3729, 'mann': 2728, 'artificial': 306, 'agreed': 156, 'mayor': 2777, 'davies': 1125, 'frankenstein': 1822, 'eyre': 1614, 'rochester': 3719, 'bo': 521, 'shark': 3921, 'wells': 4845, 'deaf': 1134, 'sounding': 4083, 'niro': 3019, 'mafia': 2700, 'franco': 1820, 'sits': 4006, 'laurel': 2537, 'miike': 2837, 'catches': 715, 'mario': 2738, 'gadget': 1860, 'scooby': 3820, 'mildred': 2841, 'gundam': 1997, 'marty': 2749, 'kapoor': 2443}\n"
     ]
    }
   ],
   "source": [
    "print(str(vocabulary))"
   ]
  },
  {
   "cell_type": "markdown",
   "metadata": {},
   "source": [
    "Once you have added the endpoint name to the Lambda function, click on **Save**. Your Lambda function is now up and running. Next we need to create a way for our web app to execute the Lambda function."
   ]
  },
  {
   "cell_type": "markdown",
   "metadata": {},
   "source": [
    "### Setting up API Gateway\n",
    "\n",
    "Now that our Lambda function is set up, it is time to create a new API using API Gateway that will trigger the Lambda function we have just created.\n",
    "\n",
    "Using AWS Console, navigate to **Amazon API Gateway** and then click on **Get started**.\n",
    "\n",
    "On the next page, make sure that **New API** is selected and give the new api a name, for example, `sentiment_analysis_web_app`. Then, click on **Create API**.\n",
    "\n",
    "Now we have created an API, however it doesn't currently do anything. What we want it to do is to trigger the Lambda function that we created earlier.\n",
    "\n",
    "Select the **Actions** dropdown menu and click **Create Method**. A new blank method will be created, select its dropdown menu and select **POST**, then click on the check mark beside it.\n",
    "\n",
    "For the integration point, make sure that **Lambda Function** is selected and click on the **Use Lambda Proxy integration**. This option makes sure that the data that is sent to the API is then sent directly to the Lambda function with no processing. It also means that the return value must be a proper response object as it will also not be processed by API Gateway.\n",
    "\n",
    "Type the name of the Lambda function you created earlier into the **Lambda Function** text entry box and then click on **Save**. Click on **OK** in the pop-up box that then appears, giving permission to API Gateway to invoke the Lambda function you created.\n",
    "\n",
    "The last step in creating the API Gateway is to select the **Actions** dropdown and click on **Deploy API**. You will need to create a new Deployment stage and name it anything you like, for example `prod`.\n",
    "\n",
    "You have now successfully set up a public API to access your SageMaker model. Make sure to copy or write down the URL provided to invoke your newly created public API as this will be needed in the next step. This URL can be found at the top of the page, highlighted in blue next to the text **Invoke URL**."
   ]
  },
  {
   "cell_type": "markdown",
   "metadata": {},
   "source": [
    "## Step 7: Deploying our web app\n",
    "\n",
    "Now that we have a publicly available API, we can start using it in a web app. For our purposes, we have provided a simple static html file which can make use of the public api you created earlier.\n",
    "\n",
    "In the `website` folder there should be a file called `index.html`. Download the file to your computer and open that file up in a text editor of your choice. There should be a line which contains **\\*\\*REPLACE WITH PUBLIC API URL\\*\\***. Replace this string with the url that you wrote down in the last step and then save the file.\n",
    "\n",
    "Now, if you open `index.html` on your local computer, your browser will behave as a local web server and you can use the provided site to interact with your SageMaker model.\n",
    "\n",
    "If you'd like to go further, you can host this html file anywhere you'd like, for example using github or hosting a static site on Amazon's S3. Once you have done this you can share the link with anyone you'd like and have them play with it too!\n",
    "\n",
    "> **Important Note** In order for the web app to communicate with the SageMaker endpoint, the endpoint has to actually be deployed and running. This means that you are paying for it. Make sure that the endpoint is running when you want to use the web app but that you shut it down when you don't need it, otherwise you will end up with a surprisingly large AWS bill."
   ]
  },
  {
   "cell_type": "markdown",
   "metadata": {},
   "source": [
    "### Delete the endpoint\n",
    "\n",
    "Remember to always shut down your endpoint if you are no longer using it. You are charged for the length of time that the endpoint is running so if you forget and leave it on you could end up with an unexpectedly large bill."
   ]
  },
  {
   "cell_type": "code",
   "execution_count": 49,
   "metadata": {},
   "outputs": [],
   "source": [
    "xgb_predictor.delete_endpoint()"
   ]
  },
  {
   "cell_type": "markdown",
   "metadata": {},
   "source": [
    "## Optional: Clean up\n",
    "\n",
    "The default notebook instance on SageMaker doesn't have a lot of excess disk space available. As you continue to complete and execute notebooks you will eventually fill up this disk space, leading to errors which can be difficult to diagnose. Once you are completely finished using a notebook it is a good idea to remove the files that you created along the way. Of course, you can do this from the terminal or from the notebook hub if you would like. The cell below contains some commands to clean up the created files from within the notebook."
   ]
  },
  {
   "cell_type": "code",
   "execution_count": 53,
   "metadata": {},
   "outputs": [
    {
     "ename": "OSError",
     "evalue": "[Errno 12] Cannot allocate memory",
     "output_type": "error",
     "traceback": [
      "\u001b[0;31m---------------------------------------------------------------------------\u001b[0m",
      "\u001b[0;31mOSError\u001b[0m                                   Traceback (most recent call last)",
      "\u001b[0;32m<ipython-input-53-2c87d8eefdf2>\u001b[0m in \u001b[0;36m<module>\u001b[0;34m()\u001b[0m\n\u001b[1;32m      1\u001b[0m \u001b[0;31m# First we will remove all of the files contained in the data_dir directory\u001b[0m\u001b[0;34m\u001b[0m\u001b[0;34m\u001b[0m\u001b[0m\n\u001b[0;32m----> 2\u001b[0;31m \u001b[0mget_ipython\u001b[0m\u001b[0;34m(\u001b[0m\u001b[0;34m)\u001b[0m\u001b[0;34m.\u001b[0m\u001b[0msystem\u001b[0m\u001b[0;34m(\u001b[0m\u001b[0;34m'rm $data_dir/*'\u001b[0m\u001b[0;34m)\u001b[0m\u001b[0;34m\u001b[0m\u001b[0m\n\u001b[0m\u001b[1;32m      3\u001b[0m \u001b[0;34m\u001b[0m\u001b[0m\n\u001b[1;32m      4\u001b[0m \u001b[0;31m# And then we delete the directory itself\u001b[0m\u001b[0;34m\u001b[0m\u001b[0;34m\u001b[0m\u001b[0m\n\u001b[1;32m      5\u001b[0m \u001b[0mget_ipython\u001b[0m\u001b[0;34m(\u001b[0m\u001b[0;34m)\u001b[0m\u001b[0;34m.\u001b[0m\u001b[0msystem\u001b[0m\u001b[0;34m(\u001b[0m\u001b[0;34m'rmdir $data_dir'\u001b[0m\u001b[0;34m)\u001b[0m\u001b[0;34m\u001b[0m\u001b[0m\n",
      "\u001b[0;32m~/anaconda3/envs/python3/lib/python3.6/site-packages/IPython/core/interactiveshell.py\u001b[0m in \u001b[0;36msystem_piped\u001b[0;34m(self, cmd)\u001b[0m\n\u001b[1;32m   2259\u001b[0m         \u001b[0;31m# a non-None value would trigger :func:`sys.displayhook` calls.\u001b[0m\u001b[0;34m\u001b[0m\u001b[0;34m\u001b[0m\u001b[0m\n\u001b[1;32m   2260\u001b[0m         \u001b[0;31m# Instead, we store the exit_code in user_ns.\u001b[0m\u001b[0;34m\u001b[0m\u001b[0;34m\u001b[0m\u001b[0m\n\u001b[0;32m-> 2261\u001b[0;31m         \u001b[0mself\u001b[0m\u001b[0;34m.\u001b[0m\u001b[0muser_ns\u001b[0m\u001b[0;34m[\u001b[0m\u001b[0;34m'_exit_code'\u001b[0m\u001b[0;34m]\u001b[0m \u001b[0;34m=\u001b[0m \u001b[0msystem\u001b[0m\u001b[0;34m(\u001b[0m\u001b[0mself\u001b[0m\u001b[0;34m.\u001b[0m\u001b[0mvar_expand\u001b[0m\u001b[0;34m(\u001b[0m\u001b[0mcmd\u001b[0m\u001b[0;34m,\u001b[0m \u001b[0mdepth\u001b[0m\u001b[0;34m=\u001b[0m\u001b[0;36m1\u001b[0m\u001b[0;34m)\u001b[0m\u001b[0;34m)\u001b[0m\u001b[0;34m\u001b[0m\u001b[0m\n\u001b[0m\u001b[1;32m   2262\u001b[0m \u001b[0;34m\u001b[0m\u001b[0m\n\u001b[1;32m   2263\u001b[0m     \u001b[0;32mdef\u001b[0m \u001b[0msystem_raw\u001b[0m\u001b[0;34m(\u001b[0m\u001b[0mself\u001b[0m\u001b[0;34m,\u001b[0m \u001b[0mcmd\u001b[0m\u001b[0;34m)\u001b[0m\u001b[0;34m:\u001b[0m\u001b[0;34m\u001b[0m\u001b[0m\n",
      "\u001b[0;32m~/anaconda3/envs/python3/lib/python3.6/site-packages/IPython/utils/_process_posix.py\u001b[0m in \u001b[0;36msystem\u001b[0;34m(self, cmd)\u001b[0m\n\u001b[1;32m    154\u001b[0m                 \u001b[0mchild\u001b[0m \u001b[0;34m=\u001b[0m \u001b[0mpexpect\u001b[0m\u001b[0;34m.\u001b[0m\u001b[0mspawnb\u001b[0m\u001b[0;34m(\u001b[0m\u001b[0mself\u001b[0m\u001b[0;34m.\u001b[0m\u001b[0msh\u001b[0m\u001b[0;34m,\u001b[0m \u001b[0margs\u001b[0m\u001b[0;34m=\u001b[0m\u001b[0;34m[\u001b[0m\u001b[0;34m'-c'\u001b[0m\u001b[0;34m,\u001b[0m \u001b[0mcmd\u001b[0m\u001b[0;34m]\u001b[0m\u001b[0;34m)\u001b[0m \u001b[0;31m# Pexpect-U\u001b[0m\u001b[0;34m\u001b[0m\u001b[0m\n\u001b[1;32m    155\u001b[0m             \u001b[0;32melse\u001b[0m\u001b[0;34m:\u001b[0m\u001b[0;34m\u001b[0m\u001b[0m\n\u001b[0;32m--> 156\u001b[0;31m                 \u001b[0mchild\u001b[0m \u001b[0;34m=\u001b[0m \u001b[0mpexpect\u001b[0m\u001b[0;34m.\u001b[0m\u001b[0mspawn\u001b[0m\u001b[0;34m(\u001b[0m\u001b[0mself\u001b[0m\u001b[0;34m.\u001b[0m\u001b[0msh\u001b[0m\u001b[0;34m,\u001b[0m \u001b[0margs\u001b[0m\u001b[0;34m=\u001b[0m\u001b[0;34m[\u001b[0m\u001b[0;34m'-c'\u001b[0m\u001b[0;34m,\u001b[0m \u001b[0mcmd\u001b[0m\u001b[0;34m]\u001b[0m\u001b[0;34m)\u001b[0m  \u001b[0;31m# Vanilla Pexpect\u001b[0m\u001b[0;34m\u001b[0m\u001b[0m\n\u001b[0m\u001b[1;32m    157\u001b[0m             \u001b[0mflush\u001b[0m \u001b[0;34m=\u001b[0m \u001b[0msys\u001b[0m\u001b[0;34m.\u001b[0m\u001b[0mstdout\u001b[0m\u001b[0;34m.\u001b[0m\u001b[0mflush\u001b[0m\u001b[0;34m\u001b[0m\u001b[0m\n\u001b[1;32m    158\u001b[0m             \u001b[0;32mwhile\u001b[0m \u001b[0;32mTrue\u001b[0m\u001b[0;34m:\u001b[0m\u001b[0;34m\u001b[0m\u001b[0m\n",
      "\u001b[0;32m~/anaconda3/envs/python3/lib/python3.6/site-packages/pexpect/pty_spawn.py\u001b[0m in \u001b[0;36m__init__\u001b[0;34m(self, command, args, timeout, maxread, searchwindowsize, logfile, cwd, env, ignore_sighup, echo, preexec_fn, encoding, codec_errors, dimensions, use_poll)\u001b[0m\n\u001b[1;32m    202\u001b[0m             \u001b[0mself\u001b[0m\u001b[0;34m.\u001b[0m\u001b[0mname\u001b[0m \u001b[0;34m=\u001b[0m \u001b[0;34m'<pexpect factory incomplete>'\u001b[0m\u001b[0;34m\u001b[0m\u001b[0m\n\u001b[1;32m    203\u001b[0m         \u001b[0;32melse\u001b[0m\u001b[0;34m:\u001b[0m\u001b[0;34m\u001b[0m\u001b[0m\n\u001b[0;32m--> 204\u001b[0;31m             \u001b[0mself\u001b[0m\u001b[0;34m.\u001b[0m\u001b[0m_spawn\u001b[0m\u001b[0;34m(\u001b[0m\u001b[0mcommand\u001b[0m\u001b[0;34m,\u001b[0m \u001b[0margs\u001b[0m\u001b[0;34m,\u001b[0m \u001b[0mpreexec_fn\u001b[0m\u001b[0;34m,\u001b[0m \u001b[0mdimensions\u001b[0m\u001b[0;34m)\u001b[0m\u001b[0;34m\u001b[0m\u001b[0m\n\u001b[0m\u001b[1;32m    205\u001b[0m         \u001b[0mself\u001b[0m\u001b[0;34m.\u001b[0m\u001b[0muse_poll\u001b[0m \u001b[0;34m=\u001b[0m \u001b[0muse_poll\u001b[0m\u001b[0;34m\u001b[0m\u001b[0m\n\u001b[1;32m    206\u001b[0m \u001b[0;34m\u001b[0m\u001b[0m\n",
      "\u001b[0;32m~/anaconda3/envs/python3/lib/python3.6/site-packages/pexpect/pty_spawn.py\u001b[0m in \u001b[0;36m_spawn\u001b[0;34m(self, command, args, preexec_fn, dimensions)\u001b[0m\n\u001b[1;32m    301\u001b[0m \u001b[0;34m\u001b[0m\u001b[0m\n\u001b[1;32m    302\u001b[0m         self.ptyproc = self._spawnpty(self.args, env=self.env,\n\u001b[0;32m--> 303\u001b[0;31m                                      cwd=self.cwd, **kwargs)\n\u001b[0m\u001b[1;32m    304\u001b[0m \u001b[0;34m\u001b[0m\u001b[0m\n\u001b[1;32m    305\u001b[0m         \u001b[0mself\u001b[0m\u001b[0;34m.\u001b[0m\u001b[0mpid\u001b[0m \u001b[0;34m=\u001b[0m \u001b[0mself\u001b[0m\u001b[0;34m.\u001b[0m\u001b[0mptyproc\u001b[0m\u001b[0;34m.\u001b[0m\u001b[0mpid\u001b[0m\u001b[0;34m\u001b[0m\u001b[0m\n",
      "\u001b[0;32m~/anaconda3/envs/python3/lib/python3.6/site-packages/pexpect/pty_spawn.py\u001b[0m in \u001b[0;36m_spawnpty\u001b[0;34m(self, args, **kwargs)\u001b[0m\n\u001b[1;32m    312\u001b[0m     \u001b[0;32mdef\u001b[0m \u001b[0m_spawnpty\u001b[0m\u001b[0;34m(\u001b[0m\u001b[0mself\u001b[0m\u001b[0;34m,\u001b[0m \u001b[0margs\u001b[0m\u001b[0;34m,\u001b[0m \u001b[0;34m**\u001b[0m\u001b[0mkwargs\u001b[0m\u001b[0;34m)\u001b[0m\u001b[0;34m:\u001b[0m\u001b[0;34m\u001b[0m\u001b[0m\n\u001b[1;32m    313\u001b[0m         \u001b[0;34m'''Spawn a pty and return an instance of PtyProcess.'''\u001b[0m\u001b[0;34m\u001b[0m\u001b[0m\n\u001b[0;32m--> 314\u001b[0;31m         \u001b[0;32mreturn\u001b[0m \u001b[0mptyprocess\u001b[0m\u001b[0;34m.\u001b[0m\u001b[0mPtyProcess\u001b[0m\u001b[0;34m.\u001b[0m\u001b[0mspawn\u001b[0m\u001b[0;34m(\u001b[0m\u001b[0margs\u001b[0m\u001b[0;34m,\u001b[0m \u001b[0;34m**\u001b[0m\u001b[0mkwargs\u001b[0m\u001b[0;34m)\u001b[0m\u001b[0;34m\u001b[0m\u001b[0m\n\u001b[0m\u001b[1;32m    315\u001b[0m \u001b[0;34m\u001b[0m\u001b[0m\n\u001b[1;32m    316\u001b[0m     \u001b[0;32mdef\u001b[0m \u001b[0mclose\u001b[0m\u001b[0;34m(\u001b[0m\u001b[0mself\u001b[0m\u001b[0;34m,\u001b[0m \u001b[0mforce\u001b[0m\u001b[0;34m=\u001b[0m\u001b[0;32mTrue\u001b[0m\u001b[0;34m)\u001b[0m\u001b[0;34m:\u001b[0m\u001b[0;34m\u001b[0m\u001b[0m\n",
      "\u001b[0;32m~/anaconda3/envs/python3/lib/python3.6/site-packages/ptyprocess/ptyprocess.py\u001b[0m in \u001b[0;36mspawn\u001b[0;34m(cls, argv, cwd, env, echo, preexec_fn, dimensions)\u001b[0m\n\u001b[1;32m    220\u001b[0m \u001b[0;34m\u001b[0m\u001b[0m\n\u001b[1;32m    221\u001b[0m         \u001b[0;32mif\u001b[0m \u001b[0muse_native_pty_fork\u001b[0m\u001b[0;34m:\u001b[0m\u001b[0;34m\u001b[0m\u001b[0m\n\u001b[0;32m--> 222\u001b[0;31m             \u001b[0mpid\u001b[0m\u001b[0;34m,\u001b[0m \u001b[0mfd\u001b[0m \u001b[0;34m=\u001b[0m \u001b[0mpty\u001b[0m\u001b[0;34m.\u001b[0m\u001b[0mfork\u001b[0m\u001b[0;34m(\u001b[0m\u001b[0;34m)\u001b[0m\u001b[0;34m\u001b[0m\u001b[0m\n\u001b[0m\u001b[1;32m    223\u001b[0m         \u001b[0;32melse\u001b[0m\u001b[0;34m:\u001b[0m\u001b[0;34m\u001b[0m\u001b[0m\n\u001b[1;32m    224\u001b[0m             \u001b[0;31m# Use internal fork_pty, for Solaris\u001b[0m\u001b[0;34m\u001b[0m\u001b[0;34m\u001b[0m\u001b[0m\n",
      "\u001b[0;32m~/anaconda3/envs/python3/lib/python3.6/pty.py\u001b[0m in \u001b[0;36mfork\u001b[0;34m()\u001b[0m\n\u001b[1;32m     95\u001b[0m \u001b[0;34m\u001b[0m\u001b[0m\n\u001b[1;32m     96\u001b[0m     \u001b[0mmaster_fd\u001b[0m\u001b[0;34m,\u001b[0m \u001b[0mslave_fd\u001b[0m \u001b[0;34m=\u001b[0m \u001b[0mopenpty\u001b[0m\u001b[0;34m(\u001b[0m\u001b[0;34m)\u001b[0m\u001b[0;34m\u001b[0m\u001b[0m\n\u001b[0;32m---> 97\u001b[0;31m     \u001b[0mpid\u001b[0m \u001b[0;34m=\u001b[0m \u001b[0mos\u001b[0m\u001b[0;34m.\u001b[0m\u001b[0mfork\u001b[0m\u001b[0;34m(\u001b[0m\u001b[0;34m)\u001b[0m\u001b[0;34m\u001b[0m\u001b[0m\n\u001b[0m\u001b[1;32m     98\u001b[0m     \u001b[0;32mif\u001b[0m \u001b[0mpid\u001b[0m \u001b[0;34m==\u001b[0m \u001b[0mCHILD\u001b[0m\u001b[0;34m:\u001b[0m\u001b[0;34m\u001b[0m\u001b[0m\n\u001b[1;32m     99\u001b[0m         \u001b[0;31m# Establish a new session.\u001b[0m\u001b[0;34m\u001b[0m\u001b[0;34m\u001b[0m\u001b[0m\n",
      "\u001b[0;31mOSError\u001b[0m: [Errno 12] Cannot allocate memory"
     ]
    }
   ],
   "source": [
    "# First we will remove all of the files contained in the data_dir directory\n",
    "!rm $data_dir/*\n",
    "\n",
    "# And then we delete the directory itself\n",
    "!rmdir $data_dir\n",
    "\n",
    "# Similarly we remove the files in the cache_dir directory and the directory itself\n",
    "!rm $cache_dir/*\n",
    "!rmdir $cache_dir"
   ]
  },
  {
   "cell_type": "code",
   "execution_count": null,
   "metadata": {},
   "outputs": [],
   "source": []
  }
 ],
 "metadata": {
  "kernelspec": {
   "display_name": "conda_python3",
   "language": "python",
   "name": "conda_python3"
  },
  "language_info": {
   "codemirror_mode": {
    "name": "ipython",
    "version": 3
   },
   "file_extension": ".py",
   "mimetype": "text/x-python",
   "name": "python",
   "nbconvert_exporter": "python",
   "pygments_lexer": "ipython3",
   "version": "3.6.5"
  }
 },
 "nbformat": 4,
 "nbformat_minor": 2
}
